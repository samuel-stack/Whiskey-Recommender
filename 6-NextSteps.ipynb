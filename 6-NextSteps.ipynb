{
 "cells": [
  {
   "cell_type": "markdown",
   "metadata": {},
   "source": [
    "# Next Steps\n",
    "\n",
    "As I learned from my third grade teacher, Mrs. Rugg (it may be \"Rugge\"), you can never be done with something, only finished.  I have accomplished my original goal with this project, however I have a couple ideas about how I can continue to work on this project.\n",
    "\n",
    "\n",
    "### Utilize SVD and LSA to change how data is represented across dimensions.\n",
    "- This recommender uses cosign similarity on count vectorized text, but I was recently exposed to how transforming the text using Truncated Single Value Decomposition and Latent Semantic Analysis, I will come to different recommendations that are based off of the identified vectors.  Basically, rather than comparing word for word similarities, I would be comparing how vector similarities.  \n",
    "\n",
    "------\n",
    "\n",
    "### Utilize reviews provided by users to make recommendations.  \n",
    "- I noticed that individual users on the site I was scraping from used adjectives to describes scotches that were not used in the professional notes, such as \"iodine\" and \"burnt\".  These notes may come off as negative to some, but could also prove to be useful to come to different recommendations. \n",
    "    - A major consideration I have is that individual reviews can be bias based on the users preference (and mood) when writing the review.  However, collecting enough reviews for each observation should allow me to have a core set of reviews that is representative of the majority.\n",
    "    - Another consideration is that the professional reviews could be bias in that these are flavors listed by the distiller or only noticeable to those with advanced pallets.  While one note may be very noticeable in one scotch and extremely subtle in another, those flavors will be treated as equals for being there.  On the other hand, user reviews will probably show higher densities of potent notes and lower densities of subtle notes.\n",
    "    \n",
    "_I initially wanted to gather this data as well, and built my scraper to do so, however after completing the scrape, I realized there was an issue with my scrape which prevented it from grabbing review data.  Upon later inspection, this was a result of having a `return` statement tabbed inside or a `for loop`, instead of outside it._\n",
    "\n",
    "-----\n",
    "\n",
    "### Build out a formal interaction with the recommender system.\n",
    "- It is important to note that because I scraped this data, I do not find it ethical to create a formal application for others or the public to use. I could make it much easier for myself to utilize this system to make recommendations for my friends within a jupyter notebook.  "
   ]
  },
  {
   "cell_type": "markdown",
   "metadata": {},
   "source": []
  },
  {
   "cell_type": "code",
   "execution_count": null,
   "metadata": {
    "collapsed": true
   },
   "outputs": [],
   "source": []
  }
 ],
 "metadata": {
  "kernelspec": {
   "display_name": "Python 3",
   "language": "python",
   "name": "python3"
  },
  "language_info": {
   "codemirror_mode": {
    "name": "ipython",
    "version": 3
   },
   "file_extension": ".py",
   "mimetype": "text/x-python",
   "name": "python",
   "nbconvert_exporter": "python",
   "pygments_lexer": "ipython3",
   "version": "3.7.0"
  }
 },
 "nbformat": 4,
 "nbformat_minor": 2
}
