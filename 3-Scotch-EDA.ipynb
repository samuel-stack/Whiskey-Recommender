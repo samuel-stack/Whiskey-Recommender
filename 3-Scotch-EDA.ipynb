{
 "cells": [
  {
   "cell_type": "markdown",
   "metadata": {},
   "source": [
    "# Scotch Reviews EDA\n",
    "\n",
    "Now that I have gathered some data for scotch reviews, I need to perform my EDA to better understand the data I'm working with.  I'm going to start small and work from there, so for the time being, I'm going to ignore the `'reviews'` column which contains reviews from actual consumers and instead focus on the more consistant information that is non-subjective to the individuals.\n",
    "   - `'taste'`, `'score'`,`'spirit_stype`' and maybe `'country'`.\n",
    "   \n",
    "I'll also use this time to clean up any data issues that I come across."
   ]
  },
  {
   "cell_type": "markdown",
   "metadata": {},
   "source": [
    "![generic scotch image](Images/scotches.jpg)"
   ]
  },
  {
   "cell_type": "code",
   "execution_count": 1,
   "metadata": {
    "collapsed": true
   },
   "outputs": [],
   "source": [
    "import pandas as pd\n",
    "import numpy as np\n",
    "import seaborn as sns\n",
    "import matplotlib.pyplot as plt\n",
    "\n",
    "%matplotlib inline"
   ]
  },
  {
   "cell_type": "code",
   "execution_count": 2,
   "metadata": {},
   "outputs": [
    {
     "data": {
      "text/html": [
       "<div>\n",
       "<style>\n",
       "    .dataframe thead tr:only-child th {\n",
       "        text-align: right;\n",
       "    }\n",
       "\n",
       "    .dataframe thead th {\n",
       "        text-align: left;\n",
       "    }\n",
       "\n",
       "    .dataframe tbody tr th {\n",
       "        vertical-align: top;\n",
       "    }\n",
       "</style>\n",
       "<table border=\"1\" class=\"dataframe\">\n",
       "  <thead>\n",
       "    <tr style=\"text-align: right;\">\n",
       "      <th></th>\n",
       "      <th>Unnamed: 0</th>\n",
       "      <th>title</th>\n",
       "      <th>price</th>\n",
       "      <th>size</th>\n",
       "      <th>avg_rating</th>\n",
       "      <th>taste</th>\n",
       "      <th>score</th>\n",
       "      <th>description</th>\n",
       "      <th>brand</th>\n",
       "      <th>country</th>\n",
       "      <th>state</th>\n",
       "      <th>spirit_type</th>\n",
       "      <th>spirit_style</th>\n",
       "      <th>reviews</th>\n",
       "    </tr>\n",
       "  </thead>\n",
       "  <tbody>\n",
       "    <tr>\n",
       "      <th>0</th>\n",
       "      <td>0</td>\n",
       "      <td>A.D. Rattray Aberfeldy 18 Yr</td>\n",
       "      <td>99.99</td>\n",
       "      <td>750ml</td>\n",
       "      <td>-1.0</td>\n",
       "      <td></td>\n",
       "      <td>-1</td>\n",
       "      <td>Highlands, Scotland- Pleasant aromas of caram...</td>\n",
       "      <td>A.D. Rattray</td>\n",
       "      <td>Scotland</td>\n",
       "      <td>Highland</td>\n",
       "      <td>Scotch</td>\n",
       "      <td>Single Malt</td>\n",
       "      <td>No Reviews</td>\n",
       "    </tr>\n",
       "    <tr>\n",
       "      <th>1</th>\n",
       "      <td>1</td>\n",
       "      <td>A.D. Rattray Auchroisk 22 Yr</td>\n",
       "      <td>139.99</td>\n",
       "      <td>750ml</td>\n",
       "      <td>-1.0</td>\n",
       "      <td></td>\n",
       "      <td>-1</td>\n",
       "      <td>Speyside, Scotland - This Auchroisk is quite ...</td>\n",
       "      <td>A.D. Rattray</td>\n",
       "      <td>Scotland</td>\n",
       "      <td>NaN</td>\n",
       "      <td>Scotch</td>\n",
       "      <td>Single Malt</td>\n",
       "      <td>No Reviews</td>\n",
       "    </tr>\n",
       "    <tr>\n",
       "      <th>2</th>\n",
       "      <td>2</td>\n",
       "      <td>A.D. Rattray Aultmore 16 Year</td>\n",
       "      <td>97.99</td>\n",
       "      <td>750ml</td>\n",
       "      <td>-1.0</td>\n",
       "      <td></td>\n",
       "      <td>-1</td>\n",
       "      <td>Speyside, Scotland- Aroma of honey, ripe frui...</td>\n",
       "      <td>A.D. Rattray</td>\n",
       "      <td>Scotland</td>\n",
       "      <td>NaN</td>\n",
       "      <td>Scotch</td>\n",
       "      <td>Single Malt</td>\n",
       "      <td>No Reviews</td>\n",
       "    </tr>\n",
       "    <tr>\n",
       "      <th>3</th>\n",
       "      <td>3</td>\n",
       "      <td>A.D. Rattray Ben Nevis 17Yr Single Cask Barrel...</td>\n",
       "      <td>99.99</td>\n",
       "      <td>750ml</td>\n",
       "      <td>-1.0</td>\n",
       "      <td>Delicate . Apple . Grass . Vanilla . Complex</td>\n",
       "      <td>-1</td>\n",
       "      <td>NaN</td>\n",
       "      <td>A.D. Rattray</td>\n",
       "      <td>Scotland</td>\n",
       "      <td>Highland</td>\n",
       "      <td>Scotch</td>\n",
       "      <td>Single Malt</td>\n",
       "      <td>No Reviews</td>\n",
       "    </tr>\n",
       "    <tr>\n",
       "      <th>4</th>\n",
       "      <td>4</td>\n",
       "      <td>A.D. Rattray Benriach 23 Yr</td>\n",
       "      <td>179.99</td>\n",
       "      <td>750ml</td>\n",
       "      <td>-1.0</td>\n",
       "      <td></td>\n",
       "      <td>-1</td>\n",
       "      <td>Speyside, Scotland- Rich aromas of honey and ...</td>\n",
       "      <td>A.D. Rattray</td>\n",
       "      <td>Scotland</td>\n",
       "      <td>NaN</td>\n",
       "      <td>Scotch</td>\n",
       "      <td>Single Malt</td>\n",
       "      <td>No Reviews</td>\n",
       "    </tr>\n",
       "  </tbody>\n",
       "</table>\n",
       "</div>"
      ],
      "text/plain": [
       "   Unnamed: 0                                              title   price  \\\n",
       "0           0                       A.D. Rattray Aberfeldy 18 Yr   99.99   \n",
       "1           1                       A.D. Rattray Auchroisk 22 Yr  139.99   \n",
       "2           2                      A.D. Rattray Aultmore 16 Year   97.99   \n",
       "3           3  A.D. Rattray Ben Nevis 17Yr Single Cask Barrel...   99.99   \n",
       "4           4                        A.D. Rattray Benriach 23 Yr  179.99   \n",
       "\n",
       "    size  avg_rating                                           taste  score  \\\n",
       "0  750ml        -1.0                                                     -1   \n",
       "1  750ml        -1.0                                                     -1   \n",
       "2  750ml        -1.0                                                     -1   \n",
       "3  750ml        -1.0   Delicate . Apple . Grass . Vanilla . Complex      -1   \n",
       "4  750ml        -1.0                                                     -1   \n",
       "\n",
       "                                         description         brand   country  \\\n",
       "0   Highlands, Scotland- Pleasant aromas of caram...  A.D. Rattray  Scotland   \n",
       "1   Speyside, Scotland - This Auchroisk is quite ...  A.D. Rattray  Scotland   \n",
       "2   Speyside, Scotland- Aroma of honey, ripe frui...  A.D. Rattray  Scotland   \n",
       "3                                                NaN  A.D. Rattray  Scotland   \n",
       "4   Speyside, Scotland- Rich aromas of honey and ...  A.D. Rattray  Scotland   \n",
       "\n",
       "      state spirit_type spirit_style     reviews  \n",
       "0  Highland      Scotch  Single Malt  No Reviews  \n",
       "1       NaN      Scotch  Single Malt  No Reviews  \n",
       "2       NaN      Scotch  Single Malt  No Reviews  \n",
       "3  Highland      Scotch  Single Malt  No Reviews  \n",
       "4       NaN      Scotch  Single Malt  No Reviews  "
      ]
     },
     "execution_count": 2,
     "metadata": {},
     "output_type": "execute_result"
    }
   ],
   "source": [
    "df = pd.read_csv('./Data/scotches_df.csv')\n",
    "df.head()"
   ]
  },
  {
   "cell_type": "code",
   "execution_count": 3,
   "metadata": {},
   "outputs": [
    {
     "name": "stdout",
     "output_type": "stream",
     "text": [
      "<class 'pandas.core.frame.DataFrame'>\n",
      "RangeIndex: 1428 entries, 0 to 1427\n",
      "Data columns (total 13 columns):\n",
      "title           1428 non-null object\n",
      "price           1428 non-null float64\n",
      "size            1428 non-null object\n",
      "avg_rating      1428 non-null float64\n",
      "taste           1428 non-null object\n",
      "score           1428 non-null int64\n",
      "description     1382 non-null object\n",
      "brand           1424 non-null object\n",
      "country         1428 non-null object\n",
      "state           830 non-null object\n",
      "spirit_type     1428 non-null object\n",
      "spirit_style    1408 non-null object\n",
      "reviews         1274 non-null object\n",
      "dtypes: float64(2), int64(1), object(10)\n",
      "memory usage: 145.1+ KB\n"
     ]
    }
   ],
   "source": [
    "df.drop('Unnamed: 0', axis = 1, inplace = True)\n",
    "df.info()"
   ]
  },
  {
   "cell_type": "markdown",
   "metadata": {},
   "source": [
    "# Taste Column\n",
    "\n",
    "The taste column is where im going to start my EDA.  In this column it has the descriptive tastes provided by professionals/distillers of what the scotch is _supposed_ to represent.  I think this could also be a good starting point for my recommender. Build it simple then add the complexity of reviews.\n",
    "\n",
    "#### Cleaning.\n",
    "1. There are alot of blank values, which ended up being empty strings with lengths of 1\n",
    "2. Taste Notes are represented as a string with values divided separated by periods."
   ]
  },
  {
   "cell_type": "code",
   "execution_count": 4,
   "metadata": {},
   "outputs": [
    {
     "data": {
      "text/plain": [
       "1"
      ]
     },
     "execution_count": 4,
     "metadata": {},
     "output_type": "execute_result"
    }
   ],
   "source": [
    "# Figuring out what the blank values were\n",
    "len(df['taste'].value_counts().index[0])"
   ]
  },
  {
   "cell_type": "code",
   "execution_count": 5,
   "metadata": {
    "collapsed": true
   },
   "outputs": [],
   "source": [
    "# fill those blank values with a 'None' String\n",
    "df.replace(to_replace=' ', value = 'None', inplace = True)"
   ]
  },
  {
   "cell_type": "code",
   "execution_count": 6,
   "metadata": {
    "collapsed": true
   },
   "outputs": [],
   "source": [
    "# converting tastes from a wierd string to a list\n",
    "def taste_to_list(taste_s):\n",
    "    return taste_s.lower().split(' . ')\n",
    "\n",
    "df['taste_list'] = df['taste'].apply(taste_to_list)"
   ]
  },
  {
   "cell_type": "code",
   "execution_count": 7,
   "metadata": {
    "collapsed": true
   },
   "outputs": [],
   "source": [
    "# flattening all lists and removing 'none's\n",
    "all_notes = [item for subitem in df['taste_list'].values for item in subitem if item != 'none']"
   ]
  },
  {
   "cell_type": "code",
   "execution_count": 8,
   "metadata": {
    "collapsed": true
   },
   "outputs": [],
   "source": [
    "# some words had some blank spaces in the for some reason.\n",
    "all_notes = [item.strip(' ') for item in all_notes]"
   ]
  },
  {
   "cell_type": "code",
   "execution_count": 9,
   "metadata": {},
   "outputs": [
    {
     "data": {
      "text/plain": [
       "rich        378\n",
       "balanced    329\n",
       "long        267\n",
       "spice       164\n",
       "vanilla     162\n",
       "oak         160\n",
       "complex     158\n",
       "fruit       151\n",
       "smoke       137\n",
       "medium      131\n",
       "intense     113\n",
       "peat        100\n",
       "honey        99\n",
       "delicate     98\n",
       "light        90\n",
       "dtype: int64"
      ]
     },
     "execution_count": 9,
     "metadata": {},
     "output_type": "execute_result"
    }
   ],
   "source": [
    "# Checking out how many times all the words appear.\n",
    "# top 15 for Github/ rendering\n",
    "pd.Series(all_notes).value_counts()[:15]"
   ]
  },
  {
   "cell_type": "code",
   "execution_count": 10,
   "metadata": {
    "collapsed": true
   },
   "outputs": [],
   "source": [
    "# getting all notes, for whatever reason a blank string was also in there a the 0th index\n",
    "notes = sorted(pd.Series(all_notes).value_counts().index)[1:]"
   ]
  },
  {
   "cell_type": "code",
   "execution_count": 11,
   "metadata": {},
   "outputs": [
    {
     "data": {
      "text/plain": [
       "84"
      ]
     },
     "execution_count": 11,
     "metadata": {},
     "output_type": "execute_result"
    }
   ],
   "source": [
    "# 84 Different notes.\n",
    "len(notes)"
   ]
  },
  {
   "cell_type": "markdown",
   "metadata": {},
   "source": [
    "### Going to Count Vectorize the Text notes"
   ]
  },
  {
   "cell_type": "code",
   "execution_count": 12,
   "metadata": {
    "collapsed": true
   },
   "outputs": [],
   "source": [
    "from sklearn.feature_extraction.text import CountVectorizer"
   ]
  },
  {
   "cell_type": "code",
   "execution_count": 13,
   "metadata": {
    "collapsed": true
   },
   "outputs": [],
   "source": [
    "# Subsetting data to those with Professional Notes\n",
    "df2 = df[df['taste'] != 'None']"
   ]
  },
  {
   "cell_type": "code",
   "execution_count": 14,
   "metadata": {},
   "outputs": [
    {
     "data": {
      "text/html": [
       "<div>\n",
       "<style>\n",
       "    .dataframe thead tr:only-child th {\n",
       "        text-align: right;\n",
       "    }\n",
       "\n",
       "    .dataframe thead th {\n",
       "        text-align: left;\n",
       "    }\n",
       "\n",
       "    .dataframe tbody tr th {\n",
       "        vertical-align: top;\n",
       "    }\n",
       "</style>\n",
       "<table border=\"1\" class=\"dataframe\">\n",
       "  <thead>\n",
       "    <tr style=\"text-align: right;\">\n",
       "      <th></th>\n",
       "      <th>title</th>\n",
       "      <th>price</th>\n",
       "      <th>size</th>\n",
       "      <th>avg_rating</th>\n",
       "      <th>taste</th>\n",
       "      <th>score</th>\n",
       "      <th>description</th>\n",
       "      <th>brand</th>\n",
       "      <th>country</th>\n",
       "      <th>state</th>\n",
       "      <th>spirit_type</th>\n",
       "      <th>spirit_style</th>\n",
       "      <th>reviews</th>\n",
       "      <th>taste_list</th>\n",
       "    </tr>\n",
       "  </thead>\n",
       "  <tbody>\n",
       "    <tr>\n",
       "      <th>3</th>\n",
       "      <td>A.D. Rattray Ben Nevis 17Yr Single Cask Barrel...</td>\n",
       "      <td>99.99</td>\n",
       "      <td>750ml</td>\n",
       "      <td>-1.0</td>\n",
       "      <td>Delicate . Apple . Grass . Vanilla . Complex</td>\n",
       "      <td>-1</td>\n",
       "      <td>NaN</td>\n",
       "      <td>A.D. Rattray</td>\n",
       "      <td>Scotland</td>\n",
       "      <td>Highland</td>\n",
       "      <td>Scotch</td>\n",
       "      <td>Single Malt</td>\n",
       "      <td>No Reviews</td>\n",
       "      <td>[ delicate, apple, grass, vanilla, complex ]</td>\n",
       "    </tr>\n",
       "    <tr>\n",
       "      <th>9</th>\n",
       "      <td>A.D. Rattray Girvan 1964 50 Yr</td>\n",
       "      <td>899.99</td>\n",
       "      <td>750ml</td>\n",
       "      <td>-1.0</td>\n",
       "      <td>Rich . Orange . Chocolate . Nut . Long</td>\n",
       "      <td>-1</td>\n",
       "      <td>Lowlands, Scotland - This 50 year old express...</td>\n",
       "      <td>A.D. Rattray</td>\n",
       "      <td>Scotland</td>\n",
       "      <td>Lowland</td>\n",
       "      <td>Scotch</td>\n",
       "      <td>Single Malt</td>\n",
       "      <td>No Reviews</td>\n",
       "      <td>[ rich, orange, chocolate, nut, long ]</td>\n",
       "    </tr>\n",
       "    <tr>\n",
       "      <th>11</th>\n",
       "      <td>A.D. Rattray Glen Elgin 1995 Single Barrel Select</td>\n",
       "      <td>119.99</td>\n",
       "      <td>750ml</td>\n",
       "      <td>-1.0</td>\n",
       "      <td>Medium . Vanilla . Spice . Long</td>\n",
       "      <td>-1</td>\n",
       "      <td>Speyside, Scotland- Bright gold color, with a...</td>\n",
       "      <td>A.D. Rattray</td>\n",
       "      <td>Scotland</td>\n",
       "      <td>NaN</td>\n",
       "      <td>Scotch</td>\n",
       "      <td>Single Malt</td>\n",
       "      <td>No Reviews</td>\n",
       "      <td>[ medium, vanilla, spice, long ]</td>\n",
       "    </tr>\n",
       "    <tr>\n",
       "      <th>18</th>\n",
       "      <td>A.D. Rattray Stronachie 12yr</td>\n",
       "      <td>49.99</td>\n",
       "      <td>750ml</td>\n",
       "      <td>-1.0</td>\n",
       "      <td>Peat . Nut</td>\n",
       "      <td>-1</td>\n",
       "      <td>Highlands, Scotland- Slightly syrupy, malty, ...</td>\n",
       "      <td>A.D. Rattray</td>\n",
       "      <td>Scotland</td>\n",
       "      <td>Highland</td>\n",
       "      <td>Scotch</td>\n",
       "      <td>Single Malt</td>\n",
       "      <td>No Reviews</td>\n",
       "      <td>[ peat, nut ]</td>\n",
       "    </tr>\n",
       "    <tr>\n",
       "      <th>21</th>\n",
       "      <td>Aberfeldy 12 yo</td>\n",
       "      <td>32.99</td>\n",
       "      <td>750ml</td>\n",
       "      <td>4.5</td>\n",
       "      <td>Rich . Spice . Honey . Long</td>\n",
       "      <td>-1</td>\n",
       "      <td>Highlands, Scotland- Reserved as the heart of...</td>\n",
       "      <td>Aberfeldy</td>\n",
       "      <td>Scotland</td>\n",
       "      <td>Highland</td>\n",
       "      <td>Scotch</td>\n",
       "      <td>Single Malt</td>\n",
       "      <td>{'review_1': {'review_desc': '    A really goo...</td>\n",
       "      <td>[ rich, spice, honey, long ]</td>\n",
       "    </tr>\n",
       "  </tbody>\n",
       "</table>\n",
       "</div>"
      ],
      "text/plain": [
       "                                                title   price   size  \\\n",
       "3   A.D. Rattray Ben Nevis 17Yr Single Cask Barrel...   99.99  750ml   \n",
       "9                      A.D. Rattray Girvan 1964 50 Yr  899.99  750ml   \n",
       "11  A.D. Rattray Glen Elgin 1995 Single Barrel Select  119.99  750ml   \n",
       "18                       A.D. Rattray Stronachie 12yr   49.99  750ml   \n",
       "21                                    Aberfeldy 12 yo   32.99  750ml   \n",
       "\n",
       "    avg_rating                                           taste  score  \\\n",
       "3         -1.0   Delicate . Apple . Grass . Vanilla . Complex      -1   \n",
       "9         -1.0         Rich . Orange . Chocolate . Nut . Long      -1   \n",
       "11        -1.0                Medium . Vanilla . Spice . Long      -1   \n",
       "18        -1.0                                     Peat . Nut      -1   \n",
       "21         4.5                    Rich . Spice . Honey . Long      -1   \n",
       "\n",
       "                                          description         brand   country  \\\n",
       "3                                                 NaN  A.D. Rattray  Scotland   \n",
       "9    Lowlands, Scotland - This 50 year old express...  A.D. Rattray  Scotland   \n",
       "11   Speyside, Scotland- Bright gold color, with a...  A.D. Rattray  Scotland   \n",
       "18   Highlands, Scotland- Slightly syrupy, malty, ...  A.D. Rattray  Scotland   \n",
       "21   Highlands, Scotland- Reserved as the heart of...     Aberfeldy  Scotland   \n",
       "\n",
       "       state spirit_type spirit_style  \\\n",
       "3   Highland      Scotch  Single Malt   \n",
       "9    Lowland      Scotch  Single Malt   \n",
       "11       NaN      Scotch  Single Malt   \n",
       "18  Highland      Scotch  Single Malt   \n",
       "21  Highland      Scotch  Single Malt   \n",
       "\n",
       "                                              reviews  \\\n",
       "3                                          No Reviews   \n",
       "9                                          No Reviews   \n",
       "11                                         No Reviews   \n",
       "18                                         No Reviews   \n",
       "21  {'review_1': {'review_desc': '    A really goo...   \n",
       "\n",
       "                                      taste_list  \n",
       "3   [ delicate, apple, grass, vanilla, complex ]  \n",
       "9         [ rich, orange, chocolate, nut, long ]  \n",
       "11              [ medium, vanilla, spice, long ]  \n",
       "18                                 [ peat, nut ]  \n",
       "21                  [ rich, spice, honey, long ]  "
      ]
     },
     "execution_count": 14,
     "metadata": {},
     "output_type": "execute_result"
    }
   ],
   "source": [
    "df2.head()"
   ]
  },
  {
   "cell_type": "code",
   "execution_count": 16,
   "metadata": {},
   "outputs": [
    {
     "name": "stderr",
     "output_type": "stream",
     "text": [
      "/Users/samstack/anaconda3/lib/python3.6/site-packages/ipykernel_launcher.py:1: SettingWithCopyWarning: \n",
      "A value is trying to be set on a copy of a slice from a DataFrame.\n",
      "Try using .loc[row_indexer,col_indexer] = value instead\n",
      "\n",
      "See the caveats in the documentation: http://pandas.pydata.org/pandas-docs/stable/indexing.html#indexing-view-versus-copy\n",
      "  \"\"\"Entry point for launching an IPython kernel.\n"
     ]
    }
   ],
   "source": [
    "df2['taste_vector'] = df2['taste_list'].apply(lambda x : ' '.join(x))\n",
    "# ignore the copy of a slice warning."
   ]
  },
  {
   "cell_type": "code",
   "execution_count": 17,
   "metadata": {
    "collapsed": true
   },
   "outputs": [],
   "source": [
    "# instantiate Count Vectorizer\n",
    "tvec = CountVectorizer()"
   ]
  },
  {
   "cell_type": "code",
   "execution_count": 18,
   "metadata": {
    "collapsed": true
   },
   "outputs": [],
   "source": [
    "notes_df = pd.DataFrame(tvec.fit_transform(df2['taste_vector']).todense(),\n",
    "             columns = tvec.get_feature_names())"
   ]
  },
  {
   "cell_type": "markdown",
   "metadata": {},
   "source": [
    "## Check how the notes correlate with other notes.  \n",
    "This will let me know what flavors are commonly described together and potentially remove those that are perfectly correlated."
   ]
  },
  {
   "cell_type": "code",
   "execution_count": 19,
   "metadata": {
    "collapsed": true
   },
   "outputs": [],
   "source": [
    "# Given that is a 84 by 84 matrix, a single visualization would be over crouded so I broke it up\n",
    "# into quartiles.\n",
    "top_left  = notes_df.corr().iloc[:42][notes_df.columns[:42]]\n",
    "top_right = notes_df.corr().iloc[:42][notes_df.columns[42:]]\n",
    "bot_left  = notes_df.corr().iloc[42:][notes_df.columns[:42]]\n",
    "bot_right = notes_df.corr().iloc[42:][notes_df.columns[42:]]"
   ]
  },
  {
   "cell_type": "code",
   "execution_count": 20,
   "metadata": {
    "scrolled": false
   },
   "outputs": [
    {
     "data": {
      "image/png": "[encoded data removed]",
      "text/plain": [
       "<matplotlib.figure.Figure at 0x10fd544a8>"
      ]
     },
     "metadata": {},
     "output_type": "display_data"
    }
   ],
   "source": [
    "plt.figure(figsize = (15,12))\n",
    "sns.heatmap(top_left)\n",
    "plt.show()"
   ]
  },
  {
   "cell_type": "markdown",
   "metadata": {},
   "source": [
    "Seems like 'grain' and 'cereal' are used frequently together, but not enough for me to remove them.\n",
    "\n",
    "Seems like 'long', 'balanced' and 'complex' are notes that are infrequently used together."
   ]
  },
  {
   "cell_type": "code",
   "execution_count": 21,
   "metadata": {},
   "outputs": [
    {
     "data": {
      "image/png": "[encoded data removed]",
      "text/plain": [
       "<matplotlib.figure.Figure at 0x1102d8f60>"
      ]
     },
     "metadata": {},
     "output_type": "display_data"
    }
   ],
   "source": [
    "plt.figure(figsize = (15,12))\n",
    "sns.heatmap(top_right)\n",
    "plt.show()"
   ]
  },
  {
   "cell_type": "markdown",
   "metadata": {},
   "source": [
    "Strangely, '`blueberry`' and '`yeast`' and quite correlated. I'll want to look into that later, it could be that  those flavor profiles are commonly used and the few niche cases in which they are, they're used together.\n",
    "\n",
    "'`Rich`' does not seem to be used very often with '`delicate`', '`intense`' or '`light`'."
   ]
  },
  {
   "cell_type": "code",
   "execution_count": 84,
   "metadata": {
    "collapsed": true
   },
   "outputs": [],
   "source": [
    "#The bottom left is just the complete mirror of the top right \n",
    "#so theres no reason to look at it to gain additional insight\n",
    "\n",
    "\n",
    "# plt.figure(figsize = (15,12))\n",
    "# sns.heatmap(bot_left,)\n",
    "# plt.show()"
   ]
  },
  {
   "cell_type": "code",
   "execution_count": null,
   "metadata": {
    "collapsed": true
   },
   "outputs": [],
   "source": []
  },
  {
   "cell_type": "code",
   "execution_count": 22,
   "metadata": {},
   "outputs": [
    {
     "data": {
      "image/png": "[encoded data removed]",
      "text/plain": [
       "<matplotlib.figure.Figure at 0x1108a9b38>"
      ]
     },
     "metadata": {},
     "output_type": "display_data"
    }
   ],
   "source": [
    "plt.figure(figsize = (15,12))\n",
    "sns.heatmap(bot_right)\n",
    "plt.show()"
   ]
  },
  {
   "cell_type": "markdown",
   "metadata": {},
   "source": [
    "`'Rich'` and `'medium'`, tend to not be frequently used together.\n",
    "\n",
    "`'Mustard'` and `'seed'` seem to be perfectly correlated... I wonder if that is because the note is actually `'Mustard Seed'`.  I'll probably remove `'seed'` from the corpus.\n",
    "\n",
    "_I'll do some due diligence to confirm that all observations where \"mustard\" occurs \"seed\" also occurs._"
   ]
  },
  {
   "cell_type": "code",
   "execution_count": 26,
   "metadata": {},
   "outputs": [
    {
     "data": {
      "text/plain": [
       "0    818\n",
       "1      2\n",
       "Name: mustard, dtype: int64"
      ]
     },
     "execution_count": 26,
     "metadata": {},
     "output_type": "execute_result"
    }
   ],
   "source": [
    "notes_df['mustard'].value_counts()"
   ]
  },
  {
   "cell_type": "code",
   "execution_count": 27,
   "metadata": {},
   "outputs": [
    {
     "data": {
      "text/plain": [
       "0    818\n",
       "1      2\n",
       "Name: seed, dtype: int64"
      ]
     },
     "execution_count": 27,
     "metadata": {},
     "output_type": "execute_result"
    }
   ],
   "source": [
    "notes_df['seed'].value_counts()"
   ]
  },
  {
   "cell_type": "code",
   "execution_count": 28,
   "metadata": {},
   "outputs": [
    {
     "data": {
      "text/html": [
       "<div>\n",
       "<style>\n",
       "    .dataframe thead tr:only-child th {\n",
       "        text-align: right;\n",
       "    }\n",
       "\n",
       "    .dataframe thead th {\n",
       "        text-align: left;\n",
       "    }\n",
       "\n",
       "    .dataframe tbody tr th {\n",
       "        vertical-align: top;\n",
       "    }\n",
       "</style>\n",
       "<table border=\"1\" class=\"dataframe\">\n",
       "  <thead>\n",
       "    <tr style=\"text-align: right;\">\n",
       "      <th></th>\n",
       "      <th>mustard</th>\n",
       "      <th>seed</th>\n",
       "    </tr>\n",
       "  </thead>\n",
       "  <tbody>\n",
       "    <tr>\n",
       "      <th>120</th>\n",
       "      <td>1</td>\n",
       "      <td>1</td>\n",
       "    </tr>\n",
       "    <tr>\n",
       "      <th>402</th>\n",
       "      <td>1</td>\n",
       "      <td>1</td>\n",
       "    </tr>\n",
       "  </tbody>\n",
       "</table>\n",
       "</div>"
      ],
      "text/plain": [
       "     mustard  seed\n",
       "120        1     1\n",
       "402        1     1"
      ]
     },
     "execution_count": 28,
     "metadata": {},
     "output_type": "execute_result"
    }
   ],
   "source": [
    "notes_df[notes_df['mustard'] == 1][['mustard','seed']]"
   ]
  },
  {
   "cell_type": "markdown",
   "metadata": {},
   "source": [
    "Yes, looks like there are two occurrences of `'mustard'` and `'seed'` are the same observations, so I'll remove `'seed'` as a potential feature. "
   ]
  },
  {
   "cell_type": "code",
   "execution_count": null,
   "metadata": {
    "collapsed": true
   },
   "outputs": [],
   "source": []
  },
  {
   "cell_type": "markdown",
   "metadata": {},
   "source": [
    "---\n",
    "\n",
    "## Analyze Price and Average Score"
   ]
  },
  {
   "cell_type": "markdown",
   "metadata": {},
   "source": [
    "#### Price Distribution"
   ]
  },
  {
   "cell_type": "code",
   "execution_count": 29,
   "metadata": {},
   "outputs": [
    {
     "data": {
      "image/png": "[encoded data removed]",
      "text/plain": [
       "<matplotlib.figure.Figure at 0x110d65dd8>"
      ]
     },
     "metadata": {},
     "output_type": "display_data"
    }
   ],
   "source": [
    "# Ok, so there are some scotches that are just stupid expensive.\n",
    "plt.figure(figsize = (8,6))\n",
    "sns.boxplot( y = 'price', data = df2);"
   ]
  },
  {
   "cell_type": "markdown",
   "metadata": {},
   "source": [
    "_\"Would you like to buy a bottle of this here scotch or put a down payment on a house?\"_"
   ]
  },
  {
   "cell_type": "markdown",
   "metadata": {},
   "source": [
    "This is a really uninformative box plot because of the number and spread of outliers."
   ]
  },
  {
   "cell_type": "code",
   "execution_count": 30,
   "metadata": {},
   "outputs": [
    {
     "data": {
      "text/plain": [
       "(64, 14)"
      ]
     },
     "execution_count": 30,
     "metadata": {},
     "output_type": "execute_result"
    }
   ],
   "source": [
    "# 64 scotches that are more than $5000, \n",
    "df[df['price'] > 5000].shape"
   ]
  },
  {
   "cell_type": "code",
   "execution_count": 31,
   "metadata": {},
   "outputs": [
    {
     "data": {
      "text/plain": [
       "(131, 14)"
      ]
     },
     "execution_count": 31,
     "metadata": {},
     "output_type": "execute_result"
    }
   ],
   "source": [
    "# 131 scotches that are more than $1500, \n",
    "df[df['price'] > 1500].shape"
   ]
  },
  {
   "cell_type": "markdown",
   "metadata": {},
   "source": [
    "_Who would have thought that Scotches could be so damn expensive!?_\n",
    "\n",
    "I'm going to use Tukey's method to detect and mark for removal of bottles of Scotch I will never be able to afford.\n",
    "\n",
    "- Lower Outlier = $Q_1 - K(Q_3 - Q_1)$  \n",
    "- Upper Outlier = $Q_1 - K(Q_3 - Q_1)$\n",
    "\n",
    "    Where $Q_1$ represents the end of the first quartile, $Q_3$ represents the end of the third quartile, and $K$ is a constant value.  Tukey recommended 1.5 for K for most situations and 3 for more extreme situations."
   ]
  },
  {
   "cell_type": "code",
   "execution_count": 32,
   "metadata": {},
   "outputs": [
    {
     "data": {
      "text/plain": [
       "count     1428.000000\n",
       "mean      1171.717234\n",
       "std       4854.600040\n",
       "min          8.990000\n",
       "25%         53.990000\n",
       "50%         99.990000\n",
       "75%        229.990000\n",
       "max      54999.990000\n",
       "Name: price, dtype: float64"
      ]
     },
     "execution_count": 32,
     "metadata": {},
     "output_type": "execute_result"
    }
   ],
   "source": [
    "# Get Q1 and Q3\n",
    "df['price'].describe()"
   ]
  },
  {
   "cell_type": "code",
   "execution_count": 33,
   "metadata": {},
   "outputs": [
    {
     "name": "stdout",
     "output_type": "stream",
     "text": [
      "488.365\n",
      "746.74\n"
     ]
    }
   ],
   "source": [
    "IQR = 229.99 - 57.74\n",
    "\n",
    "# Typical\n",
    "print(229.99 + 1.5 * IQR)\n",
    "\n",
    "# Extreme\n",
    "print(229.99 + 3 * IQR)"
   ]
  },
  {
   "cell_type": "code",
   "execution_count": 34,
   "metadata": {},
   "outputs": [
    {
     "data": {
      "text/plain": [
       "(228, 14)"
      ]
     },
     "execution_count": 34,
     "metadata": {},
     "output_type": "execute_result"
    }
   ],
   "source": [
    "df[df['price'] > 488.365].shape"
   ]
  },
  {
   "cell_type": "code",
   "execution_count": 35,
   "metadata": {},
   "outputs": [
    {
     "data": {
      "text/plain": [
       "(184, 14)"
      ]
     },
     "execution_count": 35,
     "metadata": {},
     "output_type": "execute_result"
    }
   ],
   "source": [
    "df[df['price'] > 746.74].shape"
   ]
  },
  {
   "cell_type": "markdown",
   "metadata": {},
   "source": [
    "Given that I'm only doing some EDA, I'll utilize the extreme outlier detection to make my selection.\n",
    "\n",
    "_Given that my recommender is intended for personal/private use I will also make the assumption that myself nor any on that I run this model for will want to buy a $1000 bottle of scotch and thus those will most likely be removed from the model._"
   ]
  },
  {
   "cell_type": "code",
   "execution_count": 36,
   "metadata": {},
   "outputs": [
    {
     "data": {
      "image/png": "[encoded data removed]",
      "text/plain": [
       "<matplotlib.figure.Figure at 0x110109128>"
      ]
     },
     "metadata": {},
     "output_type": "display_data"
    }
   ],
   "source": [
    "plt.figure(figsize = (15,8))\n",
    "\n",
    "plt.subplot(1,3,1)\n",
    "sns.boxplot(y = 'price', data = df[df['price'] < 488.365], );\n",
    "plt.title('1.5 Multiple Constant', fontsize = 20)\n",
    "plt.ylabel('Price', fontsize = 16)\n",
    "\n",
    "plt.subplot(1,3,2)\n",
    "sns.boxplot(y = 'price', data = df[df['price'] < 746.74], );\n",
    "plt.title('3 Multple Constant', fontsize = 20)\n",
    "plt.ylabel('Price', fontsize = 16)\n",
    "\n",
    "plt.subplot(1,3,3)\n",
    "sns.boxplot(y = 'price', data = df[df['price'] < 250.00], );\n",
    "plt.title('Personal Preference', fontsize = 20)\n",
    "plt.ylabel('Price', fontsize = 16)\n",
    "plt.show()"
   ]
  },
  {
   "cell_type": "markdown",
   "metadata": {},
   "source": [
    "Surprisingly, even after removing outliers, there are still outliers.  Appears that there are a high density of scotches that are in that \\$50 to $150 dollar range,  which is actually a reasonable range (for me)."
   ]
  },
  {
   "cell_type": "code",
   "execution_count": 37,
   "metadata": {},
   "outputs": [
    {
     "data": {
      "image/png": "[encoded data removed]",
      "text/plain": [
       "<matplotlib.figure.Figure at 0x110d253c8>"
      ]
     },
     "metadata": {},
     "output_type": "display_data"
    }
   ],
   "source": [
    "plt.figure(figsize = (15,8))\n",
    "# 1.5 Constant multiple for inner quartile range\n",
    "plt.subplot(1,3,1)\n",
    "sns.distplot(a = df[df['price'] < 488.365]['price'] );\n",
    "plt.title('1.5 Multiple Constant', fontsize = 20)\n",
    "plt.ylabel('Price', fontsize = 16)\n",
    "# 3.0 Constant multiple for inner quartile range\n",
    "plt.subplot(1,3,2)\n",
    "sns.distplot(a = df[df['price'] < 746.74]['price'] );\n",
    "plt.title('3 Multple Constant', fontsize = 20)\n",
    "plt.ylabel('Price', fontsize = 16)\n",
    "# Personal preference in that i'm not interested in spending over $250 \n",
    "plt.subplot(1,3,3)\n",
    "sns.distplot(a = df[df['price'] < 250.00]['price'] );\n",
    "plt.title('Personal Preference', fontsize = 20)\n",
    "plt.ylabel('Price', fontsize = 16)\n",
    "\n",
    "plt.show()"
   ]
  },
  {
   "cell_type": "markdown",
   "metadata": {},
   "source": [
    "Appears that there is a lot of density around $60 dollars a bottle, as a consumer I'm ok with this."
   ]
  },
  {
   "cell_type": "markdown",
   "metadata": {},
   "source": [
    "#### Rating\n",
    "- Ok, so there are a lot of Scotches that did not have user reviews so they got a -1 rating."
   ]
  },
  {
   "cell_type": "code",
   "execution_count": 38,
   "metadata": {},
   "outputs": [
    {
     "data": {
      "text/html": [
       "<div>\n",
       "<style>\n",
       "    .dataframe thead tr:only-child th {\n",
       "        text-align: right;\n",
       "    }\n",
       "\n",
       "    .dataframe thead th {\n",
       "        text-align: left;\n",
       "    }\n",
       "\n",
       "    .dataframe tbody tr th {\n",
       "        vertical-align: top;\n",
       "    }\n",
       "</style>\n",
       "<table border=\"1\" class=\"dataframe\">\n",
       "  <thead>\n",
       "    <tr style=\"text-align: right;\">\n",
       "      <th></th>\n",
       "      <th>title</th>\n",
       "      <th>price</th>\n",
       "      <th>size</th>\n",
       "      <th>avg_rating</th>\n",
       "      <th>taste</th>\n",
       "      <th>score</th>\n",
       "      <th>description</th>\n",
       "      <th>brand</th>\n",
       "      <th>country</th>\n",
       "      <th>state</th>\n",
       "      <th>spirit_type</th>\n",
       "      <th>spirit_style</th>\n",
       "      <th>reviews</th>\n",
       "      <th>taste_list</th>\n",
       "      <th>taste_vector</th>\n",
       "    </tr>\n",
       "  </thead>\n",
       "  <tbody>\n",
       "    <tr>\n",
       "      <th>3</th>\n",
       "      <td>A.D. Rattray Ben Nevis 17Yr Single Cask Barrel...</td>\n",
       "      <td>99.99</td>\n",
       "      <td>750ml</td>\n",
       "      <td>-1.0</td>\n",
       "      <td>Delicate . Apple . Grass . Vanilla . Complex</td>\n",
       "      <td>-1</td>\n",
       "      <td>NaN</td>\n",
       "      <td>A.D. Rattray</td>\n",
       "      <td>Scotland</td>\n",
       "      <td>Highland</td>\n",
       "      <td>Scotch</td>\n",
       "      <td>Single Malt</td>\n",
       "      <td>No Reviews</td>\n",
       "      <td>[ delicate, apple, grass, vanilla, complex ]</td>\n",
       "      <td>delicate apple grass vanilla complex</td>\n",
       "    </tr>\n",
       "    <tr>\n",
       "      <th>9</th>\n",
       "      <td>A.D. Rattray Girvan 1964 50 Yr</td>\n",
       "      <td>899.99</td>\n",
       "      <td>750ml</td>\n",
       "      <td>-1.0</td>\n",
       "      <td>Rich . Orange . Chocolate . Nut . Long</td>\n",
       "      <td>-1</td>\n",
       "      <td>Lowlands, Scotland - This 50 year old express...</td>\n",
       "      <td>A.D. Rattray</td>\n",
       "      <td>Scotland</td>\n",
       "      <td>Lowland</td>\n",
       "      <td>Scotch</td>\n",
       "      <td>Single Malt</td>\n",
       "      <td>No Reviews</td>\n",
       "      <td>[ rich, orange, chocolate, nut, long ]</td>\n",
       "      <td>rich orange chocolate nut long</td>\n",
       "    </tr>\n",
       "    <tr>\n",
       "      <th>11</th>\n",
       "      <td>A.D. Rattray Glen Elgin 1995 Single Barrel Select</td>\n",
       "      <td>119.99</td>\n",
       "      <td>750ml</td>\n",
       "      <td>-1.0</td>\n",
       "      <td>Medium . Vanilla . Spice . Long</td>\n",
       "      <td>-1</td>\n",
       "      <td>Speyside, Scotland- Bright gold color, with a...</td>\n",
       "      <td>A.D. Rattray</td>\n",
       "      <td>Scotland</td>\n",
       "      <td>NaN</td>\n",
       "      <td>Scotch</td>\n",
       "      <td>Single Malt</td>\n",
       "      <td>No Reviews</td>\n",
       "      <td>[ medium, vanilla, spice, long ]</td>\n",
       "      <td>medium vanilla spice long</td>\n",
       "    </tr>\n",
       "    <tr>\n",
       "      <th>18</th>\n",
       "      <td>A.D. Rattray Stronachie 12yr</td>\n",
       "      <td>49.99</td>\n",
       "      <td>750ml</td>\n",
       "      <td>-1.0</td>\n",
       "      <td>Peat . Nut</td>\n",
       "      <td>-1</td>\n",
       "      <td>Highlands, Scotland- Slightly syrupy, malty, ...</td>\n",
       "      <td>A.D. Rattray</td>\n",
       "      <td>Scotland</td>\n",
       "      <td>Highland</td>\n",
       "      <td>Scotch</td>\n",
       "      <td>Single Malt</td>\n",
       "      <td>No Reviews</td>\n",
       "      <td>[ peat, nut ]</td>\n",
       "      <td>peat nut</td>\n",
       "    </tr>\n",
       "    <tr>\n",
       "      <th>21</th>\n",
       "      <td>Aberfeldy 12 yo</td>\n",
       "      <td>32.99</td>\n",
       "      <td>750ml</td>\n",
       "      <td>4.5</td>\n",
       "      <td>Rich . Spice . Honey . Long</td>\n",
       "      <td>-1</td>\n",
       "      <td>Highlands, Scotland- Reserved as the heart of...</td>\n",
       "      <td>Aberfeldy</td>\n",
       "      <td>Scotland</td>\n",
       "      <td>Highland</td>\n",
       "      <td>Scotch</td>\n",
       "      <td>Single Malt</td>\n",
       "      <td>{'review_1': {'review_desc': '    A really goo...</td>\n",
       "      <td>[ rich, spice, honey, long ]</td>\n",
       "      <td>rich spice honey long</td>\n",
       "    </tr>\n",
       "  </tbody>\n",
       "</table>\n",
       "</div>"
      ],
      "text/plain": [
       "                                                title   price   size  \\\n",
       "3   A.D. Rattray Ben Nevis 17Yr Single Cask Barrel...   99.99  750ml   \n",
       "9                      A.D. Rattray Girvan 1964 50 Yr  899.99  750ml   \n",
       "11  A.D. Rattray Glen Elgin 1995 Single Barrel Select  119.99  750ml   \n",
       "18                       A.D. Rattray Stronachie 12yr   49.99  750ml   \n",
       "21                                    Aberfeldy 12 yo   32.99  750ml   \n",
       "\n",
       "    avg_rating                                           taste  score  \\\n",
       "3         -1.0   Delicate . Apple . Grass . Vanilla . Complex      -1   \n",
       "9         -1.0         Rich . Orange . Chocolate . Nut . Long      -1   \n",
       "11        -1.0                Medium . Vanilla . Spice . Long      -1   \n",
       "18        -1.0                                     Peat . Nut      -1   \n",
       "21         4.5                    Rich . Spice . Honey . Long      -1   \n",
       "\n",
       "                                          description         brand   country  \\\n",
       "3                                                 NaN  A.D. Rattray  Scotland   \n",
       "9    Lowlands, Scotland - This 50 year old express...  A.D. Rattray  Scotland   \n",
       "11   Speyside, Scotland- Bright gold color, with a...  A.D. Rattray  Scotland   \n",
       "18   Highlands, Scotland- Slightly syrupy, malty, ...  A.D. Rattray  Scotland   \n",
       "21   Highlands, Scotland- Reserved as the heart of...     Aberfeldy  Scotland   \n",
       "\n",
       "       state spirit_type spirit_style  \\\n",
       "3   Highland      Scotch  Single Malt   \n",
       "9    Lowland      Scotch  Single Malt   \n",
       "11       NaN      Scotch  Single Malt   \n",
       "18  Highland      Scotch  Single Malt   \n",
       "21  Highland      Scotch  Single Malt   \n",
       "\n",
       "                                              reviews  \\\n",
       "3                                          No Reviews   \n",
       "9                                          No Reviews   \n",
       "11                                         No Reviews   \n",
       "18                                         No Reviews   \n",
       "21  {'review_1': {'review_desc': '    A really goo...   \n",
       "\n",
       "                                      taste_list  \\\n",
       "3   [ delicate, apple, grass, vanilla, complex ]   \n",
       "9         [ rich, orange, chocolate, nut, long ]   \n",
       "11              [ medium, vanilla, spice, long ]   \n",
       "18                                 [ peat, nut ]   \n",
       "21                  [ rich, spice, honey, long ]   \n",
       "\n",
       "                              taste_vector  \n",
       "3    delicate apple grass vanilla complex   \n",
       "9          rich orange chocolate nut long   \n",
       "11              medium vanilla spice long   \n",
       "18                               peat nut   \n",
       "21                  rich spice honey long   "
      ]
     },
     "execution_count": 38,
     "metadata": {},
     "output_type": "execute_result"
    }
   ],
   "source": [
    "df2.head()"
   ]
  },
  {
   "cell_type": "code",
   "execution_count": 39,
   "metadata": {},
   "outputs": [
    {
     "data": {
      "text/plain": [
       "<matplotlib.axes._subplots.AxesSubplot at 0x110230ef0>"
      ]
     },
     "execution_count": 39,
     "metadata": {},
     "output_type": "execute_result"
    },
    {
     "data": {
      "image/png": "[encoded data removed]",
      "text/plain": [
       "<matplotlib.figure.Figure at 0x1108d4240>"
      ]
     },
     "metadata": {},
     "output_type": "display_data"
    }
   ],
   "source": [
    "df['avg_rating'].hist()"
   ]
  },
  {
   "cell_type": "code",
   "execution_count": 40,
   "metadata": {},
   "outputs": [
    {
     "data": {
      "image/png": "[encoded data removed]",
      "text/plain": [
       "<matplotlib.figure.Figure at 0x11107d390>"
      ]
     },
     "metadata": {},
     "output_type": "display_data"
    }
   ],
   "source": [
    "df[df['avg_rating'] > 0]['avg_rating'].hist(bins = 18);"
   ]
  },
  {
   "cell_type": "markdown",
   "metadata": {},
   "source": [
    "Lots of highly rated scotch, many approaching or at 5.  Lets subset that 4.5 - 5 star range for a deeper look.\n",
    "As is common, many 4s.  It seems we see more and more 4s these days as it indicates that a user someone enjoyed it but was not impressed with any one thing or could not put their finger on anyone aspect that made it more enjoyable than another, however a 3 indicates there was some subjective negative aspect that the user experienced. (This is not a fact its just what I have noticed when looking at any kinds of reviews.)\n"
   ]
  },
  {
   "cell_type": "code",
   "execution_count": 41,
   "metadata": {},
   "outputs": [
    {
     "data": {
      "image/png": "[encoded data removed]",
      "text/plain": [
       "<matplotlib.figure.Figure at 0x1108b7ba8>"
      ]
     },
     "metadata": {},
     "output_type": "display_data"
    }
   ],
   "source": [
    "df[df['avg_rating'] > 4.4]['avg_rating'].hist(bins = 6);"
   ]
  },
  {
   "cell_type": "markdown",
   "metadata": {},
   "source": [
    "To my surprise, loads of 5 star reviews in the scotch realm.  This, ladies and gentlemen, is not something you see everyday. \n",
    "\n",
    "Given the large quantity of items that have no user reviews as well as an abundance of 5 star reviews, I'm greatly considering removing reviews as a potential feature for the similarity model.  After all, just because you enjoyed a scotch that most people decided was a 4 star should not affect the ability to me to recommend a 5 star scotch.\n",
    "\n",
    "---\n",
    "\n",
    "#### Price compared to rating."
   ]
  },
  {
   "cell_type": "code",
   "execution_count": 67,
   "metadata": {},
   "outputs": [
    {
     "data": {
      "image/png": "[encoded data removed]",
      "text/plain": [
       "<matplotlib.figure.Figure at 0x110cf6c88>"
      ]
     },
     "metadata": {},
     "output_type": "display_data"
    }
   ],
   "source": [
    "# all scotches\n",
    "df2.plot.scatter(x = 'avg_rating', y = 'price');"
   ]
  },
  {
   "cell_type": "code",
   "execution_count": 43,
   "metadata": {},
   "outputs": [
    {
     "data": {
      "image/png": "[encoded data removed]",
      "text/plain": [
       "<matplotlib.figure.Figure at 0x1108a6438>"
      ]
     },
     "metadata": {},
     "output_type": "display_data"
    }
   ],
   "source": [
    "# just reasonably priced scotches compared to those with actual ratings.\n",
    "df2[(df2['price'] < 350) & (df2['avg_rating'] > 0)].plot.scatter(x = 'avg_rating', y = 'price');"
   ]
  },
  {
   "cell_type": "markdown",
   "metadata": {},
   "source": [
    "It doesn't really appear to be that price and avg rating have some kind of relation.  "
   ]
  },
  {
   "cell_type": "markdown",
   "metadata": {},
   "source": [
    "----\n",
    "\n",
    "## Country and State\n",
    "\n",
    "Going to investigate the various countries that _also_ produce scotch as well as the States that whiskey comes from."
   ]
  },
  {
   "cell_type": "code",
   "execution_count": 44,
   "metadata": {},
   "outputs": [
    {
     "data": {
      "text/plain": [
       "Scotland         1324\n",
       "Japan              45\n",
       "India              25\n",
       "Taiwan             18\n",
       "France              5\n",
       "United States       4\n",
       "Denmark             3\n",
       "England             2\n",
       "Austria             1\n",
       "South Africa        1\n",
       "Name: country, dtype: int64"
      ]
     },
     "execution_count": 44,
     "metadata": {},
     "output_type": "execute_result"
    }
   ],
   "source": [
    "df['country'].value_counts()"
   ]
  },
  {
   "cell_type": "code",
   "execution_count": 45,
   "metadata": {},
   "outputs": [
    {
     "data": {
      "text/html": [
       "<div>\n",
       "<style>\n",
       "    .dataframe thead tr:only-child th {\n",
       "        text-align: right;\n",
       "    }\n",
       "\n",
       "    .dataframe thead th {\n",
       "        text-align: left;\n",
       "    }\n",
       "\n",
       "    .dataframe tbody tr th {\n",
       "        vertical-align: top;\n",
       "    }\n",
       "</style>\n",
       "<table border=\"1\" class=\"dataframe\">\n",
       "  <thead>\n",
       "    <tr style=\"text-align: right;\">\n",
       "      <th></th>\n",
       "      <th>title</th>\n",
       "      <th>price</th>\n",
       "      <th>size</th>\n",
       "      <th>avg_rating</th>\n",
       "      <th>taste</th>\n",
       "      <th>score</th>\n",
       "      <th>description</th>\n",
       "      <th>brand</th>\n",
       "      <th>country</th>\n",
       "      <th>state</th>\n",
       "      <th>spirit_type</th>\n",
       "      <th>spirit_style</th>\n",
       "      <th>reviews</th>\n",
       "      <th>taste_list</th>\n",
       "    </tr>\n",
       "  </thead>\n",
       "  <tbody>\n",
       "    <tr>\n",
       "      <th>39</th>\n",
       "      <td>Akashi Single Malt Japanese Whisky</td>\n",
       "      <td>99.99</td>\n",
       "      <td>750ml</td>\n",
       "      <td>-1.0</td>\n",
       "      <td>None</td>\n",
       "      <td>-1</td>\n",
       "      <td>Japan - Located in the town of Akashi, near t...</td>\n",
       "      <td>Akashi</td>\n",
       "      <td>Japan</td>\n",
       "      <td>NaN</td>\n",
       "      <td>Scotch</td>\n",
       "      <td>Single Malt</td>\n",
       "      <td>No Reviews</td>\n",
       "      <td>[none]</td>\n",
       "    </tr>\n",
       "    <tr>\n",
       "      <th>40</th>\n",
       "      <td>Akashi White Oak Whisky</td>\n",
       "      <td>35.99</td>\n",
       "      <td>750ml</td>\n",
       "      <td>-1.0</td>\n",
       "      <td>None</td>\n",
       "      <td>-1</td>\n",
       "      <td>Japan - The aroma is delicate with notes of m...</td>\n",
       "      <td>Akashi</td>\n",
       "      <td>Japan</td>\n",
       "      <td>NaN</td>\n",
       "      <td>Scotch</td>\n",
       "      <td>Single Malt</td>\n",
       "      <td>No Reviews</td>\n",
       "      <td>[none]</td>\n",
       "    </tr>\n",
       "    <tr>\n",
       "      <th>867</th>\n",
       "      <td>Hakushu Japanese Whisky 12 Yr</td>\n",
       "      <td>79.99</td>\n",
       "      <td>750ml</td>\n",
       "      <td>4.5</td>\n",
       "      <td>None</td>\n",
       "      <td>92</td>\n",
       "      <td>Japan- A vibrant and fresh whisky straight fr...</td>\n",
       "      <td>Hakushu</td>\n",
       "      <td>Japan</td>\n",
       "      <td>NaN</td>\n",
       "      <td>Scotch</td>\n",
       "      <td>Single Malt</td>\n",
       "      <td>{'review_1': {'review_desc': '    A flavor bea...</td>\n",
       "      <td>[none]</td>\n",
       "    </tr>\n",
       "    <tr>\n",
       "      <th>868</th>\n",
       "      <td>Hakushu Single Malt 18Yr</td>\n",
       "      <td>269.99</td>\n",
       "      <td>750ml</td>\n",
       "      <td>-1.0</td>\n",
       "      <td>Medium . Cereal Grain . Fruit . Long</td>\n",
       "      <td>-1</td>\n",
       "      <td>Japan- A massive step up in quality from the ...</td>\n",
       "      <td>Hakushu</td>\n",
       "      <td>Japan</td>\n",
       "      <td>NaN</td>\n",
       "      <td>Scotch</td>\n",
       "      <td>Single Malt</td>\n",
       "      <td>No Reviews</td>\n",
       "      <td>[ medium, cereal grain, fruit, long ]</td>\n",
       "    </tr>\n",
       "    <tr>\n",
       "      <th>881</th>\n",
       "      <td>Hibiki 12 Yr</td>\n",
       "      <td>114.99</td>\n",
       "      <td>750ml</td>\n",
       "      <td>4.4</td>\n",
       "      <td>None</td>\n",
       "      <td>93</td>\n",
       "      <td>Japan- A stunning 12 year-old blend from Hibi...</td>\n",
       "      <td>Hibiki</td>\n",
       "      <td>Japan</td>\n",
       "      <td>NaN</td>\n",
       "      <td>Scotch</td>\n",
       "      <td>Single Malt</td>\n",
       "      <td>{'review_1': {'review_desc': '    hibiki 12   ...</td>\n",
       "      <td>[none]</td>\n",
       "    </tr>\n",
       "  </tbody>\n",
       "</table>\n",
       "</div>"
      ],
      "text/plain": [
       "                                  title   price   size  avg_rating  \\\n",
       "39   Akashi Single Malt Japanese Whisky   99.99  750ml        -1.0   \n",
       "40              Akashi White Oak Whisky   35.99  750ml        -1.0   \n",
       "867       Hakushu Japanese Whisky 12 Yr   79.99  750ml         4.5   \n",
       "868            Hakushu Single Malt 18Yr  269.99  750ml        -1.0   \n",
       "881                        Hibiki 12 Yr  114.99  750ml         4.4   \n",
       "\n",
       "                                      taste  score  \\\n",
       "39                                     None     -1   \n",
       "40                                     None     -1   \n",
       "867                                    None     92   \n",
       "868   Medium . Cereal Grain . Fruit . Long      -1   \n",
       "881                                    None     93   \n",
       "\n",
       "                                           description    brand country state  \\\n",
       "39    Japan - Located in the town of Akashi, near t...   Akashi   Japan   NaN   \n",
       "40    Japan - The aroma is delicate with notes of m...   Akashi   Japan   NaN   \n",
       "867   Japan- A vibrant and fresh whisky straight fr...  Hakushu   Japan   NaN   \n",
       "868   Japan- A massive step up in quality from the ...  Hakushu   Japan   NaN   \n",
       "881   Japan- A stunning 12 year-old blend from Hibi...   Hibiki   Japan   NaN   \n",
       "\n",
       "    spirit_type spirit_style  \\\n",
       "39       Scotch  Single Malt   \n",
       "40       Scotch  Single Malt   \n",
       "867      Scotch  Single Malt   \n",
       "868      Scotch  Single Malt   \n",
       "881      Scotch  Single Malt   \n",
       "\n",
       "                                               reviews  \\\n",
       "39                                          No Reviews   \n",
       "40                                          No Reviews   \n",
       "867  {'review_1': {'review_desc': '    A flavor bea...   \n",
       "868                                         No Reviews   \n",
       "881  {'review_1': {'review_desc': '    hibiki 12   ...   \n",
       "\n",
       "                                taste_list  \n",
       "39                                  [none]  \n",
       "40                                  [none]  \n",
       "867                                 [none]  \n",
       "868  [ medium, cereal grain, fruit, long ]  \n",
       "881                                 [none]  "
      ]
     },
     "execution_count": 45,
     "metadata": {},
     "output_type": "execute_result"
    }
   ],
   "source": [
    "df[df['country'] == 'Japan'].head(5)"
   ]
  },
  {
   "cell_type": "code",
   "execution_count": 46,
   "metadata": {},
   "outputs": [
    {
     "data": {
      "text/html": [
       "<div>\n",
       "<style>\n",
       "    .dataframe thead tr:only-child th {\n",
       "        text-align: right;\n",
       "    }\n",
       "\n",
       "    .dataframe thead th {\n",
       "        text-align: left;\n",
       "    }\n",
       "\n",
       "    .dataframe tbody tr th {\n",
       "        vertical-align: top;\n",
       "    }\n",
       "</style>\n",
       "<table border=\"1\" class=\"dataframe\">\n",
       "  <thead>\n",
       "    <tr style=\"text-align: right;\">\n",
       "      <th></th>\n",
       "      <th>price</th>\n",
       "      <th>avg_rating</th>\n",
       "      <th>score</th>\n",
       "    </tr>\n",
       "  </thead>\n",
       "  <tbody>\n",
       "    <tr>\n",
       "      <th>count</th>\n",
       "      <td>45.000000</td>\n",
       "      <td>45.000000</td>\n",
       "      <td>45.000000</td>\n",
       "    </tr>\n",
       "    <tr>\n",
       "      <th>mean</th>\n",
       "      <td>155.234444</td>\n",
       "      <td>1.640000</td>\n",
       "      <td>13.600000</td>\n",
       "    </tr>\n",
       "    <tr>\n",
       "      <th>std</th>\n",
       "      <td>190.741395</td>\n",
       "      <td>2.752553</td>\n",
       "      <td>34.404942</td>\n",
       "    </tr>\n",
       "    <tr>\n",
       "      <th>min</th>\n",
       "      <td>27.990000</td>\n",
       "      <td>-1.000000</td>\n",
       "      <td>-1.000000</td>\n",
       "    </tr>\n",
       "    <tr>\n",
       "      <th>25%</th>\n",
       "      <td>59.990000</td>\n",
       "      <td>-1.000000</td>\n",
       "      <td>-1.000000</td>\n",
       "    </tr>\n",
       "    <tr>\n",
       "      <th>50%</th>\n",
       "      <td>79.990000</td>\n",
       "      <td>1.000000</td>\n",
       "      <td>-1.000000</td>\n",
       "    </tr>\n",
       "    <tr>\n",
       "      <th>75%</th>\n",
       "      <td>219.990000</td>\n",
       "      <td>4.800000</td>\n",
       "      <td>-1.000000</td>\n",
       "    </tr>\n",
       "    <tr>\n",
       "      <th>max</th>\n",
       "      <td>1199.990000</td>\n",
       "      <td>5.000000</td>\n",
       "      <td>95.000000</td>\n",
       "    </tr>\n",
       "  </tbody>\n",
       "</table>\n",
       "</div>"
      ],
      "text/plain": [
       "             price  avg_rating      score\n",
       "count    45.000000   45.000000  45.000000\n",
       "mean    155.234444    1.640000  13.600000\n",
       "std     190.741395    2.752553  34.404942\n",
       "min      27.990000   -1.000000  -1.000000\n",
       "25%      59.990000   -1.000000  -1.000000\n",
       "50%      79.990000    1.000000  -1.000000\n",
       "75%     219.990000    4.800000  -1.000000\n",
       "max    1199.990000    5.000000  95.000000"
      ]
     },
     "execution_count": 46,
     "metadata": {},
     "output_type": "execute_result"
    }
   ],
   "source": [
    "df[df['country'] == 'Japan'].describe()"
   ]
  },
  {
   "cell_type": "code",
   "execution_count": 47,
   "metadata": {},
   "outputs": [
    {
     "data": {
      "text/html": [
       "<div>\n",
       "<style>\n",
       "    .dataframe thead tr:only-child th {\n",
       "        text-align: right;\n",
       "    }\n",
       "\n",
       "    .dataframe thead th {\n",
       "        text-align: left;\n",
       "    }\n",
       "\n",
       "    .dataframe tbody tr th {\n",
       "        vertical-align: top;\n",
       "    }\n",
       "</style>\n",
       "<table border=\"1\" class=\"dataframe\">\n",
       "  <thead>\n",
       "    <tr style=\"text-align: right;\">\n",
       "      <th></th>\n",
       "      <th>title</th>\n",
       "      <th>price</th>\n",
       "      <th>size</th>\n",
       "      <th>avg_rating</th>\n",
       "      <th>taste</th>\n",
       "      <th>score</th>\n",
       "      <th>description</th>\n",
       "      <th>brand</th>\n",
       "      <th>country</th>\n",
       "      <th>state</th>\n",
       "      <th>spirit_type</th>\n",
       "      <th>spirit_style</th>\n",
       "      <th>reviews</th>\n",
       "      <th>taste_list</th>\n",
       "    </tr>\n",
       "  </thead>\n",
       "  <tbody>\n",
       "    <tr>\n",
       "      <th>31</th>\n",
       "      <td>After Dark Premium Grain Whisky</td>\n",
       "      <td>14.99</td>\n",
       "      <td>750ml</td>\n",
       "      <td>5.0</td>\n",
       "      <td>None</td>\n",
       "      <td>-1</td>\n",
       "      <td>India- One-hundred percent grain based spirit...</td>\n",
       "      <td>After Dark</td>\n",
       "      <td>India</td>\n",
       "      <td>NaN</td>\n",
       "      <td>Scotch</td>\n",
       "      <td>Single Malt</td>\n",
       "      <td>NaN</td>\n",
       "      <td>[none]</td>\n",
       "    </tr>\n",
       "    <tr>\n",
       "      <th>87</th>\n",
       "      <td>Amrut Cask Strength</td>\n",
       "      <td>67.99</td>\n",
       "      <td>750ml</td>\n",
       "      <td>4.0</td>\n",
       "      <td>Intense . Oak . Citrus . Long</td>\n",
       "      <td>91</td>\n",
       "      <td>India- Classic house style with bourbon notes...</td>\n",
       "      <td>Amrut</td>\n",
       "      <td>India</td>\n",
       "      <td>NaN</td>\n",
       "      <td>Scotch</td>\n",
       "      <td>Single Malt</td>\n",
       "      <td>NaN</td>\n",
       "      <td>[ intense, oak, citrus, long ]</td>\n",
       "    </tr>\n",
       "    <tr>\n",
       "      <th>88</th>\n",
       "      <td>Amrut Double Cask</td>\n",
       "      <td>199.99</td>\n",
       "      <td>750ml</td>\n",
       "      <td>-1.0</td>\n",
       "      <td>None</td>\n",
       "      <td>-1</td>\n",
       "      <td>India- Amrut Double Cask is a unique blend fr...</td>\n",
       "      <td>Amrut</td>\n",
       "      <td>India</td>\n",
       "      <td>NaN</td>\n",
       "      <td>Scotch</td>\n",
       "      <td>Single Malt</td>\n",
       "      <td>No Reviews</td>\n",
       "      <td>[none]</td>\n",
       "    </tr>\n",
       "    <tr>\n",
       "      <th>89</th>\n",
       "      <td>Amrut Fusion</td>\n",
       "      <td>59.99</td>\n",
       "      <td>750ml</td>\n",
       "      <td>4.5</td>\n",
       "      <td>Rich . Fruit . Long</td>\n",
       "      <td>89</td>\n",
       "      <td>India- Rich, barley and fruit nose with citru...</td>\n",
       "      <td>Amrut</td>\n",
       "      <td>India</td>\n",
       "      <td>NaN</td>\n",
       "      <td>Scotch</td>\n",
       "      <td>Single Malt</td>\n",
       "      <td>{'review_1': {'review_desc': '    Exqusite !  ...</td>\n",
       "      <td>[ rich, fruit, long ]</td>\n",
       "    </tr>\n",
       "    <tr>\n",
       "      <th>90</th>\n",
       "      <td>Amrut Kadhambam</td>\n",
       "      <td>139.99</td>\n",
       "      <td>750ml</td>\n",
       "      <td>-1.0</td>\n",
       "      <td>None</td>\n",
       "      <td>-1</td>\n",
       "      <td>India- This Amrut was matured in three casks....</td>\n",
       "      <td>Amrut</td>\n",
       "      <td>India</td>\n",
       "      <td>NaN</td>\n",
       "      <td>Scotch</td>\n",
       "      <td>Single Malt</td>\n",
       "      <td>No Reviews</td>\n",
       "      <td>[none]</td>\n",
       "    </tr>\n",
       "  </tbody>\n",
       "</table>\n",
       "</div>"
      ],
      "text/plain": [
       "                              title   price   size  avg_rating  \\\n",
       "31  After Dark Premium Grain Whisky   14.99  750ml         5.0   \n",
       "87              Amrut Cask Strength   67.99  750ml         4.0   \n",
       "88                Amrut Double Cask  199.99  750ml        -1.0   \n",
       "89                     Amrut Fusion   59.99  750ml         4.5   \n",
       "90                  Amrut Kadhambam  139.99  750ml        -1.0   \n",
       "\n",
       "                              taste  score  \\\n",
       "31                             None     -1   \n",
       "87   Intense . Oak . Citrus . Long      91   \n",
       "88                             None     -1   \n",
       "89             Rich . Fruit . Long      89   \n",
       "90                             None     -1   \n",
       "\n",
       "                                          description       brand country  \\\n",
       "31   India- One-hundred percent grain based spirit...  After Dark   India   \n",
       "87   India- Classic house style with bourbon notes...       Amrut   India   \n",
       "88   India- Amrut Double Cask is a unique blend fr...       Amrut   India   \n",
       "89   India- Rich, barley and fruit nose with citru...       Amrut   India   \n",
       "90   India- This Amrut was matured in three casks....       Amrut   India   \n",
       "\n",
       "   state spirit_type spirit_style  \\\n",
       "31   NaN      Scotch  Single Malt   \n",
       "87   NaN      Scotch  Single Malt   \n",
       "88   NaN      Scotch  Single Malt   \n",
       "89   NaN      Scotch  Single Malt   \n",
       "90   NaN      Scotch  Single Malt   \n",
       "\n",
       "                                              reviews  \\\n",
       "31                                                NaN   \n",
       "87                                                NaN   \n",
       "88                                         No Reviews   \n",
       "89  {'review_1': {'review_desc': '    Exqusite !  ...   \n",
       "90                                         No Reviews   \n",
       "\n",
       "                        taste_list  \n",
       "31                          [none]  \n",
       "87  [ intense, oak, citrus, long ]  \n",
       "88                          [none]  \n",
       "89           [ rich, fruit, long ]  \n",
       "90                          [none]  "
      ]
     },
     "execution_count": 47,
     "metadata": {},
     "output_type": "execute_result"
    }
   ],
   "source": [
    "df[df['country'] == 'India'].head()"
   ]
  },
  {
   "cell_type": "code",
   "execution_count": 48,
   "metadata": {},
   "outputs": [
    {
     "data": {
      "text/html": [
       "<div>\n",
       "<style>\n",
       "    .dataframe thead tr:only-child th {\n",
       "        text-align: right;\n",
       "    }\n",
       "\n",
       "    .dataframe thead th {\n",
       "        text-align: left;\n",
       "    }\n",
       "\n",
       "    .dataframe tbody tr th {\n",
       "        vertical-align: top;\n",
       "    }\n",
       "</style>\n",
       "<table border=\"1\" class=\"dataframe\">\n",
       "  <thead>\n",
       "    <tr style=\"text-align: right;\">\n",
       "      <th></th>\n",
       "      <th>price</th>\n",
       "      <th>avg_rating</th>\n",
       "      <th>score</th>\n",
       "    </tr>\n",
       "  </thead>\n",
       "  <tbody>\n",
       "    <tr>\n",
       "      <th>count</th>\n",
       "      <td>25.000000</td>\n",
       "      <td>25.000000</td>\n",
       "      <td>25.000000</td>\n",
       "    </tr>\n",
       "    <tr>\n",
       "      <th>mean</th>\n",
       "      <td>88.190000</td>\n",
       "      <td>0.852000</td>\n",
       "      <td>6.280000</td>\n",
       "    </tr>\n",
       "    <tr>\n",
       "      <th>std</th>\n",
       "      <td>65.435082</td>\n",
       "      <td>2.628707</td>\n",
       "      <td>25.198413</td>\n",
       "    </tr>\n",
       "    <tr>\n",
       "      <th>min</th>\n",
       "      <td>14.990000</td>\n",
       "      <td>-1.000000</td>\n",
       "      <td>-1.000000</td>\n",
       "    </tr>\n",
       "    <tr>\n",
       "      <th>25%</th>\n",
       "      <td>52.990000</td>\n",
       "      <td>-1.000000</td>\n",
       "      <td>-1.000000</td>\n",
       "    </tr>\n",
       "    <tr>\n",
       "      <th>50%</th>\n",
       "      <td>67.990000</td>\n",
       "      <td>-1.000000</td>\n",
       "      <td>-1.000000</td>\n",
       "    </tr>\n",
       "    <tr>\n",
       "      <th>75%</th>\n",
       "      <td>109.990000</td>\n",
       "      <td>4.000000</td>\n",
       "      <td>-1.000000</td>\n",
       "    </tr>\n",
       "    <tr>\n",
       "      <th>max</th>\n",
       "      <td>259.990000</td>\n",
       "      <td>5.000000</td>\n",
       "      <td>91.000000</td>\n",
       "    </tr>\n",
       "  </tbody>\n",
       "</table>\n",
       "</div>"
      ],
      "text/plain": [
       "            price  avg_rating      score\n",
       "count   25.000000   25.000000  25.000000\n",
       "mean    88.190000    0.852000   6.280000\n",
       "std     65.435082    2.628707  25.198413\n",
       "min     14.990000   -1.000000  -1.000000\n",
       "25%     52.990000   -1.000000  -1.000000\n",
       "50%     67.990000   -1.000000  -1.000000\n",
       "75%    109.990000    4.000000  -1.000000\n",
       "max    259.990000    5.000000  91.000000"
      ]
     },
     "execution_count": 48,
     "metadata": {},
     "output_type": "execute_result"
    }
   ],
   "source": [
    "df[df['country'] == 'India'].describe()"
   ]
  },
  {
   "cell_type": "code",
   "execution_count": 49,
   "metadata": {},
   "outputs": [
    {
     "data": {
      "text/html": [
       "<div>\n",
       "<style>\n",
       "    .dataframe thead tr:only-child th {\n",
       "        text-align: right;\n",
       "    }\n",
       "\n",
       "    .dataframe thead th {\n",
       "        text-align: left;\n",
       "    }\n",
       "\n",
       "    .dataframe tbody tr th {\n",
       "        vertical-align: top;\n",
       "    }\n",
       "</style>\n",
       "<table border=\"1\" class=\"dataframe\">\n",
       "  <thead>\n",
       "    <tr style=\"text-align: right;\">\n",
       "      <th></th>\n",
       "      <th>title</th>\n",
       "      <th>price</th>\n",
       "      <th>size</th>\n",
       "      <th>avg_rating</th>\n",
       "      <th>taste</th>\n",
       "      <th>score</th>\n",
       "      <th>description</th>\n",
       "      <th>brand</th>\n",
       "      <th>country</th>\n",
       "      <th>state</th>\n",
       "      <th>spirit_type</th>\n",
       "      <th>spirit_style</th>\n",
       "      <th>reviews</th>\n",
       "      <th>taste_list</th>\n",
       "    </tr>\n",
       "  </thead>\n",
       "  <tbody>\n",
       "    <tr>\n",
       "      <th>987</th>\n",
       "      <td>Kavalan Ex Fino Sherry Cask</td>\n",
       "      <td>449.99</td>\n",
       "      <td>750ml</td>\n",
       "      <td>-1.0</td>\n",
       "      <td>Medium . Chocolate . Fruit . Mild</td>\n",
       "      <td>-1</td>\n",
       "      <td>Taiwan- The dark gold and amber color truly e...</td>\n",
       "      <td>Kavalan</td>\n",
       "      <td>Taiwan</td>\n",
       "      <td>NaN</td>\n",
       "      <td>Scotch</td>\n",
       "      <td>Single Malt</td>\n",
       "      <td>No Reviews</td>\n",
       "      <td>[ medium, chocolate, fruit, mild ]</td>\n",
       "    </tr>\n",
       "    <tr>\n",
       "      <th>988</th>\n",
       "      <td>Kavalan Whisky Amontillado Cask</td>\n",
       "      <td>539.99</td>\n",
       "      <td>750ml</td>\n",
       "      <td>-1.0</td>\n",
       "      <td>Delicate . Fruit . Wood . Caramel . Long</td>\n",
       "      <td>-1</td>\n",
       "      <td>Taiwan- Hints of raisin and coconut on the no...</td>\n",
       "      <td>Kavalan</td>\n",
       "      <td>Taiwan</td>\n",
       "      <td>NaN</td>\n",
       "      <td>Scotch</td>\n",
       "      <td>Single Malt</td>\n",
       "      <td>No Reviews</td>\n",
       "      <td>[ delicate, fruit, wood, caramel, long ]</td>\n",
       "    </tr>\n",
       "    <tr>\n",
       "      <th>989</th>\n",
       "      <td>Kavalan Whisky Classic</td>\n",
       "      <td>69.99</td>\n",
       "      <td>750ml</td>\n",
       "      <td>4.4</td>\n",
       "      <td>None</td>\n",
       "      <td>-1</td>\n",
       "      <td>Taiwan - The nose is clean, elegant, floral, ...</td>\n",
       "      <td>Kavalan</td>\n",
       "      <td>Taiwan</td>\n",
       "      <td>NaN</td>\n",
       "      <td>Scotch</td>\n",
       "      <td>Single Malt</td>\n",
       "      <td>{'review_1': {'review_desc': '    Mellow and e...</td>\n",
       "      <td>[none]</td>\n",
       "    </tr>\n",
       "    <tr>\n",
       "      <th>990</th>\n",
       "      <td>Kavalan Whisky Classic w/ King Car 50ml &amp; Glass</td>\n",
       "      <td>82.99</td>\n",
       "      <td>750ml Btl</td>\n",
       "      <td>-1.0</td>\n",
       "      <td>None</td>\n",
       "      <td>-1</td>\n",
       "      <td>Taiwan- This is a gift set that includes Kava...</td>\n",
       "      <td>Kavalan</td>\n",
       "      <td>Taiwan</td>\n",
       "      <td>NaN</td>\n",
       "      <td>Scotch</td>\n",
       "      <td>Single Malt</td>\n",
       "      <td>No Reviews</td>\n",
       "      <td>[none]</td>\n",
       "    </tr>\n",
       "    <tr>\n",
       "      <th>991</th>\n",
       "      <td>Kavalan Whisky Concertmaster</td>\n",
       "      <td>75.99</td>\n",
       "      <td>750ml</td>\n",
       "      <td>4.0</td>\n",
       "      <td>Medium . Grain . Smoke . Peat . Balanced</td>\n",
       "      <td>-1</td>\n",
       "      <td>Taiwan - The fresh air in Yilan gives Kavalan...</td>\n",
       "      <td>Kavalan</td>\n",
       "      <td>Taiwan</td>\n",
       "      <td>NaN</td>\n",
       "      <td>Scotch</td>\n",
       "      <td>Single Malt</td>\n",
       "      <td>NaN</td>\n",
       "      <td>[ medium, grain, smoke, peat, balanced ]</td>\n",
       "    </tr>\n",
       "  </tbody>\n",
       "</table>\n",
       "</div>"
      ],
      "text/plain": [
       "                                               title   price       size  \\\n",
       "987                      Kavalan Ex Fino Sherry Cask  449.99      750ml   \n",
       "988                  Kavalan Whisky Amontillado Cask  539.99      750ml   \n",
       "989                           Kavalan Whisky Classic   69.99      750ml   \n",
       "990  Kavalan Whisky Classic w/ King Car 50ml & Glass   82.99  750ml Btl   \n",
       "991                     Kavalan Whisky Concertmaster   75.99      750ml   \n",
       "\n",
       "     avg_rating                                       taste  score  \\\n",
       "987        -1.0          Medium . Chocolate . Fruit . Mild      -1   \n",
       "988        -1.0   Delicate . Fruit . Wood . Caramel . Long      -1   \n",
       "989         4.4                                        None     -1   \n",
       "990        -1.0                                        None     -1   \n",
       "991         4.0   Medium . Grain . Smoke . Peat . Balanced      -1   \n",
       "\n",
       "                                           description    brand country state  \\\n",
       "987   Taiwan- The dark gold and amber color truly e...  Kavalan  Taiwan   NaN   \n",
       "988   Taiwan- Hints of raisin and coconut on the no...  Kavalan  Taiwan   NaN   \n",
       "989   Taiwan - The nose is clean, elegant, floral, ...  Kavalan  Taiwan   NaN   \n",
       "990   Taiwan- This is a gift set that includes Kava...  Kavalan  Taiwan   NaN   \n",
       "991   Taiwan - The fresh air in Yilan gives Kavalan...  Kavalan  Taiwan   NaN   \n",
       "\n",
       "    spirit_type spirit_style  \\\n",
       "987      Scotch  Single Malt   \n",
       "988      Scotch  Single Malt   \n",
       "989      Scotch  Single Malt   \n",
       "990      Scotch  Single Malt   \n",
       "991      Scotch  Single Malt   \n",
       "\n",
       "                                               reviews  \\\n",
       "987                                         No Reviews   \n",
       "988                                         No Reviews   \n",
       "989  {'review_1': {'review_desc': '    Mellow and e...   \n",
       "990                                         No Reviews   \n",
       "991                                                NaN   \n",
       "\n",
       "                                   taste_list  \n",
       "987        [ medium, chocolate, fruit, mild ]  \n",
       "988  [ delicate, fruit, wood, caramel, long ]  \n",
       "989                                    [none]  \n",
       "990                                    [none]  \n",
       "991  [ medium, grain, smoke, peat, balanced ]  "
      ]
     },
     "execution_count": 49,
     "metadata": {},
     "output_type": "execute_result"
    }
   ],
   "source": [
    "df[df['country'] == 'Taiwan'].head()\n",
    "# Taiwan has some expensive scotches"
   ]
  },
  {
   "cell_type": "code",
   "execution_count": 50,
   "metadata": {},
   "outputs": [
    {
     "data": {
      "text/html": [
       "<div>\n",
       "<style>\n",
       "    .dataframe thead tr:only-child th {\n",
       "        text-align: right;\n",
       "    }\n",
       "\n",
       "    .dataframe thead th {\n",
       "        text-align: left;\n",
       "    }\n",
       "\n",
       "    .dataframe tbody tr th {\n",
       "        vertical-align: top;\n",
       "    }\n",
       "</style>\n",
       "<table border=\"1\" class=\"dataframe\">\n",
       "  <thead>\n",
       "    <tr style=\"text-align: right;\">\n",
       "      <th></th>\n",
       "      <th>price</th>\n",
       "      <th>avg_rating</th>\n",
       "      <th>score</th>\n",
       "    </tr>\n",
       "  </thead>\n",
       "  <tbody>\n",
       "    <tr>\n",
       "      <th>count</th>\n",
       "      <td>18.000000</td>\n",
       "      <td>18.000000</td>\n",
       "      <td>18.0</td>\n",
       "    </tr>\n",
       "    <tr>\n",
       "      <th>mean</th>\n",
       "      <td>250.128889</td>\n",
       "      <td>0.577778</td>\n",
       "      <td>-1.0</td>\n",
       "    </tr>\n",
       "    <tr>\n",
       "      <th>std</th>\n",
       "      <td>204.074223</td>\n",
       "      <td>2.627357</td>\n",
       "      <td>0.0</td>\n",
       "    </tr>\n",
       "    <tr>\n",
       "      <th>min</th>\n",
       "      <td>59.990000</td>\n",
       "      <td>-1.000000</td>\n",
       "      <td>-1.0</td>\n",
       "    </tr>\n",
       "    <tr>\n",
       "      <th>25%</th>\n",
       "      <td>97.990000</td>\n",
       "      <td>-1.000000</td>\n",
       "      <td>-1.0</td>\n",
       "    </tr>\n",
       "    <tr>\n",
       "      <th>50%</th>\n",
       "      <td>159.740000</td>\n",
       "      <td>-1.000000</td>\n",
       "      <td>-1.0</td>\n",
       "    </tr>\n",
       "    <tr>\n",
       "      <th>75%</th>\n",
       "      <td>404.990000</td>\n",
       "      <td>2.750000</td>\n",
       "      <td>-1.0</td>\n",
       "    </tr>\n",
       "    <tr>\n",
       "      <th>max</th>\n",
       "      <td>629.990000</td>\n",
       "      <td>5.000000</td>\n",
       "      <td>-1.0</td>\n",
       "    </tr>\n",
       "  </tbody>\n",
       "</table>\n",
       "</div>"
      ],
      "text/plain": [
       "            price  avg_rating  score\n",
       "count   18.000000   18.000000   18.0\n",
       "mean   250.128889    0.577778   -1.0\n",
       "std    204.074223    2.627357    0.0\n",
       "min     59.990000   -1.000000   -1.0\n",
       "25%     97.990000   -1.000000   -1.0\n",
       "50%    159.740000   -1.000000   -1.0\n",
       "75%    404.990000    2.750000   -1.0\n",
       "max    629.990000    5.000000   -1.0"
      ]
     },
     "execution_count": 50,
     "metadata": {},
     "output_type": "execute_result"
    }
   ],
   "source": [
    "df[df['country'] == 'Taiwan'].describe()"
   ]
  },
  {
   "cell_type": "code",
   "execution_count": 51,
   "metadata": {},
   "outputs": [
    {
     "data": {
      "text/html": [
       "<div>\n",
       "<style>\n",
       "    .dataframe thead tr:only-child th {\n",
       "        text-align: right;\n",
       "    }\n",
       "\n",
       "    .dataframe thead th {\n",
       "        text-align: left;\n",
       "    }\n",
       "\n",
       "    .dataframe tbody tr th {\n",
       "        vertical-align: top;\n",
       "    }\n",
       "</style>\n",
       "<table border=\"1\" class=\"dataframe\">\n",
       "  <thead>\n",
       "    <tr style=\"text-align: right;\">\n",
       "      <th></th>\n",
       "      <th>title</th>\n",
       "      <th>price</th>\n",
       "      <th>size</th>\n",
       "      <th>avg_rating</th>\n",
       "      <th>taste</th>\n",
       "      <th>score</th>\n",
       "      <th>description</th>\n",
       "      <th>brand</th>\n",
       "      <th>country</th>\n",
       "      <th>state</th>\n",
       "      <th>spirit_type</th>\n",
       "      <th>spirit_style</th>\n",
       "      <th>reviews</th>\n",
       "      <th>taste_list</th>\n",
       "    </tr>\n",
       "  </thead>\n",
       "  <tbody>\n",
       "    <tr>\n",
       "      <th>240</th>\n",
       "      <td>Bellevoye Whisky</td>\n",
       "      <td>34.99</td>\n",
       "      <td>750ml</td>\n",
       "      <td>4.5</td>\n",
       "      <td>Light . Oak . Complex</td>\n",
       "      <td>-1</td>\n",
       "      <td>France - A non-peated, triple distilled blend...</td>\n",
       "      <td>Bellevoye</td>\n",
       "      <td>France</td>\n",
       "      <td>NaN</td>\n",
       "      <td>Scotch</td>\n",
       "      <td>Single Malt</td>\n",
       "      <td>{'review_1': {'review_desc': '    Fantastic!  ...</td>\n",
       "      <td>[ light, oak, complex ]</td>\n",
       "    </tr>\n",
       "    <tr>\n",
       "      <th>334</th>\n",
       "      <td>Brenne French Single Malt 10 Yr Whisky</td>\n",
       "      <td>89.99</td>\n",
       "      <td>750ml</td>\n",
       "      <td>-1.0</td>\n",
       "      <td>None</td>\n",
       "      <td>93</td>\n",
       "      <td>France- Brenne Ten is made from organically-g...</td>\n",
       "      <td>Brenne</td>\n",
       "      <td>France</td>\n",
       "      <td>NaN</td>\n",
       "      <td>Scotch</td>\n",
       "      <td>Single Malt</td>\n",
       "      <td>No Reviews</td>\n",
       "      <td>[none]</td>\n",
       "    </tr>\n",
       "    <tr>\n",
       "      <th>335</th>\n",
       "      <td>Brenne French Single Malt Whisky</td>\n",
       "      <td>48.99</td>\n",
       "      <td>750ml</td>\n",
       "      <td>5.0</td>\n",
       "      <td>Light . Vanilla . Caramel . Mild</td>\n",
       "      <td>-1</td>\n",
       "      <td>France - Distilled from 100% estate grown org...</td>\n",
       "      <td>Brenne</td>\n",
       "      <td>France</td>\n",
       "      <td>NaN</td>\n",
       "      <td>Scotch</td>\n",
       "      <td>Single Malt</td>\n",
       "      <td>NaN</td>\n",
       "      <td>[ light, vanilla, caramel, mild ]</td>\n",
       "    </tr>\n",
       "    <tr>\n",
       "      <th>1402</th>\n",
       "      <td>Vicomte Cask Strength Single Malt</td>\n",
       "      <td>64.99</td>\n",
       "      <td>750ml</td>\n",
       "      <td>5.0</td>\n",
       "      <td>None</td>\n",
       "      <td>-1</td>\n",
       "      <td>France- Vicomte Cask Strength is a single mal...</td>\n",
       "      <td>Vicomte</td>\n",
       "      <td>France</td>\n",
       "      <td>NaN</td>\n",
       "      <td>Scotch</td>\n",
       "      <td>Single Malt</td>\n",
       "      <td>NaN</td>\n",
       "      <td>[none]</td>\n",
       "    </tr>\n",
       "    <tr>\n",
       "      <th>1403</th>\n",
       "      <td>Vicomte Single Malt French Whisky</td>\n",
       "      <td>47.99</td>\n",
       "      <td>750ml</td>\n",
       "      <td>4.0</td>\n",
       "      <td>None</td>\n",
       "      <td>-1</td>\n",
       "      <td>France - Notes of candied apples, fresh citru...</td>\n",
       "      <td>Vicomte</td>\n",
       "      <td>France</td>\n",
       "      <td>NaN</td>\n",
       "      <td>Scotch</td>\n",
       "      <td>Single Malt</td>\n",
       "      <td>NaN</td>\n",
       "      <td>[none]</td>\n",
       "    </tr>\n",
       "  </tbody>\n",
       "</table>\n",
       "</div>"
      ],
      "text/plain": [
       "                                       title  price   size  avg_rating  \\\n",
       "240                         Bellevoye Whisky  34.99  750ml         4.5   \n",
       "334   Brenne French Single Malt 10 Yr Whisky  89.99  750ml        -1.0   \n",
       "335         Brenne French Single Malt Whisky  48.99  750ml         5.0   \n",
       "1402       Vicomte Cask Strength Single Malt  64.99  750ml         5.0   \n",
       "1403       Vicomte Single Malt French Whisky  47.99  750ml         4.0   \n",
       "\n",
       "                                   taste  score  \\\n",
       "240               Light . Oak . Complex      -1   \n",
       "334                                 None     93   \n",
       "335    Light . Vanilla . Caramel . Mild      -1   \n",
       "1402                                None     -1   \n",
       "1403                                None     -1   \n",
       "\n",
       "                                            description      brand country  \\\n",
       "240    France - A non-peated, triple distilled blend...  Bellevoye  France   \n",
       "334    France- Brenne Ten is made from organically-g...     Brenne  France   \n",
       "335    France - Distilled from 100% estate grown org...     Brenne  France   \n",
       "1402   France- Vicomte Cask Strength is a single mal...    Vicomte  France   \n",
       "1403   France - Notes of candied apples, fresh citru...    Vicomte  France   \n",
       "\n",
       "     state spirit_type spirit_style  \\\n",
       "240    NaN      Scotch  Single Malt   \n",
       "334    NaN      Scotch  Single Malt   \n",
       "335    NaN      Scotch  Single Malt   \n",
       "1402   NaN      Scotch  Single Malt   \n",
       "1403   NaN      Scotch  Single Malt   \n",
       "\n",
       "                                                reviews  \\\n",
       "240   {'review_1': {'review_desc': '    Fantastic!  ...   \n",
       "334                                          No Reviews   \n",
       "335                                                 NaN   \n",
       "1402                                                NaN   \n",
       "1403                                                NaN   \n",
       "\n",
       "                             taste_list  \n",
       "240             [ light, oak, complex ]  \n",
       "334                              [none]  \n",
       "335   [ light, vanilla, caramel, mild ]  \n",
       "1402                             [none]  \n",
       "1403                             [none]  "
      ]
     },
     "execution_count": 51,
     "metadata": {},
     "output_type": "execute_result"
    }
   ],
   "source": [
    "df[df['country'] == 'France']"
   ]
  },
  {
   "cell_type": "code",
   "execution_count": 52,
   "metadata": {},
   "outputs": [
    {
     "data": {
      "text/html": [
       "<div>\n",
       "<style>\n",
       "    .dataframe thead tr:only-child th {\n",
       "        text-align: right;\n",
       "    }\n",
       "\n",
       "    .dataframe thead th {\n",
       "        text-align: left;\n",
       "    }\n",
       "\n",
       "    .dataframe tbody tr th {\n",
       "        vertical-align: top;\n",
       "    }\n",
       "</style>\n",
       "<table border=\"1\" class=\"dataframe\">\n",
       "  <thead>\n",
       "    <tr style=\"text-align: right;\">\n",
       "      <th></th>\n",
       "      <th>price</th>\n",
       "      <th>avg_rating</th>\n",
       "      <th>score</th>\n",
       "    </tr>\n",
       "  </thead>\n",
       "  <tbody>\n",
       "    <tr>\n",
       "      <th>count</th>\n",
       "      <td>5.000000</td>\n",
       "      <td>5.00000</td>\n",
       "      <td>5.000000</td>\n",
       "    </tr>\n",
       "    <tr>\n",
       "      <th>mean</th>\n",
       "      <td>57.390000</td>\n",
       "      <td>3.50000</td>\n",
       "      <td>17.800000</td>\n",
       "    </tr>\n",
       "    <tr>\n",
       "      <th>std</th>\n",
       "      <td>21.102133</td>\n",
       "      <td>2.54951</td>\n",
       "      <td>42.038078</td>\n",
       "    </tr>\n",
       "    <tr>\n",
       "      <th>min</th>\n",
       "      <td>34.990000</td>\n",
       "      <td>-1.00000</td>\n",
       "      <td>-1.000000</td>\n",
       "    </tr>\n",
       "    <tr>\n",
       "      <th>25%</th>\n",
       "      <td>47.990000</td>\n",
       "      <td>4.00000</td>\n",
       "      <td>-1.000000</td>\n",
       "    </tr>\n",
       "    <tr>\n",
       "      <th>50%</th>\n",
       "      <td>48.990000</td>\n",
       "      <td>4.50000</td>\n",
       "      <td>-1.000000</td>\n",
       "    </tr>\n",
       "    <tr>\n",
       "      <th>75%</th>\n",
       "      <td>64.990000</td>\n",
       "      <td>5.00000</td>\n",
       "      <td>-1.000000</td>\n",
       "    </tr>\n",
       "    <tr>\n",
       "      <th>max</th>\n",
       "      <td>89.990000</td>\n",
       "      <td>5.00000</td>\n",
       "      <td>93.000000</td>\n",
       "    </tr>\n",
       "  </tbody>\n",
       "</table>\n",
       "</div>"
      ],
      "text/plain": [
       "           price  avg_rating      score\n",
       "count   5.000000     5.00000   5.000000\n",
       "mean   57.390000     3.50000  17.800000\n",
       "std    21.102133     2.54951  42.038078\n",
       "min    34.990000    -1.00000  -1.000000\n",
       "25%    47.990000     4.00000  -1.000000\n",
       "50%    48.990000     4.50000  -1.000000\n",
       "75%    64.990000     5.00000  -1.000000\n",
       "max    89.990000     5.00000  93.000000"
      ]
     },
     "execution_count": 52,
     "metadata": {},
     "output_type": "execute_result"
    }
   ],
   "source": [
    "df[df['country'] == 'France'].describe()"
   ]
  },
  {
   "cell_type": "code",
   "execution_count": 53,
   "metadata": {},
   "outputs": [
    {
     "data": {
      "text/html": [
       "<div>\n",
       "<style>\n",
       "    .dataframe thead tr:only-child th {\n",
       "        text-align: right;\n",
       "    }\n",
       "\n",
       "    .dataframe thead th {\n",
       "        text-align: left;\n",
       "    }\n",
       "\n",
       "    .dataframe tbody tr th {\n",
       "        vertical-align: top;\n",
       "    }\n",
       "</style>\n",
       "<table border=\"1\" class=\"dataframe\">\n",
       "  <thead>\n",
       "    <tr style=\"text-align: right;\">\n",
       "      <th></th>\n",
       "      <th>title</th>\n",
       "      <th>price</th>\n",
       "      <th>size</th>\n",
       "      <th>avg_rating</th>\n",
       "      <th>taste</th>\n",
       "      <th>score</th>\n",
       "      <th>description</th>\n",
       "      <th>brand</th>\n",
       "      <th>country</th>\n",
       "      <th>state</th>\n",
       "      <th>spirit_type</th>\n",
       "      <th>spirit_style</th>\n",
       "      <th>reviews</th>\n",
       "      <th>taste_list</th>\n",
       "    </tr>\n",
       "  </thead>\n",
       "  <tbody>\n",
       "    <tr>\n",
       "      <th>709</th>\n",
       "      <td>Glen Salen Pre Malt</td>\n",
       "      <td>19.99</td>\n",
       "      <td>750ml</td>\n",
       "      <td>-1.0</td>\n",
       "      <td>None</td>\n",
       "      <td>-1</td>\n",
       "      <td>Scotland- Comprised of carefully selected sin...</td>\n",
       "      <td>Glen Salen</td>\n",
       "      <td>United States</td>\n",
       "      <td>NaN</td>\n",
       "      <td>Scotch</td>\n",
       "      <td>Single Malt</td>\n",
       "      <td>No Reviews</td>\n",
       "      <td>[none]</td>\n",
       "    </tr>\n",
       "    <tr>\n",
       "      <th>1092</th>\n",
       "      <td>Lost Spirits Abomination The Crying of the Puma</td>\n",
       "      <td>54.99</td>\n",
       "      <td>750ml</td>\n",
       "      <td>-1.0</td>\n",
       "      <td>None</td>\n",
       "      <td>-1</td>\n",
       "      <td>California- Smoky Islay malt whisky finished ...</td>\n",
       "      <td>Lost Spirits</td>\n",
       "      <td>United States</td>\n",
       "      <td>California</td>\n",
       "      <td>Scotch</td>\n",
       "      <td>Single Malt</td>\n",
       "      <td>No Reviews</td>\n",
       "      <td>[none]</td>\n",
       "    </tr>\n",
       "    <tr>\n",
       "      <th>1093</th>\n",
       "      <td>Lost Spirits Abomination The Sayers of the Law</td>\n",
       "      <td>54.99</td>\n",
       "      <td>750ml</td>\n",
       "      <td>-1.0</td>\n",
       "      <td>None</td>\n",
       "      <td>-1</td>\n",
       "      <td>California- Smoky Islay malt whisky finished ...</td>\n",
       "      <td>Lost Spirits</td>\n",
       "      <td>United States</td>\n",
       "      <td>California</td>\n",
       "      <td>Scotch</td>\n",
       "      <td>Single Malt</td>\n",
       "      <td>No Reviews</td>\n",
       "      <td>[none]</td>\n",
       "    </tr>\n",
       "    <tr>\n",
       "      <th>1326</th>\n",
       "      <td>St George Single Malt Whiskey</td>\n",
       "      <td>99.99</td>\n",
       "      <td>750ml</td>\n",
       "      <td>5.0</td>\n",
       "      <td>Rich . Vanilla . Balanced</td>\n",
       "      <td>-1</td>\n",
       "      <td>California- An unpeated single malt from the ...</td>\n",
       "      <td>St George</td>\n",
       "      <td>United States</td>\n",
       "      <td>California</td>\n",
       "      <td>Scotch</td>\n",
       "      <td>Single Malt</td>\n",
       "      <td>NaN</td>\n",
       "      <td>[ rich, vanilla, balanced ]</td>\n",
       "    </tr>\n",
       "  </tbody>\n",
       "</table>\n",
       "</div>"
      ],
      "text/plain": [
       "                                                title  price   size  \\\n",
       "709                               Glen Salen Pre Malt  19.99  750ml   \n",
       "1092  Lost Spirits Abomination The Crying of the Puma  54.99  750ml   \n",
       "1093   Lost Spirits Abomination The Sayers of the Law  54.99  750ml   \n",
       "1326                    St George Single Malt Whiskey  99.99  750ml   \n",
       "\n",
       "      avg_rating                        taste  score  \\\n",
       "709         -1.0                         None     -1   \n",
       "1092        -1.0                         None     -1   \n",
       "1093        -1.0                         None     -1   \n",
       "1326         5.0   Rich . Vanilla . Balanced      -1   \n",
       "\n",
       "                                            description         brand  \\\n",
       "709    Scotland- Comprised of carefully selected sin...    Glen Salen   \n",
       "1092   California- Smoky Islay malt whisky finished ...  Lost Spirits   \n",
       "1093   California- Smoky Islay malt whisky finished ...  Lost Spirits   \n",
       "1326   California- An unpeated single malt from the ...     St George   \n",
       "\n",
       "            country       state spirit_type spirit_style     reviews  \\\n",
       "709   United States         NaN      Scotch  Single Malt  No Reviews   \n",
       "1092  United States  California      Scotch  Single Malt  No Reviews   \n",
       "1093  United States  California      Scotch  Single Malt  No Reviews   \n",
       "1326  United States  California      Scotch  Single Malt         NaN   \n",
       "\n",
       "                       taste_list  \n",
       "709                        [none]  \n",
       "1092                       [none]  \n",
       "1093                       [none]  \n",
       "1326  [ rich, vanilla, balanced ]  "
      ]
     },
     "execution_count": 53,
     "metadata": {},
     "output_type": "execute_result"
    }
   ],
   "source": [
    "df[df['country'] == 'United States']"
   ]
  },
  {
   "cell_type": "code",
   "execution_count": 54,
   "metadata": {},
   "outputs": [
    {
     "data": {
      "text/html": [
       "<div>\n",
       "<style>\n",
       "    .dataframe thead tr:only-child th {\n",
       "        text-align: right;\n",
       "    }\n",
       "\n",
       "    .dataframe thead th {\n",
       "        text-align: left;\n",
       "    }\n",
       "\n",
       "    .dataframe tbody tr th {\n",
       "        vertical-align: top;\n",
       "    }\n",
       "</style>\n",
       "<table border=\"1\" class=\"dataframe\">\n",
       "  <thead>\n",
       "    <tr style=\"text-align: right;\">\n",
       "      <th></th>\n",
       "      <th>price</th>\n",
       "      <th>avg_rating</th>\n",
       "      <th>score</th>\n",
       "    </tr>\n",
       "  </thead>\n",
       "  <tbody>\n",
       "    <tr>\n",
       "      <th>count</th>\n",
       "      <td>4.000000</td>\n",
       "      <td>4.0</td>\n",
       "      <td>4.0</td>\n",
       "    </tr>\n",
       "    <tr>\n",
       "      <th>mean</th>\n",
       "      <td>57.490000</td>\n",
       "      <td>0.5</td>\n",
       "      <td>-1.0</td>\n",
       "    </tr>\n",
       "    <tr>\n",
       "      <th>std</th>\n",
       "      <td>32.787193</td>\n",
       "      <td>3.0</td>\n",
       "      <td>0.0</td>\n",
       "    </tr>\n",
       "    <tr>\n",
       "      <th>min</th>\n",
       "      <td>19.990000</td>\n",
       "      <td>-1.0</td>\n",
       "      <td>-1.0</td>\n",
       "    </tr>\n",
       "    <tr>\n",
       "      <th>25%</th>\n",
       "      <td>46.240000</td>\n",
       "      <td>-1.0</td>\n",
       "      <td>-1.0</td>\n",
       "    </tr>\n",
       "    <tr>\n",
       "      <th>50%</th>\n",
       "      <td>54.990000</td>\n",
       "      <td>-1.0</td>\n",
       "      <td>-1.0</td>\n",
       "    </tr>\n",
       "    <tr>\n",
       "      <th>75%</th>\n",
       "      <td>66.240000</td>\n",
       "      <td>0.5</td>\n",
       "      <td>-1.0</td>\n",
       "    </tr>\n",
       "    <tr>\n",
       "      <th>max</th>\n",
       "      <td>99.990000</td>\n",
       "      <td>5.0</td>\n",
       "      <td>-1.0</td>\n",
       "    </tr>\n",
       "  </tbody>\n",
       "</table>\n",
       "</div>"
      ],
      "text/plain": [
       "           price  avg_rating  score\n",
       "count   4.000000         4.0    4.0\n",
       "mean   57.490000         0.5   -1.0\n",
       "std    32.787193         3.0    0.0\n",
       "min    19.990000        -1.0   -1.0\n",
       "25%    46.240000        -1.0   -1.0\n",
       "50%    54.990000        -1.0   -1.0\n",
       "75%    66.240000         0.5   -1.0\n",
       "max    99.990000         5.0   -1.0"
      ]
     },
     "execution_count": 54,
     "metadata": {},
     "output_type": "execute_result"
    }
   ],
   "source": [
    "df[df['country'] == 'United States'].describe()"
   ]
  },
  {
   "cell_type": "code",
   "execution_count": 55,
   "metadata": {},
   "outputs": [
    {
     "data": {
      "text/html": [
       "<div>\n",
       "<style>\n",
       "    .dataframe thead tr:only-child th {\n",
       "        text-align: right;\n",
       "    }\n",
       "\n",
       "    .dataframe thead th {\n",
       "        text-align: left;\n",
       "    }\n",
       "\n",
       "    .dataframe tbody tr th {\n",
       "        vertical-align: top;\n",
       "    }\n",
       "</style>\n",
       "<table border=\"1\" class=\"dataframe\">\n",
       "  <thead>\n",
       "    <tr style=\"text-align: right;\">\n",
       "      <th></th>\n",
       "      <th>title</th>\n",
       "      <th>price</th>\n",
       "      <th>size</th>\n",
       "      <th>avg_rating</th>\n",
       "      <th>taste</th>\n",
       "      <th>score</th>\n",
       "      <th>description</th>\n",
       "      <th>brand</th>\n",
       "      <th>country</th>\n",
       "      <th>state</th>\n",
       "      <th>spirit_type</th>\n",
       "      <th>spirit_style</th>\n",
       "      <th>reviews</th>\n",
       "      <th>taste_list</th>\n",
       "    </tr>\n",
       "  </thead>\n",
       "  <tbody>\n",
       "    <tr>\n",
       "      <th>1170</th>\n",
       "      <td>Mikkeller Black Whiskey Version B</td>\n",
       "      <td>84.99</td>\n",
       "      <td>750ml</td>\n",
       "      <td>-1.0</td>\n",
       "      <td>None</td>\n",
       "      <td>-1</td>\n",
       "      <td>Denmark - The very popular brewer - Mikkeller...</td>\n",
       "      <td>Mikkeller</td>\n",
       "      <td>Denmark</td>\n",
       "      <td>NaN</td>\n",
       "      <td>Scotch</td>\n",
       "      <td>Single Malt</td>\n",
       "      <td>No Reviews</td>\n",
       "      <td>[none]</td>\n",
       "    </tr>\n",
       "    <tr>\n",
       "      <th>1171</th>\n",
       "      <td>Mikkeller Black Whiskey Version O</td>\n",
       "      <td>84.99</td>\n",
       "      <td>750ml</td>\n",
       "      <td>-1.0</td>\n",
       "      <td>None</td>\n",
       "      <td>-1</td>\n",
       "      <td>Denmark - The very popular brewer - Mikkeller...</td>\n",
       "      <td>Mikkeller</td>\n",
       "      <td>Denmark</td>\n",
       "      <td>NaN</td>\n",
       "      <td>Scotch</td>\n",
       "      <td>Single Malt</td>\n",
       "      <td>No Reviews</td>\n",
       "      <td>[none]</td>\n",
       "    </tr>\n",
       "    <tr>\n",
       "      <th>1172</th>\n",
       "      <td>Mikkeller Black Whiskey Version R</td>\n",
       "      <td>84.99</td>\n",
       "      <td>750ml</td>\n",
       "      <td>-1.0</td>\n",
       "      <td>None</td>\n",
       "      <td>-1</td>\n",
       "      <td>Denmark - The very popular brewer - Mikkeller...</td>\n",
       "      <td>Mikkeller</td>\n",
       "      <td>Denmark</td>\n",
       "      <td>NaN</td>\n",
       "      <td>Scotch</td>\n",
       "      <td>Single Malt</td>\n",
       "      <td>No Reviews</td>\n",
       "      <td>[none]</td>\n",
       "    </tr>\n",
       "  </tbody>\n",
       "</table>\n",
       "</div>"
      ],
      "text/plain": [
       "                                  title  price   size  avg_rating taste  \\\n",
       "1170  Mikkeller Black Whiskey Version B  84.99  750ml        -1.0  None   \n",
       "1171  Mikkeller Black Whiskey Version O  84.99  750ml        -1.0  None   \n",
       "1172  Mikkeller Black Whiskey Version R  84.99  750ml        -1.0  None   \n",
       "\n",
       "      score                                        description      brand  \\\n",
       "1170     -1   Denmark - The very popular brewer - Mikkeller...  Mikkeller   \n",
       "1171     -1   Denmark - The very popular brewer - Mikkeller...  Mikkeller   \n",
       "1172     -1   Denmark - The very popular brewer - Mikkeller...  Mikkeller   \n",
       "\n",
       "      country state spirit_type spirit_style     reviews taste_list  \n",
       "1170  Denmark   NaN      Scotch  Single Malt  No Reviews     [none]  \n",
       "1171  Denmark   NaN      Scotch  Single Malt  No Reviews     [none]  \n",
       "1172  Denmark   NaN      Scotch  Single Malt  No Reviews     [none]  "
      ]
     },
     "execution_count": 55,
     "metadata": {},
     "output_type": "execute_result"
    }
   ],
   "source": [
    "df[df['country'] == 'Denmark']"
   ]
  },
  {
   "cell_type": "code",
   "execution_count": 56,
   "metadata": {},
   "outputs": [
    {
     "data": {
      "text/html": [
       "<div>\n",
       "<style>\n",
       "    .dataframe thead tr:only-child th {\n",
       "        text-align: right;\n",
       "    }\n",
       "\n",
       "    .dataframe thead th {\n",
       "        text-align: left;\n",
       "    }\n",
       "\n",
       "    .dataframe tbody tr th {\n",
       "        vertical-align: top;\n",
       "    }\n",
       "</style>\n",
       "<table border=\"1\" class=\"dataframe\">\n",
       "  <thead>\n",
       "    <tr style=\"text-align: right;\">\n",
       "      <th></th>\n",
       "      <th>title</th>\n",
       "      <th>price</th>\n",
       "      <th>size</th>\n",
       "      <th>avg_rating</th>\n",
       "      <th>taste</th>\n",
       "      <th>score</th>\n",
       "      <th>description</th>\n",
       "      <th>brand</th>\n",
       "      <th>country</th>\n",
       "      <th>state</th>\n",
       "      <th>spirit_type</th>\n",
       "      <th>spirit_style</th>\n",
       "      <th>reviews</th>\n",
       "      <th>taste_list</th>\n",
       "    </tr>\n",
       "  </thead>\n",
       "  <tbody>\n",
       "    <tr>\n",
       "      <th>153</th>\n",
       "      <td>Balblair 2000 Single Cask Barrel Select</td>\n",
       "      <td>67.99</td>\n",
       "      <td>750ml</td>\n",
       "      <td>-1.0</td>\n",
       "      <td>Intense . Peat . Toast . Long</td>\n",
       "      <td>-1</td>\n",
       "      <td>England- This was hand selected by Balblair D...</td>\n",
       "      <td>Balblair</td>\n",
       "      <td>England</td>\n",
       "      <td>NaN</td>\n",
       "      <td>Scotch</td>\n",
       "      <td>Single Malt</td>\n",
       "      <td>No Reviews</td>\n",
       "      <td>[ intense, peat, toast, long ]</td>\n",
       "    </tr>\n",
       "    <tr>\n",
       "      <th>1245</th>\n",
       "      <td>Penderyn Madeira Single Malt Whisky</td>\n",
       "      <td>53.99</td>\n",
       "      <td>750ml</td>\n",
       "      <td>4.7</td>\n",
       "      <td>Medium . Vanilla . Herbal . Balanced</td>\n",
       "      <td>-1</td>\n",
       "      <td>England- This Gold Medal award winning single...</td>\n",
       "      <td>Penderyn</td>\n",
       "      <td>England</td>\n",
       "      <td>NaN</td>\n",
       "      <td>Scotch</td>\n",
       "      <td>Single Malt</td>\n",
       "      <td>{'review_1': {'review_desc': '    Excellent wh...</td>\n",
       "      <td>[ medium, vanilla, herbal, balanced ]</td>\n",
       "    </tr>\n",
       "  </tbody>\n",
       "</table>\n",
       "</div>"
      ],
      "text/plain": [
       "                                        title  price   size  avg_rating  \\\n",
       "153   Balblair 2000 Single Cask Barrel Select  67.99  750ml        -1.0   \n",
       "1245      Penderyn Madeira Single Malt Whisky  53.99  750ml         4.7   \n",
       "\n",
       "                                       taste  score  \\\n",
       "153           Intense . Peat . Toast . Long      -1   \n",
       "1245   Medium . Vanilla . Herbal . Balanced      -1   \n",
       "\n",
       "                                            description     brand  country  \\\n",
       "153    England- This was hand selected by Balblair D...  Balblair  England   \n",
       "1245   England- This Gold Medal award winning single...  Penderyn  England   \n",
       "\n",
       "     state spirit_type spirit_style  \\\n",
       "153    NaN      Scotch  Single Malt   \n",
       "1245   NaN      Scotch  Single Malt   \n",
       "\n",
       "                                                reviews  \\\n",
       "153                                          No Reviews   \n",
       "1245  {'review_1': {'review_desc': '    Excellent wh...   \n",
       "\n",
       "                                 taste_list  \n",
       "153          [ intense, peat, toast, long ]  \n",
       "1245  [ medium, vanilla, herbal, balanced ]  "
      ]
     },
     "execution_count": 56,
     "metadata": {},
     "output_type": "execute_result"
    }
   ],
   "source": [
    "df[df['country'] == 'England']"
   ]
  },
  {
   "cell_type": "code",
   "execution_count": 57,
   "metadata": {},
   "outputs": [
    {
     "data": {
      "text/html": [
       "<div>\n",
       "<style>\n",
       "    .dataframe thead tr:only-child th {\n",
       "        text-align: right;\n",
       "    }\n",
       "\n",
       "    .dataframe thead th {\n",
       "        text-align: left;\n",
       "    }\n",
       "\n",
       "    .dataframe tbody tr th {\n",
       "        vertical-align: top;\n",
       "    }\n",
       "</style>\n",
       "<table border=\"1\" class=\"dataframe\">\n",
       "  <thead>\n",
       "    <tr style=\"text-align: right;\">\n",
       "      <th></th>\n",
       "      <th>title</th>\n",
       "      <th>price</th>\n",
       "      <th>size</th>\n",
       "      <th>avg_rating</th>\n",
       "      <th>taste</th>\n",
       "      <th>score</th>\n",
       "      <th>description</th>\n",
       "      <th>brand</th>\n",
       "      <th>country</th>\n",
       "      <th>state</th>\n",
       "      <th>spirit_type</th>\n",
       "      <th>spirit_style</th>\n",
       "      <th>reviews</th>\n",
       "      <th>taste_list</th>\n",
       "    </tr>\n",
       "  </thead>\n",
       "  <tbody>\n",
       "    <tr>\n",
       "      <th>1263</th>\n",
       "      <td>Reisetbauer Single Malt 12Yr</td>\n",
       "      <td>124.99</td>\n",
       "      <td>750ml</td>\n",
       "      <td>-1.0</td>\n",
       "      <td>None</td>\n",
       "      <td>-1</td>\n",
       "      <td>Austria- This single malt whisky is convincin...</td>\n",
       "      <td>Reisetbauer</td>\n",
       "      <td>Austria</td>\n",
       "      <td>NaN</td>\n",
       "      <td>Scotch</td>\n",
       "      <td>Single Malt</td>\n",
       "      <td>No Reviews</td>\n",
       "      <td>[none]</td>\n",
       "    </tr>\n",
       "  </tbody>\n",
       "</table>\n",
       "</div>"
      ],
      "text/plain": [
       "                             title   price   size  avg_rating taste  score  \\\n",
       "1263  Reisetbauer Single Malt 12Yr  124.99  750ml        -1.0  None     -1   \n",
       "\n",
       "                                            description        brand  country  \\\n",
       "1263   Austria- This single malt whisky is convincin...  Reisetbauer  Austria   \n",
       "\n",
       "     state spirit_type spirit_style     reviews taste_list  \n",
       "1263   NaN      Scotch  Single Malt  No Reviews     [none]  "
      ]
     },
     "execution_count": 57,
     "metadata": {},
     "output_type": "execute_result"
    }
   ],
   "source": [
    "df[df['country'] == 'Austria']"
   ]
  },
  {
   "cell_type": "code",
   "execution_count": 58,
   "metadata": {},
   "outputs": [
    {
     "data": {
      "text/html": [
       "<div>\n",
       "<style>\n",
       "    .dataframe thead tr:only-child th {\n",
       "        text-align: right;\n",
       "    }\n",
       "\n",
       "    .dataframe thead th {\n",
       "        text-align: left;\n",
       "    }\n",
       "\n",
       "    .dataframe tbody tr th {\n",
       "        vertical-align: top;\n",
       "    }\n",
       "</style>\n",
       "<table border=\"1\" class=\"dataframe\">\n",
       "  <thead>\n",
       "    <tr style=\"text-align: right;\">\n",
       "      <th></th>\n",
       "      <th>title</th>\n",
       "      <th>price</th>\n",
       "      <th>size</th>\n",
       "      <th>avg_rating</th>\n",
       "      <th>taste</th>\n",
       "      <th>score</th>\n",
       "      <th>description</th>\n",
       "      <th>brand</th>\n",
       "      <th>country</th>\n",
       "      <th>state</th>\n",
       "      <th>spirit_type</th>\n",
       "      <th>spirit_style</th>\n",
       "      <th>reviews</th>\n",
       "      <th>taste_list</th>\n",
       "    </tr>\n",
       "  </thead>\n",
       "  <tbody>\n",
       "    <tr>\n",
       "      <th>146</th>\n",
       "      <td>Bain's Cape Mountain Whisky</td>\n",
       "      <td>24.99</td>\n",
       "      <td>750ml</td>\n",
       "      <td>-1.0</td>\n",
       "      <td>None</td>\n",
       "      <td>-1</td>\n",
       "      <td>South Africa- Sweet aromas of grapefruit, cus...</td>\n",
       "      <td>Bain's</td>\n",
       "      <td>South Africa</td>\n",
       "      <td>NaN</td>\n",
       "      <td>Scotch</td>\n",
       "      <td>Single Malt</td>\n",
       "      <td>No Reviews</td>\n",
       "      <td>[none]</td>\n",
       "    </tr>\n",
       "  </tbody>\n",
       "</table>\n",
       "</div>"
      ],
      "text/plain": [
       "                           title  price   size  avg_rating taste  score  \\\n",
       "146  Bain's Cape Mountain Whisky  24.99  750ml        -1.0  None     -1   \n",
       "\n",
       "                                           description   brand       country  \\\n",
       "146   South Africa- Sweet aromas of grapefruit, cus...  Bain's  South Africa   \n",
       "\n",
       "    state spirit_type spirit_style     reviews taste_list  \n",
       "146   NaN      Scotch  Single Malt  No Reviews     [none]  "
      ]
     },
     "execution_count": 58,
     "metadata": {},
     "output_type": "execute_result"
    }
   ],
   "source": [
    "df[df['country'] == 'South Africa']"
   ]
  },
  {
   "cell_type": "markdown",
   "metadata": {},
   "source": [
    "Theres a good deal of Scotches not from Scotland, and a good deal of those don't have taste notes of avg ratings.  I think I'm going to not use country as a feature so that there is the opportunity of having something unique from Tiawan or Japan be recommended.\n",
    "\n",
    "On the other hand, State in terms of Scotches from Scotland could be a useful value to keep, but i'll look at that next."
   ]
  },
  {
   "cell_type": "code",
   "execution_count": 59,
   "metadata": {},
   "outputs": [
    {
     "data": {
      "text/plain": [
       "Speyside           338\n",
       "Highland           269\n",
       "Islay & Islands    157\n",
       "Lowland             41\n",
       "Campbeltown         22\n",
       "Name: state, dtype: int64"
      ]
     },
     "execution_count": 59,
     "metadata": {},
     "output_type": "execute_result"
    }
   ],
   "source": [
    "# Currently, I've been drinking Single Malts from Islay\n",
    "# For whatever reason I thought there were more Scotish regions.\n",
    "\n",
    "df[df['country'] == 'Scotland']['state'].value_counts()"
   ]
  },
  {
   "cell_type": "markdown",
   "metadata": {},
   "source": [
    "Lets see if any one State is any more expensive on average than another."
   ]
  },
  {
   "cell_type": "code",
   "execution_count": 60,
   "metadata": {},
   "outputs": [
    {
     "data": {
      "image/png": "[encoded data removed]",
      "text/plain": [
       "<matplotlib.figure.Figure at 0x1107c3b38>"
      ]
     },
     "metadata": {},
     "output_type": "display_data"
    }
   ],
   "source": [
    "plt.figure(figsize = (12,8))\n",
    "sns.violinplot(x = 'state', y = 'price', data = df[(df['country'] == 'Scotland') &( df['price'] < 300)]);"
   ]
  },
  {
   "cell_type": "markdown",
   "metadata": {},
   "source": [
    "Campbletown has some interesting density in the $300 region, that could be just because it has less observations than other states.  Other than that, most regions have comparative densities and spreads."
   ]
  },
  {
   "cell_type": "code",
   "execution_count": 61,
   "metadata": {},
   "outputs": [
    {
     "data": {
      "image/png": "[encoded data removed]",
      "text/plain": [
       "<matplotlib.figure.Figure at 0x1107c3630>"
      ]
     },
     "metadata": {},
     "output_type": "display_data"
    }
   ],
   "source": [
    "plt.figure(figsize = (12,8))\n",
    "sns.violinplot(x = 'state', y = 'avg_rating', data = df[(df['country'] == 'Scotland') &( df['avg_rating'] > 0)]);"
   ]
  },
  {
   "cell_type": "markdown",
   "metadata": {},
   "source": [
    "Nothing really interesting here either.  Seems like their ratings are similarly distributed as well.  \n",
    "Speyside and Highland have a couple bad reviews but thats probably because they have so many.  Same thought goes for the lack of the tail for Campbeltown (Not enough samples to get a bad review outlier).  "
   ]
  },
  {
   "cell_type": "markdown",
   "metadata": {},
   "source": [
    "----\n",
    "\n",
    "## Single Malt vs. Blended\n",
    "\n",
    "I haven't really had much in the way of blended whiskey.  I typically gravitate towards single malts, but I wanted to see if there was any difference as far as reviews."
   ]
  },
  {
   "cell_type": "code",
   "execution_count": 62,
   "metadata": {},
   "outputs": [
    {
     "data": {
      "image/png": "[encoded data removed]",
      "text/plain": [
       "<matplotlib.figure.Figure at 0x110d11a90>"
      ]
     },
     "metadata": {},
     "output_type": "display_data"
    }
   ],
   "source": [
    "plt.figure(figsize = (12,8))\n",
    "sns.violinplot(x = 'spirit_style', y = 'price', data = df[(df['price'] < 450) &( df['avg_rating'] > 0)]);"
   ]
  },
  {
   "cell_type": "markdown",
   "metadata": {},
   "source": [
    "Single Malts tend to be the ones that are extremely expensive and really drag the viz out.\n",
    "\n",
    "One thing of note is that the Blended whiskey tends to be on average a bit cheaper than the single malts.\n",
    "  - _This makes sense as a single malt gets all its flavor from a single process and a blended gets it from blending multiple whiskies together._  "
   ]
  },
  {
   "cell_type": "code",
   "execution_count": 202,
   "metadata": {},
   "outputs": [
    {
     "data": {
      "image/png": "[encoded data removed]",
      "text/plain": [
       "<matplotlib.figure.Figure at 0x10b70d860>"
      ]
     },
     "metadata": {},
     "output_type": "display_data"
    }
   ],
   "source": [
    "plt.figure(figsize = (12,8))\n",
    "sns.violinplot(x = 'spirit_style', y = 'avg_rating', data = df[(df['price'] < 450) &( df['avg_rating'] > 0)]);"
   ]
  },
  {
   "cell_type": "markdown",
   "metadata": {},
   "source": [
    "Single malts appear to also receive a majority of the 5 star reviews and while blended scotches still get good reviews they're majority appears to fall in the 4.5 star region."
   ]
  },
  {
   "cell_type": "code",
   "execution_count": 65,
   "metadata": {},
   "outputs": [],
   "source": [
    "simple_rec_df = df[['title','price','avg_rating','taste','score',\n",
    "                    'brand','description','spirit_style','state','taste_list']]\n",
    "\n",
    "simple_rec_df.to_csv('./data/simple_rec_data.csv')"
   ]
  },
  {
   "cell_type": "markdown",
   "metadata": {},
   "source": [
    "### Initial Recommender.  \n",
    "\n",
    "Will be using cosign similarity with ..\n",
    "- Taste feature after text vectorization\n",
    "    - Also, will remove the word \"seed\" as a feature given that its associated with \"mustard\".\n",
    "- A standardized version of the \"price\" feature will also be used (after removing stupid expensive observations)."
   ]
  }
 ],
 "metadata": {
  "kernelspec": {
   "display_name": "Python 3",
   "language": "python",
   "name": "python3"
  },
  "language_info": {
   "codemirror_mode": {
    "name": "ipython",
    "version": 3
   },
   "file_extension": ".py",
   "mimetype": "text/x-python",
   "name": "python",
   "nbconvert_exporter": "python",
   "pygments_lexer": "ipython3",
   "version": "3.7.0"
  }
 },
 "nbformat": 4,
 "nbformat_minor": 2
}
