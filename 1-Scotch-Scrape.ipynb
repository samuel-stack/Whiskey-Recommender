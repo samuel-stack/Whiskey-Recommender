{
 "cells": [
  {
   "cell_type": "markdown",
   "metadata": {},
   "source": [
    "# Initial Scraping\n",
    "\n",
    "I'll use this notebook to understand the Total Wine Website and build my scraper. I also had to use some selenium to click some \"expand\" and \"I'm 21\" buttons.\n",
    "\n",
    "I'll also outline the my plans for this project along the way.\n"
   ]
  },
  {
   "cell_type": "markdown",
   "metadata": {},
   "source": [
    "Goal : Create a Scotch Recommender\n",
    "\n",
    "Details: Utilize subjective information like text reviews containing flavor notes in combinations with qualitative information like bottle price and years aged.\n",
    "\n",
    "Method: Scrape total wines website for all scotch reviews.  \n",
    "    - In this process i'll probably figure out how to scrape all other liquors and their reviews so I can repeat the process in the future for things such as bourbon or tequila. \n",
    "    - I also plan on utilizing a local Postgres SQL server to house the information."
   ]
  },
  {
   "cell_type": "markdown",
   "metadata": {},
   "source": [
    "I did a lot of experimenting in this notebook and when I came back things didn't work quite right.  I'll probably need to investigate it again."
   ]
  },
  {
   "cell_type": "code",
   "execution_count": 7,
   "metadata": {},
   "outputs": [],
   "source": [
    "# Step 1: Figure our how to scrape a single page\n",
    "from bs4 import BeautifulSoup\n",
    "import requests\n",
    "import re\n",
    "import urllib\n",
    "\n",
    "import pandas as pd\n",
    "from IPython.display import clear_output\n",
    "\n",
    "\n",
    "from selenium import webdriver\n",
    "from scrapy.selector import Selector\n",
    "import time\n",
    "import csv\n",
    "from itertools import islice"
   ]
  },
  {
   "cell_type": "code",
   "execution_count": 2,
   "metadata": {},
   "outputs": [
    {
     "data": {
      "text/plain": [
       "<Response [200]>"
      ]
     },
     "execution_count": 2,
     "metadata": {},
     "output_type": "execute_result"
    }
   ],
   "source": [
    "# Test against a single scotch page.\n",
    "scotch = 'https://www.totalwine.com/spirits/scotch/single-malt/lagavulin-16-yr/p/643750?s=2301&igrules=true'\n",
    "requests.get(scotch)"
   ]
  },
  {
   "cell_type": "markdown",
   "metadata": {},
   "source": [
    "_Looks Good_"
   ]
  },
  {
   "cell_type": "code",
   "execution_count": 3,
   "metadata": {},
   "outputs": [],
   "source": [
    "# test against a single tequila page.\n",
    "tequila = 'https://www.totalwine.com/spirits/tequila/blanco-silver/don-julio-1942-tequila/p/38388750?s=2301&igrules=true'"
   ]
  },
  {
   "cell_type": "code",
   "execution_count": 4,
   "metadata": {},
   "outputs": [],
   "source": [
    "sco_soup = BeautifulSoup(requests.get(scotch).content, \"html5lib\")\n",
    "teq_soup = BeautifulSoup(requests.get(tequila).content, 'lxml')"
   ]
  },
  {
   "cell_type": "code",
   "execution_count": 5,
   "metadata": {},
   "outputs": [],
   "source": [
    "def spirit_extractor(sco_soup):\n",
    "\n",
    "    # Item Info\n",
    "    title = sco_soup.find('h1', {'class':'product-name'}).find('input')['value']\n",
    "    print(title)\n",
    "\n",
    "    price = sco_soup.find('input', {'id':\"anPRice\"})['value']\n",
    "    print(price)\n",
    "\n",
    "    size = sco_soup.find('span', {'class':\"single-bottle bottle-options\"}).text\n",
    "    print(size)\n",
    "\n",
    "    avg_rating = sco_soup.find('span', {'class':\"bvseo-ratingValue\"}).text\n",
    "    print(avg_rating)\n",
    "\n",
    "    # Item Overview\n",
    "    overview = sco_soup.find(name = 'div', attrs = {'id':\"product-details-section\"})\n",
    "\n",
    "    overview_taste = overview.find('div' , {'class':\"bottom-full-desc\"}).text\n",
    "    print(overview_taste)\n",
    "\n",
    "    overview_score = overview.find('span', {'class':'nine-six-logo'}).text\n",
    "    print(overview_score)\n",
    "\n",
    "    overview_desc = overview.find('div', {'class':'right-full-desc'}).text\n",
    "    print(overview_desc)\n",
    "\n",
    "    brand = sco_soup.find('main', {'class': \"main pdp an-productDetails\"}).find('meta')['content']\n",
    "    print(brand)\n",
    "    # Item Details\n",
    "    details = sco_soup.find('ul', {'class' : \"wine-right-details\"})\n",
    "\n",
    "    country = details.find('a',{'class':'analyticsCountryState'}).text\n",
    "    print(country)\n",
    "\n",
    "    state = details.find('a',{'class':'analyticsRegion'}).text\n",
    "    print(state)\n",
    "\n",
    "    spirit_type = details.find('a',{'class':'analyticsProductType'}).text\n",
    "    print(spirit_type)\n",
    "\n",
    "    spirit_style = details.find('a',{'class':'analyticsVarietalType'}).text\n",
    "    print(spirit_style)\n",
    "\n"
   ]
  },
  {
   "cell_type": "code",
   "execution_count": null,
   "metadata": {
    "collapsed": true
   },
   "outputs": [],
   "source": [
    "# Skew"
   ]
  },
  {
   "cell_type": "code",
   "execution_count": 6,
   "metadata": {
    "scrolled": false
   },
   "outputs": [
    {
     "data": {
      "text/plain": [
       "<ol itemscope=\"\" itemtype=\"http://schema.org/BreadcrumbList\"> <li itemprop=\"itemListElement\" itemscope=\"\" itemtype=\"http://schema.org/ListItem\"> <a href=\"https://www.totalwine.com\" itemprop=\"item\"> <meta content=\"Home\" itemprop=\"name\"/> </a> <meta content=\"1\" itemprop=\"position\"/> </li> <li itemprop=\"itemListElement\" itemscope=\"\" itemtype=\"http://schema.org/ListItem\">\t<a href=\"https://www.totalwine.com/spirits/c/c0030\" itemprop=\"item\">\t<meta content=\"Spirits\" itemprop=\"name\"/>\t</a>\t<meta content=\"2\" itemprop=\"position\"/>\t</li>\t<li itemprop=\"itemListElement\" itemscope=\"\" itemtype=\"http://schema.org/ListItem\">\t<a href=\"https://www.totalwine.com/spirits/scotch/c/000885\" itemprop=\"item\">\t<meta content=\"Scotch\" itemprop=\"name\"/>\t</a>\t<meta content=\"3\" itemprop=\"position\"/>\t</li>\t<li itemprop=\"itemListElement\" itemscope=\"\" itemtype=\"http://schema.org/ListItem\">\t<a href=\"https://www.totalwine.com/spirits/scotch/single-malt/c/000887\" itemprop=\"item\">\t<meta content=\"Single Malt\" itemprop=\"name\"/>\t</a>\t<meta content=\"4\" itemprop=\"position\"/>\t</li>\t<li itemprop=\"itemListElement\" itemscope=\"\" itemtype=\"http://schema.org/ListItem\">\t<a href=\"https://www.totalwine.com/spirits/scotch/single-malt/lagavulin-16-yr/p/643750\" itemprop=\"item\">\t<meta content=\"Lagavulin 16 Yr\" itemprop=\"name\"/>\t</a>\t<meta content=\"5\" itemprop=\"position\"/>\t</li>\t</ol>"
      ]
     },
     "execution_count": 6,
     "metadata": {},
     "output_type": "execute_result"
    }
   ],
   "source": [
    "reviews = sco_soup.find('ol', )\n",
    "reviews"
   ]
  },
  {
   "cell_type": "code",
   "execution_count": 7,
   "metadata": {
    "collapsed": true
   },
   "outputs": [],
   "source": []
  },
  {
   "cell_type": "code",
   "execution_count": 8,
   "metadata": {},
   "outputs": [],
   "source": [
    "def connect_to_page(page,  headless=True):\n",
    "    if headless:\n",
    "        options = webdriver.ChromeOptions()\n",
    "        options.add_argument('headless')\n",
    "        driver = webdriver.Chrome('./driver/chromedriver', chrome_options=options)\n",
    "    else:\n",
    "        driver = webdriver.Chrome('./driver/chromedriver')\n",
    "    driver.get(page)\n",
    "\n",
    "    return driver"
   ]
  },
  {
   "cell_type": "code",
   "execution_count": null,
   "metadata": {
    "collapsed": true
   },
   "outputs": [],
   "source": []
  },
  {
   "cell_type": "code",
   "execution_count": null,
   "metadata": {
    "collapsed": true
   },
   "outputs": [],
   "source": []
  },
  {
   "cell_type": "markdown",
   "metadata": {
    "collapsed": true
   },
   "source": [
    "**Issues**\n",
    "- Selenium opens up a new browser with no cookies\n",
    "- Need to make some selections once it opens up in order to have access to the website.\n",
    "- Need to create a while loop to figure out how many times it should load additional comments.\n",
    "    - I think I'll get the number of comments off the page then use that."
   ]
  },
  {
   "cell_type": "code",
   "execution_count": 9,
   "metadata": {},
   "outputs": [],
   "source": [
    "# couple of various sctoches to test on.\n",
    "lagavulin_16 = 'https://www.totalwine.com/spirits/scotch/single-malt/lagavulin-16-yr/p/643750?'\n",
    "glenlevit_12 = 'https://www.totalwine.com/spirits/scotch/single-malt/glenlivet-12-yr/p/2792010?s=2301&igrules=true'\n",
    "jonnieW_gold = 'https://www.totalwine.com/spirits/scotch/blended-scotch/johnnie-walker-gold-label-reserve/p/137781750?s=2301&igrules=true'\n",
    "\n",
    "\n",
    "samples = [lagavulin_16, glenlevit_12, jonnieW_gold]"
   ]
  },
  {
   "cell_type": "markdown",
   "metadata": {},
   "source": [
    "This is the base page I'll use to gather all the scotch urls.\n",
    "\n",
    "https://www.totalwine.com/spirits/scotch/c/000885?tab=fullcatalog&text=&page=1&spiritsvolume=standard-size-750-ml&sort=name-asc\n",
    "    - `scotch` : Only Scotches\n",
    "    - `fullcatalog` : All scotches available at total wine.\n",
    "    - `volume` : Only aquiring standard bottle size, to avoid duplications based on different bottle volumes."
   ]
  },
  {
   "cell_type": "code",
   "execution_count": null,
   "metadata": {
    "collapsed": true
   },
   "outputs": [],
   "source": []
  },
  {
   "cell_type": "code",
   "execution_count": 10,
   "metadata": {},
   "outputs": [],
   "source": [
    "driver = connect_to_page(samples[0], headless = False)\n",
    "load = False\n",
    "\n",
    "# Total wine appears to have two different options that ask for age\n",
    "while load == False:\n",
    "    try:\n",
    "        # Option 1 : Red Button\n",
    "        red_age = '//*[@id=\"btnYes\"]'\n",
    "        driver.find_element_by_xpath(red_age).click()\n",
    "        load = True\n",
    "    except:\n",
    "        pass\n",
    "\n",
    "    try:\n",
    "        # Option 2 : Blue Button\n",
    "        blue_age = '/html/body/div[2]/div/div[2]/div[3]/div/button[2]'\n",
    "        driver.find_element_by_xpath(blue_age).click()\n",
    "        load = True\n",
    "    except:\n",
    "        pass\n",
    "\n",
    "    time.sleep(0.5)\n",
    "\n",
    "\n",
    "# if it prompts for online or instore via popup.\n",
    "try:\n",
    "    shop_button = '/html/body/header/div[3]/div/div[1]'\n",
    "    driver.find_element_by_xpath(shop_button).click()\n",
    "\n",
    "except:\n",
    "    pass\n",
    "\n",
    "# scroll down the page and click the \"Load More\" option as long as its available.\n",
    "# load_more = True\n",
    "# while load_more == True:\n",
    "#     try:\n",
    "#         load_button = '//*[@id=\"BVRRContainer\"]/div/div/div/div/div[3]/div/button'\n",
    "#         driver.find_element_by_xpath(load_button).click()\n",
    "#         time.sleep(1)\n",
    "#     except:\n",
    "#         load_more = False\n",
    "\n",
    "        \n",
    "time.sleep(5)\n",
    "\n",
    "html = driver.page_source\n",
    "\n",
    "driver.get(samples[1])\n",
    "time.sleep(10)\n",
    "\n",
    "driver.get(samples[2])\n",
    "\n",
    "time.sleep(10)\n",
    "driver.quit()"
   ]
  },
  {
   "cell_type": "code",
   "execution_count": 19,
   "metadata": {},
   "outputs": [],
   "source": [
    "def get_liquor_list(url, num_pages = 1, head_less = True):\n",
    "    # get the driver going\n",
    "    driver = connect_to_page(url, headless=head_less)\n",
    "    time.sleep(1)\n",
    "    load = False\n",
    "    # Total wine appears to have two different options that ask for age\n",
    "    while load == False:\n",
    "        try:\n",
    "            # Option 1 : Red Button\n",
    "            red_age = '//*[@id=\"btnYes\"]'\n",
    "            driver.find_element_by_xpath(red_age).click()\n",
    "            load = True\n",
    "        except:\n",
    "            pass\n",
    "\n",
    "        try:\n",
    "            # Option 2 : Blue Button\n",
    "            blue_age = '/html/body/div[2]/div/div[2]/div[3]/div/button[2]'\n",
    "            driver.find_element_by_xpath(blue_age).click()\n",
    "            load = True\n",
    "        except:\n",
    "            pass\n",
    "\n",
    "        time.sleep(0.5)\n",
    "    \n",
    "        # if it prompts for online or instore via popup.\n",
    "    try:\n",
    "        shop_button = '/html/body/header/div[3]/div/div[1]'\n",
    "        driver.find_element_by_xpath(shop_button).click()\n",
    "\n",
    "    except:\n",
    "        pass\n",
    "    \n",
    "    # Now that all the page buttons have been solved, we can extract the URLs for each of the pages.\n",
    "    # extract page to disect\n",
    "    page = BeautifulSoup(driver.page_source, 'lxml')\n",
    "    liquor_urls = []\n",
    "    bottles = page.find('ul',{'class':'plp-list'})\n",
    "\n",
    "    for bottle in bottles.find_all('li'):\n",
    "        liquor_urls.append('https://www.totalwine.com'+bottle.find('a')['href'])\n",
    "        #print(liquor_urls[-1])\n",
    "    \n",
    "    \n",
    "    # if we need to go to additional pages.\n",
    "    if num_pages > 1:\n",
    "        for page in range(2,num_pages+1):\n",
    "            page_add = url+'&page='+str(page)\n",
    "            driver.get(page_add)\n",
    "            page = BeautifulSoup(driver.page_source, 'lxml')\n",
    "            bottles = page.find('ul',{'class':'plp-list'})\n",
    "\n",
    "            for bottle in bottles.find_all('li'):\n",
    "                liquor_urls.append('https://www.totalwine.com'+bottle.find('a')['href'])\n",
    "            time.sleep(4)\n",
    "    \n",
    "    # End driver and return URLs list.\n",
    "    driver.quit()\n",
    "    return liquor_urls"
   ]
  },
  {
   "cell_type": "code",
   "execution_count": null,
   "metadata": {
    "collapsed": true
   },
   "outputs": [],
   "source": []
  },
  {
   "cell_type": "code",
   "execution_count": 14,
   "metadata": {},
   "outputs": [
    {
     "data": {
      "text/plain": [
       "7.916666666666667"
      ]
     },
     "execution_count": 14,
     "metadata": {},
     "output_type": "execute_result"
    }
   ],
   "source": [
    "# Calculating number of pages of scotches.  \n",
    "1425/180\n",
    "# approximately 8"
   ]
  },
  {
   "cell_type": "code",
   "execution_count": 20,
   "metadata": {
    "scrolled": false
   },
   "outputs": [],
   "source": [
    "# Connect to main scotch page\n",
    "part_1 = 'https://www.totalwine.com/spirits/scotch/c/000885?tab=fullcatalog&text=&page='\n",
    "part_2 = '&spiritsvolume=standard-size-750-ml&sort=name-asc&pagesize=180'\n",
    "\n",
    "#scotch_home = 'https://www.totalwine.com/spirits/scotch/c/000885?tab=fullcatalog&text=&page={}&spiritsvolume=standard-size-750-ml&sort=name-asc&pagesize=180'\n",
    "scotch_home = 'https://www.totalwine.com/spirits/scotch/c/000885?tab=fullcatalog&text=&spiritsvolume=standard-size-750-ml&pagesize=180'\n",
    "#driver = connect_to_page(scotch_home, headless=False)\n",
    "liquor_list = get_liquor_list(scotch_home, 8, False)\n",
    "\n",
    "\n",
    "\n",
    "\n",
    "\n",
    "\n",
    "\n",
    "#page_html = get_and_expand_page()"
   ]
  },
  {
   "cell_type": "code",
   "execution_count": null,
   "metadata": {},
   "outputs": [],
   "source": []
  },
  {
   "cell_type": "code",
   "execution_count": 22,
   "metadata": {},
   "outputs": [],
   "source": [
    "#scotch_home_soup = BeautifulSoup(liquor_list, 'lxml')"
   ]
  },
  {
   "cell_type": "code",
   "execution_count": 23,
   "metadata": {
    "scrolled": false
   },
   "outputs": [
    {
     "ename": "NameError",
     "evalue": "name 'scotch_home_soup' is not defined",
     "output_type": "error",
     "traceback": [
      "\u001b[0;31m---------------------------------------------------------------------------\u001b[0m",
      "\u001b[0;31mNameError\u001b[0m                                 Traceback (most recent call last)",
      "\u001b[0;32m<ipython-input-23-6cf354a9ca3f>\u001b[0m in \u001b[0;36m<module>\u001b[0;34m()\u001b[0m\n\u001b[1;32m      1\u001b[0m \u001b[0mscotch_urls\u001b[0m \u001b[0;34m=\u001b[0m \u001b[0;34m[\u001b[0m\u001b[0;34m]\u001b[0m\u001b[0;34m\u001b[0m\u001b[0m\n\u001b[0;32m----> 2\u001b[0;31m \u001b[0mbottles\u001b[0m \u001b[0;34m=\u001b[0m \u001b[0mscotch_home_soup\u001b[0m\u001b[0;34m.\u001b[0m\u001b[0mfind\u001b[0m\u001b[0;34m(\u001b[0m\u001b[0;34m'ul'\u001b[0m\u001b[0;34m,\u001b[0m\u001b[0;34m{\u001b[0m\u001b[0;34m'class'\u001b[0m\u001b[0;34m:\u001b[0m\u001b[0;34m'plp-list'\u001b[0m\u001b[0;34m}\u001b[0m\u001b[0;34m)\u001b[0m\u001b[0;34m\u001b[0m\u001b[0m\n\u001b[0m\u001b[1;32m      3\u001b[0m \u001b[0;34m\u001b[0m\u001b[0m\n\u001b[1;32m      4\u001b[0m \u001b[0;32mfor\u001b[0m \u001b[0mscotch\u001b[0m \u001b[0;32min\u001b[0m \u001b[0mbottles\u001b[0m\u001b[0;34m.\u001b[0m\u001b[0mfind_all\u001b[0m\u001b[0;34m(\u001b[0m\u001b[0;34m'li'\u001b[0m\u001b[0;34m)\u001b[0m\u001b[0;34m:\u001b[0m\u001b[0;34m\u001b[0m\u001b[0m\n\u001b[1;32m      5\u001b[0m     \u001b[0mscotch_urls\u001b[0m\u001b[0;34m.\u001b[0m\u001b[0mappend\u001b[0m\u001b[0;34m(\u001b[0m\u001b[0;34m'https://www.totalwine.com'\u001b[0m\u001b[0;34m+\u001b[0m\u001b[0mscotch\u001b[0m\u001b[0;34m.\u001b[0m\u001b[0mfind\u001b[0m\u001b[0;34m(\u001b[0m\u001b[0;34m'a'\u001b[0m\u001b[0;34m)\u001b[0m\u001b[0;34m[\u001b[0m\u001b[0;34m'href'\u001b[0m\u001b[0;34m]\u001b[0m\u001b[0;34m)\u001b[0m\u001b[0;34m\u001b[0m\u001b[0m\n",
      "\u001b[0;31mNameError\u001b[0m: name 'scotch_home_soup' is not defined"
     ]
    }
   ],
   "source": [
    "# scotch_urls = []\n",
    "# bottles = scotch_home_soup.find('ul',{'class':'plp-list'})\n",
    "\n",
    "# for scotch in bottles.find_all('li'):\n",
    "#     scotch_urls.append('https://www.totalwine.com'+scotch.find('a')['href'])\n",
    "#     print(scotch.find('a')['href'])"
   ]
  },
  {
   "cell_type": "code",
   "execution_count": null,
   "metadata": {
    "collapsed": true
   },
   "outputs": [],
   "source": []
  },
  {
   "cell_type": "code",
   "execution_count": null,
   "metadata": {
    "collapsed": true
   },
   "outputs": [],
   "source": [
    "driver.quit()"
   ]
  },
  {
   "cell_type": "code",
   "execution_count": 25,
   "metadata": {},
   "outputs": [],
   "source": [
    "# Functiont to Aquire full page of Liquor.\n",
    "\n",
    "def get_and_expand_page(page_url, driver = driver):\n",
    "    driver.get(page_url)\n",
    "    \n",
    "    time.sleep(0.5) #wait to load\n",
    "    \n",
    "    \n",
    "        # scroll down the page and click the \"Load More\" option as long as its available.\n",
    "    load_more = True\n",
    "    while load_more == True:\n",
    "        try:\n",
    "            load_button = '//*[@id=\"BVRRContainer\"]/div/div/div/div/div[3]/div/button'\n",
    "            driver.find_element_by_xpath(load_button).click()\n",
    "            time.sleep(1)\n",
    "        except:\n",
    "            load_more = False\n",
    "            \n",
    "    return driver.page_source"
   ]
  },
  {
   "cell_type": "code",
   "execution_count": null,
   "metadata": {
    "collapsed": true
   },
   "outputs": [],
   "source": [
    "#soup_page = BeautifulSoup(html,'lxml')"
   ]
  },
  {
   "cell_type": "code",
   "execution_count": 35,
   "metadata": {
    "scrolled": true
   },
   "outputs": [
    {
     "name": "stdout",
     "output_type": "stream",
     "text": [
      "['LAGAVULIN 16 YR']\n",
      "['750ml']\n",
      "['4.6']\n",
      "['(67)']\n",
      "['Lagavulin']\n",
      "['Scotland']\n",
      "['Islay & Islands']\n",
      "['Scotch']\n",
      "['Single Malt']\n",
      "['Intense, Smoke, Peat']\n",
      "['94']\n",
      "['Islay, Scotland- One of the great classics from Islay. Remarkably balanced, with very dry and assertive flavors offset by the sweetness of Sherry oak. Complex, full-bodied, smoky, peaty tastes combine with a salty tang of the sea in this elegant yet powerful Single Malt.']\n"
     ]
    }
   ],
   "source": [
    "def spirit_extractor(liquor_page):\n",
    "    spirit_list = []\n",
    "    # Spirit Info\n",
    "    xpath_title = '//*[@id=\"root\"]/div/div/div[2]/div/div[3]/div/div[2]/div/h1/text()'\n",
    "    xpath_size  = '//*[@id=\"root\"]/div/div/div[2]/div/div[3]/div/div[2]/div/h2/text()'\n",
    "    xpath_avg_rating = '//*[@id=\"root\"]/div/div/div[2]/div/div[3]/div/div[2]/div/div/div[1]/div/div/div[2]/button/text()'\n",
    "    xpath_num_review = '//*[@id=\"root\"]/div/div/div[2]/div/div[3]/div/div[2]/div/div/div[1]/div/div/div[3]/button/text()'\n",
    "    \n",
    "    # Spirit Overview\n",
    "    xpath_brand   = '//*[@id=\"root\"]/div/div/div[2]/div/div[4]/div/div/div[2]/div/div[2]/div[1]/div[2]/a/text()'\n",
    "    xpath_country = '//*[@id=\"root\"]/div/div/div[2]/div/div[4]/div/div/div[2]/div/div[2]/div[2]/div[2]/a/text()'\n",
    "    xpath_state   = '//*[@id=\"root\"]/div/div/div[2]/div/div[4]/div/div/div[2]/div/div[2]/div[3]/div[2]/a/text()'\n",
    "    xpath_sType   = '//*[@id=\"root\"]/div/div/div[2]/div/div[4]/div/div/div[2]/div/div[2]/div[4]/div[2]/a/text()'\n",
    "    xpath_sStyle  = '//*[@id=\"root\"]/div/div/div[2]/div/div[4]/div/div/div[2]/div/div[2]/div[5]/div[2]/a/text()'\n",
    "    xpath_taste   = '//*[@id=\"root\"]/div/div/div[2]/div/div[4]/div/div/div[2]/div/div[2]/div[6]/div[2]/text()'    \n",
    "    xpath_score = '//*[@id=\"root\"]/div/div/div[2]/div/div[4]/div/div/div[2]/div/div[1]/div[1]/div[1]/div/div/text()'\n",
    "    xpath_descr = '//*[@id=\"root\"]/div/div/div[2]/div/div[4]/div/div/div[2]/div/div[1]/div[2]/text()'\n",
    "    \n",
    "    \n",
    "    title = Selector(text=liquor_page).xpath(xpath_title).extract()\n",
    "    size  = Selector(text=liquor_page).xpath(xpath_size).extract()\n",
    "    avg_rating  = Selector(text=liquor_page).xpath(xpath_avg_rating).extract()\n",
    "    num_reviews = Selector(text=liquor_page).xpath(xpath_num_review).extract()    \n",
    "    brand   = Selector(text=liquor_page).xpath(xpath_brand).extract()\n",
    "    country = Selector(text=liquor_page).xpath(xpath_country).extract()\n",
    "    state   = Selector(text=liquor_page).xpath(xpath_state).extract()\n",
    "    sType   = Selector(text=liquor_page).xpath(xpath_sType).extract()\n",
    "    sStyle  = Selector(text=liquor_page).xpath(xpath_sStyle).extract()\n",
    "    taste   = Selector(text=liquor_page).xpath(xpath_taste).extract()\n",
    "    score   = Selector(text=liquor_page).xpath(xpath_score).extract()\n",
    "    descr   = Selector(text=liquor_page).xpath(xpath_descr).extract()\n",
    "    \n",
    "    \n",
    "    for cat in [title, size, avg_rating, num_reviews, brand, country, state, sType, sStyle, taste, score, descr]:\n",
    "        if len(cat) >0 :\n",
    "            spirit_list.append(cat[0])\n",
    "        else:\n",
    "            spirit_list.append('NA')\n",
    "    print(title)\n",
    "    print(size)\n",
    "    print(avg_rating)\n",
    "    print(num_reviews)    \n",
    "    print(brand)\n",
    "    print(country)\n",
    "    print(state)\n",
    "    print(sType)\n",
    "    print(sStyle)\n",
    "    print(taste)\n",
    "    print(score)\n",
    "    print(descr)\n",
    "    \n",
    "    spirit_list.append(aquire_reviews(liquor_page))\n",
    "    \n",
    "    sample_frame.loc[len(sample_frame)] = spirit_list\n",
    "spirit_extractor(html)"
   ]
  },
  {
   "cell_type": "code",
   "execution_count": 36,
   "metadata": {},
   "outputs": [],
   "source": [
    "# Aquire Review Function is broken"
   ]
  },
  {
   "cell_type": "code",
   "execution_count": null,
   "metadata": {},
   "outputs": [],
   "source": []
  },
  {
   "cell_type": "code",
   "execution_count": 34,
   "metadata": {},
   "outputs": [],
   "source": [
    "def aquire_reviews(liquor_page, no_reviews = 0):\n",
    "    if no_reviews > 0:\n",
    "        reviews_list = '//*[@id=\"BVRRContainer\"]/div/div/div/div/ol'\n",
    "        review_section = Selector(text=liquor_page.page_source).xpath(reviews_list).extract()\n",
    "\n",
    "\n",
    "        soup_reviews = BeautifulSoup(review_section[0], 'lxml')\n",
    "\n",
    "\n",
    "        reviews_dict = {}\n",
    "        itera = 0\n",
    "\n",
    "        for review in soup_reviews.find_all('div',\n",
    "            {'class':'bv-content-item-author-profile-offset bv-content-item-author-profile-offset-on'})[:-1]:\n",
    "\n",
    "            \n",
    "            review_desc = review.find('h4', {'class':'bv-content-title'}).text\n",
    "            review_cont = review.find('div',{'class':'bv-content-summary-body-text'}).text\n",
    "            review_scor = review.find('span',{'class':'bv-off-screen'}).text[0]\n",
    "\n",
    "            review = {'review_desc':review_desc,\n",
    "                      'review_cont':review_cont,\n",
    "                      'review_scor':review_scor}\n",
    "\n",
    "            reviews_dict['review_'+str(len(reviews_dict)+1)] = review\n",
    "        # I had this return statement tabbed over so it only got one.\n",
    "        return(reviews_dict)\n",
    "\n",
    "    else:\n",
    "        return 'No Reviews'"
   ]
  },
  {
   "cell_type": "code",
   "execution_count": 32,
   "metadata": {},
   "outputs": [],
   "source": [
    "# Sample Frame to append\n",
    "liquor_cols = ['title','size','avg_rating', 'num_reviews','brand','country','state',\n",
    "              'spirit_type','spirit_style','taste','score','descr','reviews']\n",
    "sample_frame = pd.DataFrame(None, columns= liquor_cols)"
   ]
  },
  {
   "cell_type": "code",
   "execution_count": null,
   "metadata": {
    "collapsed": true
   },
   "outputs": [],
   "source": []
  },
  {
   "cell_type": "code",
   "execution_count": null,
   "metadata": {
    "collapsed": true
   },
   "outputs": [],
   "source": [
    "[][0]"
   ]
  },
  {
   "cell_type": "markdown",
   "metadata": {},
   "source": [
    "### Getting information off of the Scotch Page"
   ]
  },
  {
   "cell_type": "code",
   "execution_count": 33,
   "metadata": {},
   "outputs": [
    {
     "ename": "TypeError",
     "evalue": "object of type 'Response' has no len()",
     "output_type": "error",
     "traceback": [
      "\u001b[0;31m---------------------------------------------------------------------------\u001b[0m",
      "\u001b[0;31mTypeError\u001b[0m                                 Traceback (most recent call last)",
      "\u001b[0;32m<ipython-input-33-579cd5b44862>\u001b[0m in \u001b[0;36m<module>\u001b[0;34m()\u001b[0m\n\u001b[1;32m      1\u001b[0m \u001b[0murl\u001b[0m \u001b[0;34m=\u001b[0m \u001b[0;34m'https://www.totalwine.com/spirits/scotch/c/000885?tab=fullcatalog&text='\u001b[0m\u001b[0;34m\u001b[0m\u001b[0m\n\u001b[1;32m      2\u001b[0m \u001b[0;34m\u001b[0m\u001b[0m\n\u001b[0;32m----> 3\u001b[0;31m \u001b[0mBeautifulSoup\u001b[0m\u001b[0;34m(\u001b[0m\u001b[0mrequests\u001b[0m\u001b[0;34m.\u001b[0m\u001b[0mget\u001b[0m\u001b[0;34m(\u001b[0m\u001b[0murl\u001b[0m\u001b[0;34m)\u001b[0m\u001b[0;34m)\u001b[0m\u001b[0;34m\u001b[0m\u001b[0m\n\u001b[0m",
      "\u001b[0;32m/anaconda3/lib/python3.7/site-packages/bs4/__init__.py\u001b[0m in \u001b[0;36m__init__\u001b[0;34m(self, markup, features, builder, parse_only, from_encoding, exclude_encodings, **kwargs)\u001b[0m\n\u001b[1;32m    244\u001b[0m         \u001b[0;32mif\u001b[0m \u001b[0mhasattr\u001b[0m\u001b[0;34m(\u001b[0m\u001b[0mmarkup\u001b[0m\u001b[0;34m,\u001b[0m \u001b[0;34m'read'\u001b[0m\u001b[0;34m)\u001b[0m\u001b[0;34m:\u001b[0m        \u001b[0;31m# It's a file-type object.\u001b[0m\u001b[0;34m\u001b[0m\u001b[0m\n\u001b[1;32m    245\u001b[0m             \u001b[0mmarkup\u001b[0m \u001b[0;34m=\u001b[0m \u001b[0mmarkup\u001b[0m\u001b[0;34m.\u001b[0m\u001b[0mread\u001b[0m\u001b[0;34m(\u001b[0m\u001b[0;34m)\u001b[0m\u001b[0;34m\u001b[0m\u001b[0m\n\u001b[0;32m--> 246\u001b[0;31m         elif len(markup) <= 256 and (\n\u001b[0m\u001b[1;32m    247\u001b[0m                 \u001b[0;34m(\u001b[0m\u001b[0misinstance\u001b[0m\u001b[0;34m(\u001b[0m\u001b[0mmarkup\u001b[0m\u001b[0;34m,\u001b[0m \u001b[0mbytes\u001b[0m\u001b[0;34m)\u001b[0m \u001b[0;32mand\u001b[0m \u001b[0;32mnot\u001b[0m \u001b[0;34mb'<'\u001b[0m \u001b[0;32min\u001b[0m \u001b[0mmarkup\u001b[0m\u001b[0;34m)\u001b[0m\u001b[0;34m\u001b[0m\u001b[0m\n\u001b[1;32m    248\u001b[0m                 \u001b[0;32mor\u001b[0m \u001b[0;34m(\u001b[0m\u001b[0misinstance\u001b[0m\u001b[0;34m(\u001b[0m\u001b[0mmarkup\u001b[0m\u001b[0;34m,\u001b[0m \u001b[0mstr\u001b[0m\u001b[0;34m)\u001b[0m \u001b[0;32mand\u001b[0m \u001b[0;32mnot\u001b[0m \u001b[0;34m'<'\u001b[0m \u001b[0;32min\u001b[0m \u001b[0mmarkup\u001b[0m\u001b[0;34m)\u001b[0m\u001b[0;34m\u001b[0m\u001b[0m\n",
      "\u001b[0;31mTypeError\u001b[0m: object of type 'Response' has no len()"
     ]
    }
   ],
   "source": [
    "url = 'https://www.totalwine.com/spirits/scotch/c/000885?tab=fullcatalog&text='\n",
    "\n",
    "BeautifulSoup(requests.get(url))"
   ]
  },
  {
   "cell_type": "code",
   "execution_count": null,
   "metadata": {},
   "outputs": [],
   "source": []
  }
 ],
 "metadata": {
  "kernelspec": {
   "display_name": "Python 3",
   "language": "python",
   "name": "python3"
  },
  "language_info": {
   "codemirror_mode": {
    "name": "ipython",
    "version": 3
   },
   "file_extension": ".py",
   "mimetype": "text/x-python",
   "name": "python",
   "nbconvert_exporter": "python",
   "pygments_lexer": "ipython3",
   "version": "3.7.0"
  }
 },
 "nbformat": 4,
 "nbformat_minor": 2
}
