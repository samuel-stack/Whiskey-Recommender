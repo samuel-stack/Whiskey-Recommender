{
 "cells": [
  {
   "cell_type": "markdown",
   "metadata": {},
   "source": [
    "# Data Engineering for Simple Recommendation\n",
    "\n",
    "In the previous notebook I did some exploratory data analysis to better understanding my data and make informed decisions about the data I am allowing to be used in my recommender.\n",
    "\n",
    "I decided not to user and subjective user information in my recommender and instead focus entirely on implicit information (`price`, `spirit_style` and `taste`).  Not every scotch had a recorded `taste` field on the website so I will loose several of my scotches.  Additionally, I decided that this recommender should avoid ridiculously overpriced scotch (you know stuff that costs as much as a car).\n",
    "\n",
    "This notebook will divide that data up that way that I want as well as create to dataframes to be used going forward.  One I am referring to as \"data\", which will have the data needed for the recommendation to take place and one I'll refer to as \"info\", this is the information associated each scotch that will be the output to the user."
   ]
  },
  {
   "cell_type": "code",
   "execution_count": 1,
   "metadata": {
    "collapsed": true
   },
   "outputs": [],
   "source": [
    "import pandas as pd\n",
    "import numpy as np"
   ]
  },
  {
   "cell_type": "code",
   "execution_count": 4,
   "metadata": {
    "collapsed": true
   },
   "outputs": [],
   "source": [
    "# read in data\n",
    "data = pd.read_csv('./data/simple_rec_data.csv')\n",
    "data.drop('Unnamed: 0', axis = 1, inplace = True)"
   ]
  },
  {
   "cell_type": "code",
   "execution_count": 5,
   "metadata": {},
   "outputs": [
    {
     "data": {
      "text/html": [
       "<div>\n",
       "<style>\n",
       "    .dataframe thead tr:only-child th {\n",
       "        text-align: right;\n",
       "    }\n",
       "\n",
       "    .dataframe thead th {\n",
       "        text-align: left;\n",
       "    }\n",
       "\n",
       "    .dataframe tbody tr th {\n",
       "        vertical-align: top;\n",
       "    }\n",
       "</style>\n",
       "<table border=\"1\" class=\"dataframe\">\n",
       "  <thead>\n",
       "    <tr style=\"text-align: right;\">\n",
       "      <th></th>\n",
       "      <th>title</th>\n",
       "      <th>price</th>\n",
       "      <th>avg_rating</th>\n",
       "      <th>taste</th>\n",
       "      <th>score</th>\n",
       "      <th>brand</th>\n",
       "      <th>description</th>\n",
       "      <th>spirit_style</th>\n",
       "      <th>state</th>\n",
       "      <th>taste_list</th>\n",
       "    </tr>\n",
       "  </thead>\n",
       "  <tbody>\n",
       "    <tr>\n",
       "      <th>0</th>\n",
       "      <td>A.D. Rattray Aberfeldy 18 Yr</td>\n",
       "      <td>99.99</td>\n",
       "      <td>-1.0</td>\n",
       "      <td>None</td>\n",
       "      <td>-1</td>\n",
       "      <td>A.D. Rattray</td>\n",
       "      <td>Highlands, Scotland- Pleasant aromas of caram...</td>\n",
       "      <td>Single Malt</td>\n",
       "      <td>Highland</td>\n",
       "      <td>['none']</td>\n",
       "    </tr>\n",
       "    <tr>\n",
       "      <th>1</th>\n",
       "      <td>A.D. Rattray Auchroisk 22 Yr</td>\n",
       "      <td>139.99</td>\n",
       "      <td>-1.0</td>\n",
       "      <td>None</td>\n",
       "      <td>-1</td>\n",
       "      <td>A.D. Rattray</td>\n",
       "      <td>Speyside, Scotland - This Auchroisk is quite ...</td>\n",
       "      <td>Single Malt</td>\n",
       "      <td>NaN</td>\n",
       "      <td>['none']</td>\n",
       "    </tr>\n",
       "    <tr>\n",
       "      <th>2</th>\n",
       "      <td>A.D. Rattray Aultmore 16 Year</td>\n",
       "      <td>97.99</td>\n",
       "      <td>-1.0</td>\n",
       "      <td>None</td>\n",
       "      <td>-1</td>\n",
       "      <td>A.D. Rattray</td>\n",
       "      <td>Speyside, Scotland- Aroma of honey, ripe frui...</td>\n",
       "      <td>Single Malt</td>\n",
       "      <td>NaN</td>\n",
       "      <td>['none']</td>\n",
       "    </tr>\n",
       "    <tr>\n",
       "      <th>3</th>\n",
       "      <td>A.D. Rattray Ben Nevis 17Yr Single Cask Barrel...</td>\n",
       "      <td>99.99</td>\n",
       "      <td>-1.0</td>\n",
       "      <td>Delicate . Apple . Grass . Vanilla . Complex</td>\n",
       "      <td>-1</td>\n",
       "      <td>A.D. Rattray</td>\n",
       "      <td>NaN</td>\n",
       "      <td>Single Malt</td>\n",
       "      <td>Highland</td>\n",
       "      <td>[' delicate', 'apple', 'grass', 'vanilla', 'co...</td>\n",
       "    </tr>\n",
       "    <tr>\n",
       "      <th>4</th>\n",
       "      <td>A.D. Rattray Benriach 23 Yr</td>\n",
       "      <td>179.99</td>\n",
       "      <td>-1.0</td>\n",
       "      <td>None</td>\n",
       "      <td>-1</td>\n",
       "      <td>A.D. Rattray</td>\n",
       "      <td>Speyside, Scotland- Rich aromas of honey and ...</td>\n",
       "      <td>Single Malt</td>\n",
       "      <td>NaN</td>\n",
       "      <td>['none']</td>\n",
       "    </tr>\n",
       "  </tbody>\n",
       "</table>\n",
       "</div>"
      ],
      "text/plain": [
       "                                               title   price  avg_rating  \\\n",
       "0                       A.D. Rattray Aberfeldy 18 Yr   99.99        -1.0   \n",
       "1                       A.D. Rattray Auchroisk 22 Yr  139.99        -1.0   \n",
       "2                      A.D. Rattray Aultmore 16 Year   97.99        -1.0   \n",
       "3  A.D. Rattray Ben Nevis 17Yr Single Cask Barrel...   99.99        -1.0   \n",
       "4                        A.D. Rattray Benriach 23 Yr  179.99        -1.0   \n",
       "\n",
       "                                            taste  score         brand  \\\n",
       "0                                            None     -1  A.D. Rattray   \n",
       "1                                            None     -1  A.D. Rattray   \n",
       "2                                            None     -1  A.D. Rattray   \n",
       "3   Delicate . Apple . Grass . Vanilla . Complex      -1  A.D. Rattray   \n",
       "4                                            None     -1  A.D. Rattray   \n",
       "\n",
       "                                         description spirit_style     state  \\\n",
       "0   Highlands, Scotland- Pleasant aromas of caram...  Single Malt  Highland   \n",
       "1   Speyside, Scotland - This Auchroisk is quite ...  Single Malt       NaN   \n",
       "2   Speyside, Scotland- Aroma of honey, ripe frui...  Single Malt       NaN   \n",
       "3                                                NaN  Single Malt  Highland   \n",
       "4   Speyside, Scotland- Rich aromas of honey and ...  Single Malt       NaN   \n",
       "\n",
       "                                          taste_list  \n",
       "0                                           ['none']  \n",
       "1                                           ['none']  \n",
       "2                                           ['none']  \n",
       "3  [' delicate', 'apple', 'grass', 'vanilla', 'co...  \n",
       "4                                           ['none']  "
      ]
     },
     "execution_count": 5,
     "metadata": {},
     "output_type": "execute_result"
    }
   ],
   "source": [
    "data.head()"
   ]
  },
  {
   "cell_type": "code",
   "execution_count": 8,
   "metadata": {},
   "outputs": [
    {
     "data": {
      "text/plain": [
       "\"['none']\""
      ]
     },
     "execution_count": 8,
     "metadata": {},
     "output_type": "execute_result"
    }
   ],
   "source": [
    "# As expected, the taste_list list has been wrapped in a string via the pd.to_csv()\n",
    "# I'll use the eval() function later to fix this\n",
    "data.iloc[0]['taste_list']"
   ]
  },
  {
   "cell_type": "code",
   "execution_count": 12,
   "metadata": {},
   "outputs": [],
   "source": [
    "# spliting data up into info which will be the returned output of the recommender and \n",
    "# data which will be the input to the recommender to calculate similarity.\n",
    "df_info = data[['title','price','taste','brand','description','spirit_style','state']]\n",
    "df_data = data[['title','price','spirit_style','taste_list']]"
   ]
  },
  {
   "cell_type": "code",
   "execution_count": 15,
   "metadata": {},
   "outputs": [],
   "source": [
    "# setting index to the name of the scotch\n",
    "df_info.set_index('title', inplace = True)\n",
    "df_data.set_index('title', inplace = True)"
   ]
  },
  {
   "cell_type": "code",
   "execution_count": 19,
   "metadata": {},
   "outputs": [
    {
     "data": {
      "text/plain": [
       "(1428, 3)"
      ]
     },
     "execution_count": 19,
     "metadata": {},
     "output_type": "execute_result"
    }
   ],
   "source": [
    "df_data.shape"
   ]
  },
  {
   "cell_type": "code",
   "execution_count": 21,
   "metadata": {},
   "outputs": [
    {
     "data": {
      "text/plain": [
       "608"
      ]
     },
     "execution_count": 21,
     "metadata": {},
     "output_type": "execute_result"
    }
   ],
   "source": [
    "df_data['taste_list'].value_counts()[0]"
   ]
  },
  {
   "cell_type": "markdown",
   "metadata": {},
   "source": [
    "After removing all of the `['none']` values or those observations that do not have tasting notes, I'll still have ~800 scotches on hand, which I think is fair considering I've had like a total of seven different scotches before."
   ]
  },
  {
   "cell_type": "code",
   "execution_count": 24,
   "metadata": {},
   "outputs": [],
   "source": [
    "# getting rid of all those \"['none']\"s\n",
    "df_data = df_data[df_data['taste_list'] != \"['none']\"]"
   ]
  },
  {
   "cell_type": "code",
   "execution_count": 30,
   "metadata": {},
   "outputs": [
    {
     "data": {
      "image/png": "[encoded data removed]",
      "text/plain": [
       "<matplotlib.figure.Figure at 0x10f170588>"
      ]
     },
     "metadata": {},
     "output_type": "display_data"
    }
   ],
   "source": [
    "import matplotlib.pyplot as plt\n",
    "%matplotlib inline\n",
    "\n",
    "df_data[(df_data['price'] > 750) & (df_data['price'] < 10000) ].hist();"
   ]
  },
  {
   "cell_type": "markdown",
   "metadata": {},
   "source": [
    "I still want this to be a realistic recommender that the average scotch drinker will use, so i'm going to remove those dumb expensive scotches.  Although, I'm having difficulty with the threshold... \n",
    "- I think for my initial trial I'll do double of my 3 IQR value outliers discovered in the EDA notebook.  \n",
    "    - 3 IQR outliers were about `$750.00` so my limit will be `$1500.00`"
   ]
  },
  {
   "cell_type": "code",
   "execution_count": 31,
   "metadata": {
    "collapsed": true
   },
   "outputs": [],
   "source": [
    "df_data = df_data[df_data['price'] < 1500]"
   ]
  },
  {
   "cell_type": "code",
   "execution_count": 32,
   "metadata": {},
   "outputs": [
    {
     "data": {
      "text/html": [
       "<div>\n",
       "<style>\n",
       "    .dataframe thead tr:only-child th {\n",
       "        text-align: right;\n",
       "    }\n",
       "\n",
       "    .dataframe thead th {\n",
       "        text-align: left;\n",
       "    }\n",
       "\n",
       "    .dataframe tbody tr th {\n",
       "        vertical-align: top;\n",
       "    }\n",
       "</style>\n",
       "<table border=\"1\" class=\"dataframe\">\n",
       "  <thead>\n",
       "    <tr style=\"text-align: right;\">\n",
       "      <th></th>\n",
       "      <th>price</th>\n",
       "    </tr>\n",
       "  </thead>\n",
       "  <tbody>\n",
       "    <tr>\n",
       "      <th>count</th>\n",
       "      <td>705.000000</td>\n",
       "    </tr>\n",
       "    <tr>\n",
       "      <th>mean</th>\n",
       "      <td>219.987163</td>\n",
       "    </tr>\n",
       "    <tr>\n",
       "      <th>std</th>\n",
       "      <td>276.404104</td>\n",
       "    </tr>\n",
       "    <tr>\n",
       "      <th>min</th>\n",
       "      <td>8.990000</td>\n",
       "    </tr>\n",
       "    <tr>\n",
       "      <th>25%</th>\n",
       "      <td>52.990000</td>\n",
       "    </tr>\n",
       "    <tr>\n",
       "      <th>50%</th>\n",
       "      <td>109.990000</td>\n",
       "    </tr>\n",
       "    <tr>\n",
       "      <th>75%</th>\n",
       "      <td>259.990000</td>\n",
       "    </tr>\n",
       "    <tr>\n",
       "      <th>max</th>\n",
       "      <td>1499.990000</td>\n",
       "    </tr>\n",
       "  </tbody>\n",
       "</table>\n",
       "</div>"
      ],
      "text/plain": [
       "             price\n",
       "count   705.000000\n",
       "mean    219.987163\n",
       "std     276.404104\n",
       "min       8.990000\n",
       "25%      52.990000\n",
       "50%     109.990000\n",
       "75%     259.990000\n",
       "max    1499.990000"
      ]
     },
     "execution_count": 32,
     "metadata": {},
     "output_type": "execute_result"
    }
   ],
   "source": [
    "df_data.describe()"
   ]
  },
  {
   "cell_type": "markdown",
   "metadata": {},
   "source": [
    "Now that I have my subset...\n",
    "- Standardize and potentially deskew the `price`.\n",
    "- Dummy the `spirit_style` column.\n",
    "- Vectorize the `taste_list` column."
   ]
  },
  {
   "cell_type": "code",
   "execution_count": 34,
   "metadata": {},
   "outputs": [
    {
     "data": {
      "text/html": [
       "<div>\n",
       "<style>\n",
       "    .dataframe thead tr:only-child th {\n",
       "        text-align: right;\n",
       "    }\n",
       "\n",
       "    .dataframe thead th {\n",
       "        text-align: left;\n",
       "    }\n",
       "\n",
       "    .dataframe tbody tr th {\n",
       "        vertical-align: top;\n",
       "    }\n",
       "</style>\n",
       "<table border=\"1\" class=\"dataframe\">\n",
       "  <thead>\n",
       "    <tr style=\"text-align: right;\">\n",
       "      <th></th>\n",
       "      <th>price</th>\n",
       "      <th>spirit_style</th>\n",
       "      <th>taste_list</th>\n",
       "    </tr>\n",
       "    <tr>\n",
       "      <th>title</th>\n",
       "      <th></th>\n",
       "      <th></th>\n",
       "      <th></th>\n",
       "    </tr>\n",
       "  </thead>\n",
       "  <tbody>\n",
       "    <tr>\n",
       "      <th>A.D. Rattray Ben Nevis 17Yr Single Cask Barrel Select</th>\n",
       "      <td>99.99</td>\n",
       "      <td>Single Malt</td>\n",
       "      <td>[' delicate', 'apple', 'grass', 'vanilla', 'co...</td>\n",
       "    </tr>\n",
       "    <tr>\n",
       "      <th>A.D. Rattray Girvan 1964 50 Yr</th>\n",
       "      <td>899.99</td>\n",
       "      <td>Single Malt</td>\n",
       "      <td>[' rich', 'orange', 'chocolate', 'nut', 'long ']</td>\n",
       "    </tr>\n",
       "    <tr>\n",
       "      <th>A.D. Rattray Glen Elgin 1995 Single Barrel Select</th>\n",
       "      <td>119.99</td>\n",
       "      <td>Single Malt</td>\n",
       "      <td>[' medium', 'vanilla', 'spice', 'long ']</td>\n",
       "    </tr>\n",
       "    <tr>\n",
       "      <th>A.D. Rattray Stronachie 12yr</th>\n",
       "      <td>49.99</td>\n",
       "      <td>Single Malt</td>\n",
       "      <td>[' peat', 'nut ']</td>\n",
       "    </tr>\n",
       "    <tr>\n",
       "      <th>Aberfeldy 12 yo</th>\n",
       "      <td>32.99</td>\n",
       "      <td>Single Malt</td>\n",
       "      <td>[' rich', 'spice', 'honey', 'long ']</td>\n",
       "    </tr>\n",
       "  </tbody>\n",
       "</table>\n",
       "</div>"
      ],
      "text/plain": [
       "                                                     price spirit_style  \\\n",
       "title                                                                     \n",
       "A.D. Rattray Ben Nevis 17Yr Single Cask Barrel ...   99.99  Single Malt   \n",
       "A.D. Rattray Girvan 1964 50 Yr                      899.99  Single Malt   \n",
       "A.D. Rattray Glen Elgin 1995 Single Barrel Select   119.99  Single Malt   \n",
       "A.D. Rattray Stronachie 12yr                         49.99  Single Malt   \n",
       "Aberfeldy 12 yo                                      32.99  Single Malt   \n",
       "\n",
       "                                                                                           taste_list  \n",
       "title                                                                                                  \n",
       "A.D. Rattray Ben Nevis 17Yr Single Cask Barrel ...  [' delicate', 'apple', 'grass', 'vanilla', 'co...  \n",
       "A.D. Rattray Girvan 1964 50 Yr                       [' rich', 'orange', 'chocolate', 'nut', 'long ']  \n",
       "A.D. Rattray Glen Elgin 1995 Single Barrel Select            [' medium', 'vanilla', 'spice', 'long ']  \n",
       "A.D. Rattray Stronachie 12yr                                                        [' peat', 'nut ']  \n",
       "Aberfeldy 12 yo                                                  [' rich', 'spice', 'honey', 'long ']  "
      ]
     },
     "execution_count": 34,
     "metadata": {},
     "output_type": "execute_result"
    }
   ],
   "source": [
    "# eyes on check\n",
    "df_data.head()"
   ]
  },
  {
   "cell_type": "code",
   "execution_count": 39,
   "metadata": {},
   "outputs": [],
   "source": [
    "# apply eval() to convert the string object to a list\n",
    "df_data['taste_list'] = df_data['taste_list'].apply(eval) "
   ]
  },
  {
   "cell_type": "code",
   "execution_count": 41,
   "metadata": {},
   "outputs": [
    {
     "data": {
      "text/plain": [
       "[' delicate', 'apple', 'grass', 'vanilla', 'complex ']"
      ]
     },
     "execution_count": 41,
     "metadata": {},
     "output_type": "execute_result"
    }
   ],
   "source": [
    "# verify success of eval\n",
    "df_data.iloc[0]['taste_list']"
   ]
  },
  {
   "cell_type": "code",
   "execution_count": 42,
   "metadata": {
    "collapsed": true
   },
   "outputs": [],
   "source": [
    "from sklearn.feature_extraction.text import CountVectorizer"
   ]
  },
  {
   "cell_type": "code",
   "execution_count": 43,
   "metadata": {
    "collapsed": true
   },
   "outputs": [],
   "source": [
    "# convert the list of works into a single string with space separators.\n",
    "df_data['taste_vector'] = df_data['taste_list'].apply(lambda x : ' '.join(x))"
   ]
  },
  {
   "cell_type": "code",
   "execution_count": 44,
   "metadata": {
    "collapsed": true
   },
   "outputs": [],
   "source": [
    "# use count vectorizer to get the notes dataframe\n",
    "tvec = CountVectorizer()\n",
    "\n",
    "notes_df = pd.DataFrame(tvec.fit_transform(df_data['taste_vector']).todense(),\n",
    "             columns = tvec.get_feature_names())"
   ]
  },
  {
   "cell_type": "code",
   "execution_count": 106,
   "metadata": {},
   "outputs": [
    {
     "data": {
      "text/html": [
       "<div>\n",
       "<style>\n",
       "    .dataframe thead tr:only-child th {\n",
       "        text-align: right;\n",
       "    }\n",
       "\n",
       "    .dataframe thead th {\n",
       "        text-align: left;\n",
       "    }\n",
       "\n",
       "    .dataframe tbody tr th {\n",
       "        vertical-align: top;\n",
       "    }\n",
       "</style>\n",
       "<table border=\"1\" class=\"dataframe\">\n",
       "  <thead>\n",
       "    <tr style=\"text-align: right;\">\n",
       "      <th></th>\n",
       "      <th>almond</th>\n",
       "      <th>amoroso</th>\n",
       "      <th>anise</th>\n",
       "      <th>apple</th>\n",
       "      <th>apricot</th>\n",
       "      <th>baked</th>\n",
       "      <th>balanced</th>\n",
       "      <th>barley</th>\n",
       "      <th>berry</th>\n",
       "      <th>blackberry</th>\n",
       "      <th>...</th>\n",
       "      <th>sweet</th>\n",
       "      <th>tar</th>\n",
       "      <th>toast</th>\n",
       "      <th>tobacco</th>\n",
       "      <th>toffee</th>\n",
       "      <th>tropical</th>\n",
       "      <th>vanilla</th>\n",
       "      <th>walnut</th>\n",
       "      <th>wood</th>\n",
       "      <th>yeast</th>\n",
       "    </tr>\n",
       "    <tr>\n",
       "      <th>name</th>\n",
       "      <th></th>\n",
       "      <th></th>\n",
       "      <th></th>\n",
       "      <th></th>\n",
       "      <th></th>\n",
       "      <th></th>\n",
       "      <th></th>\n",
       "      <th></th>\n",
       "      <th></th>\n",
       "      <th></th>\n",
       "      <th></th>\n",
       "      <th></th>\n",
       "      <th></th>\n",
       "      <th></th>\n",
       "      <th></th>\n",
       "      <th></th>\n",
       "      <th></th>\n",
       "      <th></th>\n",
       "      <th></th>\n",
       "      <th></th>\n",
       "      <th></th>\n",
       "    </tr>\n",
       "  </thead>\n",
       "  <tbody>\n",
       "    <tr>\n",
       "      <th>A.D. Rattray Ben Nevis 17Yr Single Cask Barrel Select</th>\n",
       "      <td>0</td>\n",
       "      <td>0</td>\n",
       "      <td>0</td>\n",
       "      <td>1</td>\n",
       "      <td>0</td>\n",
       "      <td>0</td>\n",
       "      <td>0</td>\n",
       "      <td>0</td>\n",
       "      <td>0</td>\n",
       "      <td>0</td>\n",
       "      <td>...</td>\n",
       "      <td>0</td>\n",
       "      <td>0</td>\n",
       "      <td>0</td>\n",
       "      <td>0</td>\n",
       "      <td>0</td>\n",
       "      <td>0</td>\n",
       "      <td>1</td>\n",
       "      <td>0</td>\n",
       "      <td>0</td>\n",
       "      <td>0</td>\n",
       "    </tr>\n",
       "    <tr>\n",
       "      <th>A.D. Rattray Girvan 1964 50 Yr</th>\n",
       "      <td>0</td>\n",
       "      <td>0</td>\n",
       "      <td>0</td>\n",
       "      <td>0</td>\n",
       "      <td>0</td>\n",
       "      <td>0</td>\n",
       "      <td>0</td>\n",
       "      <td>0</td>\n",
       "      <td>0</td>\n",
       "      <td>0</td>\n",
       "      <td>...</td>\n",
       "      <td>0</td>\n",
       "      <td>0</td>\n",
       "      <td>0</td>\n",
       "      <td>0</td>\n",
       "      <td>0</td>\n",
       "      <td>0</td>\n",
       "      <td>0</td>\n",
       "      <td>0</td>\n",
       "      <td>0</td>\n",
       "      <td>0</td>\n",
       "    </tr>\n",
       "  </tbody>\n",
       "</table>\n",
       "<p>2 rows × 79 columns</p>\n",
       "</div>"
      ],
      "text/plain": [
       "                                                    almond  amoroso  anise  \\\n",
       "name                                                                         \n",
       "A.D. Rattray Ben Nevis 17Yr Single Cask Barrel ...       0        0      0   \n",
       "A.D. Rattray Girvan 1964 50 Yr                           0        0      0   \n",
       "\n",
       "                                                    apple  apricot  baked  \\\n",
       "name                                                                        \n",
       "A.D. Rattray Ben Nevis 17Yr Single Cask Barrel ...      1        0      0   \n",
       "A.D. Rattray Girvan 1964 50 Yr                          0        0      0   \n",
       "\n",
       "                                                    balanced  barley  berry  \\\n",
       "name                                                                          \n",
       "A.D. Rattray Ben Nevis 17Yr Single Cask Barrel ...         0       0      0   \n",
       "A.D. Rattray Girvan 1964 50 Yr                             0       0      0   \n",
       "\n",
       "                                                    blackberry  ...    sweet  \\\n",
       "name                                                            ...            \n",
       "A.D. Rattray Ben Nevis 17Yr Single Cask Barrel ...           0  ...        0   \n",
       "A.D. Rattray Girvan 1964 50 Yr                               0  ...        0   \n",
       "\n",
       "                                                    tar  toast  tobacco  \\\n",
       "name                                                                      \n",
       "A.D. Rattray Ben Nevis 17Yr Single Cask Barrel ...    0      0        0   \n",
       "A.D. Rattray Girvan 1964 50 Yr                        0      0        0   \n",
       "\n",
       "                                                    toffee  tropical  vanilla  \\\n",
       "name                                                                            \n",
       "A.D. Rattray Ben Nevis 17Yr Single Cask Barrel ...       0         0        1   \n",
       "A.D. Rattray Girvan 1964 50 Yr                           0         0        0   \n",
       "\n",
       "                                                    walnut  wood  yeast  \n",
       "name                                                                     \n",
       "A.D. Rattray Ben Nevis 17Yr Single Cask Barrel ...       0     0      0  \n",
       "A.D. Rattray Girvan 1964 50 Yr                           0     0      0  \n",
       "\n",
       "[2 rows x 79 columns]"
      ]
     },
     "execution_count": 106,
     "metadata": {},
     "output_type": "execute_result"
    }
   ],
   "source": [
    "# check out the count vector\n",
    "notes_df.head(2)"
   ]
  },
  {
   "cell_type": "code",
   "execution_count": 47,
   "metadata": {},
   "outputs": [],
   "source": [
    "# remove seed column as it is perfectly correlated to mustard and thus not necessary.\n",
    "notes_df.drop('seed', axis =1, inplace = True)"
   ]
  },
  {
   "cell_type": "markdown",
   "metadata": {},
   "source": [
    "## Weight of Price\n",
    "\n",
    "I want to have price be a consideration of the recommendation, but I don't want it to be too influential.  This is difficult because I do not have a normal distribution and it is very skewed to the right. Even though I've removed significant outliers, these expensive scotches could still be very much outside the standard distribution and thus a standardized value of 3 could exist which may put it quite far outside the expectation and really penalize it.\n",
    "\n",
    "- I can use a de-skewing tactic by taking the log in combination with standardization, but i'm still uncertain in which order I should do this or if I even absolutely should de-skew."
   ]
  },
  {
   "cell_type": "code",
   "execution_count": 67,
   "metadata": {
    "collapsed": true
   },
   "outputs": [],
   "source": [
    "# using log to convert price into a logrithmic value\n",
    "# log1p i natural log using Euler's Number\n",
    "df_data['price_logged'] = np.log1p(df_data['price'])"
   ]
  },
  {
   "cell_type": "code",
   "execution_count": 54,
   "metadata": {},
   "outputs": [],
   "source": [
    "# scaling data, applying standard scaler to normal price and the logged transformation\n",
    "from sklearn.preprocessing import StandardScaler\n",
    "ss = StandardScaler()\n",
    "\n",
    "df_data['price_scaled'] = ss.fit_transform(df_data['price'].values.reshape(-1,1))\n",
    "df_data['price_logged_scaled'] = ss.fit_transform(df_data['price_logged'].values.reshape(-1,1))\n"
   ]
  },
  {
   "cell_type": "code",
   "execution_count": 59,
   "metadata": {},
   "outputs": [],
   "source": [
    "# create a column that logs the scaled price. \n",
    "df_data['price_scaled_logged'] = np.log1p(df_data['price_scaled'])"
   ]
  },
  {
   "cell_type": "code",
   "execution_count": 69,
   "metadata": {},
   "outputs": [
    {
     "data": {
      "text/plain": [
       "<matplotlib.text.Text at 0x114b41fd0>"
      ]
     },
     "execution_count": 69,
     "metadata": {},
     "output_type": "execute_result"
    },
    {
     "data": {
      "image/png": "[encoded data removed]",
      "text/plain": [
       "<matplotlib.figure.Figure at 0x114924358>"
      ]
     },
     "metadata": {},
     "output_type": "display_data"
    }
   ],
   "source": [
    "# Check out the distributions of the 5 price columns relative to scaling and de-skewing.\n",
    "plt.figure(figsize = (18, 6))\n",
    "plt.subplot(1,5,1)\n",
    "df_data['price'].hist(bins = 20)\n",
    "plt.title('Price')\n",
    "\n",
    "plt.subplot(1,5,2)\n",
    "df_data['price_logged'].hist(bins = 20)\n",
    "plt.title('Price Logged')\n",
    "\n",
    "plt.subplot(1,5,3)\n",
    "df_data['price_logged_scaled'].hist(bins = 20)\n",
    "plt.title('Price Logged Scaled')\n",
    "\n",
    "plt.subplot(1,5,4)\n",
    "df_data['price_scaled'].hist(bins = 20)\n",
    "plt.title('Price Scaled')\n",
    "\n",
    "plt.subplot(1,5,5)\n",
    "df_data['price_scaled_logged'].hist(bins = 20)\n",
    "plt.title('Price Scaled Logged')"
   ]
  },
  {
   "cell_type": "code",
   "execution_count": 70,
   "metadata": {},
   "outputs": [
    {
     "data": {
      "text/plain": [
       "count     705.000000\n",
       "mean      219.987163\n",
       "std       276.404104\n",
       "min         8.990000\n",
       "25%        52.990000\n",
       "50%       109.990000\n",
       "75%       259.990000\n",
       "max      1499.990000\n",
       "Name: price, dtype: float64"
      ]
     },
     "execution_count": 70,
     "metadata": {},
     "output_type": "execute_result"
    }
   ],
   "source": [
    "df_data['price'].describe()"
   ]
  },
  {
   "cell_type": "markdown",
   "metadata": {},
   "source": [
    "Now I have a new consideration.  \n",
    "- `Price Logged Scaled` would make price a **more** important feature.\n",
    "    - Seems like it will penalize lower price scotches \n",
    "- `Price Scaled Logged` would make price a **less** important feature.\n",
    "\n",
    "\n",
    "_I think im going to use just `Price Scaled`._\n",
    "\n",
    "_Ideally, I would like price to be an automatic consideration in that if a user puts in lower priced scotches then price will be more important for the recommendation, however if they put in higher price scotches than price will be less relevant as someone that enjoyed a `$150` bottle of scotch would be fine purchasing a `$40` bottle of scotch however the inverse of that is probably not true._\n",
    "\n",
    "_Later on I decide the my function has an argument that dictates the importance of price to the user such that is is \"Not Important\" (feature is removed), \"Somewhat important\" (scaler of 1.5 applied) and \"Very Important\" (Scaler of 2.0 applied)._"
   ]
  },
  {
   "cell_type": "code",
   "execution_count": 74,
   "metadata": {},
   "outputs": [],
   "source": [
    "# dummy the spirit style variable\n",
    "df_data = pd.concat([df_data, pd.get_dummies(df_data['spirit_style'])], axis =1)"
   ]
  },
  {
   "cell_type": "code",
   "execution_count": 78,
   "metadata": {},
   "outputs": [
    {
     "data": {
      "text/plain": [
       "Single Malt       602\n",
       "Blended Scotch     92\n",
       "Name: spirit_style, dtype: int64"
      ]
     },
     "execution_count": 78,
     "metadata": {},
     "output_type": "execute_result"
    }
   ],
   "source": [
    "df_data['spirit_style'].value_counts()"
   ]
  },
  {
   "cell_type": "markdown",
   "metadata": {},
   "source": [
    "Single malt is the overwhelming default thus I'll drop that column and just utilize the Blended Scotch dummy column.  \n",
    "- Given that `Blended Scotch` and `Single Malt` columns express the same information, I only need to utilize one of them.  That being said, if I wanted this spirit style to be more impactful, I could leave both of the columns in or double the values in the one column I kept.  This will double their distances between a single malt scotch compared to a blended scotch."
   ]
  },
  {
   "cell_type": "code",
   "execution_count": 81,
   "metadata": {},
   "outputs": [
    {
     "data": {
      "text/plain": [
       "(705, 11)"
      ]
     },
     "execution_count": 81,
     "metadata": {},
     "output_type": "execute_result"
    }
   ],
   "source": [
    "# confirming shapes of dataframes before joining\n",
    "df_data.shape"
   ]
  },
  {
   "cell_type": "code",
   "execution_count": 80,
   "metadata": {},
   "outputs": [
    {
     "data": {
      "text/plain": [
       "(705, 79)"
      ]
     },
     "execution_count": 80,
     "metadata": {},
     "output_type": "execute_result"
    }
   ],
   "source": [
    "notes_df.shape"
   ]
  },
  {
   "cell_type": "code",
   "execution_count": 86,
   "metadata": {},
   "outputs": [],
   "source": [
    "# setting name to index for easier join\n",
    "notes_df['name'] = df_data.index\n",
    "notes_df.set_index('name', inplace = True)"
   ]
  },
  {
   "cell_type": "code",
   "execution_count": 91,
   "metadata": {},
   "outputs": [],
   "source": [
    "# concatting frames\n",
    "data_df = pd.concat([df_data, notes_df], axis =1,)"
   ]
  },
  {
   "cell_type": "code",
   "execution_count": 92,
   "metadata": {},
   "outputs": [
    {
     "data": {
      "text/html": [
       "<div>\n",
       "<style>\n",
       "    .dataframe thead tr:only-child th {\n",
       "        text-align: right;\n",
       "    }\n",
       "\n",
       "    .dataframe thead th {\n",
       "        text-align: left;\n",
       "    }\n",
       "\n",
       "    .dataframe tbody tr th {\n",
       "        vertical-align: top;\n",
       "    }\n",
       "</style>\n",
       "<table border=\"1\" class=\"dataframe\">\n",
       "  <thead>\n",
       "    <tr style=\"text-align: right;\">\n",
       "      <th></th>\n",
       "      <th>price</th>\n",
       "      <th>spirit_style</th>\n",
       "      <th>taste_list</th>\n",
       "      <th>taste_vector</th>\n",
       "      <th>price_logged</th>\n",
       "      <th>price_scaled</th>\n",
       "      <th>price_logged_scaled</th>\n",
       "      <th>prices_scaled_logged</th>\n",
       "      <th>price_scaled_logged</th>\n",
       "      <th>Blended Scotch</th>\n",
       "      <th>...</th>\n",
       "      <th>sweet</th>\n",
       "      <th>tar</th>\n",
       "      <th>toast</th>\n",
       "      <th>tobacco</th>\n",
       "      <th>toffee</th>\n",
       "      <th>tropical</th>\n",
       "      <th>vanilla</th>\n",
       "      <th>walnut</th>\n",
       "      <th>wood</th>\n",
       "      <th>yeast</th>\n",
       "    </tr>\n",
       "  </thead>\n",
       "  <tbody>\n",
       "    <tr>\n",
       "      <th>A.D. Rattray Ben Nevis 17Yr Single Cask Barrel Select</th>\n",
       "      <td>99.99</td>\n",
       "      <td>Single Malt</td>\n",
       "      <td>[ delicate, apple, grass, vanilla, complex ]</td>\n",
       "      <td>delicate apple grass vanilla complex</td>\n",
       "      <td>4.615022</td>\n",
       "      <td>-0.434445</td>\n",
       "      <td>-0.149031</td>\n",
       "      <td>-0.569948</td>\n",
       "      <td>-0.569948</td>\n",
       "      <td>0</td>\n",
       "      <td>...</td>\n",
       "      <td>0</td>\n",
       "      <td>0</td>\n",
       "      <td>0</td>\n",
       "      <td>0</td>\n",
       "      <td>0</td>\n",
       "      <td>0</td>\n",
       "      <td>1</td>\n",
       "      <td>0</td>\n",
       "      <td>0</td>\n",
       "      <td>0</td>\n",
       "    </tr>\n",
       "    <tr>\n",
       "      <th>A.D. Rattray Girvan 1964 50 Yr</th>\n",
       "      <td>899.99</td>\n",
       "      <td>Single Malt</td>\n",
       "      <td>[ rich, orange, chocolate, nut, long ]</td>\n",
       "      <td>rich orange chocolate nut long</td>\n",
       "      <td>6.803494</td>\n",
       "      <td>2.461923</td>\n",
       "      <td>1.811362</td>\n",
       "      <td>1.241824</td>\n",
       "      <td>1.241824</td>\n",
       "      <td>0</td>\n",
       "      <td>...</td>\n",
       "      <td>0</td>\n",
       "      <td>0</td>\n",
       "      <td>0</td>\n",
       "      <td>0</td>\n",
       "      <td>0</td>\n",
       "      <td>0</td>\n",
       "      <td>0</td>\n",
       "      <td>0</td>\n",
       "      <td>0</td>\n",
       "      <td>0</td>\n",
       "    </tr>\n",
       "    <tr>\n",
       "      <th>A.D. Rattray Glen Elgin 1995 Single Barrel Select</th>\n",
       "      <td>119.99</td>\n",
       "      <td>Single Malt</td>\n",
       "      <td>[ medium, vanilla, spice, long ]</td>\n",
       "      <td>medium vanilla spice long</td>\n",
       "      <td>4.795708</td>\n",
       "      <td>-0.362036</td>\n",
       "      <td>0.012825</td>\n",
       "      <td>-0.449473</td>\n",
       "      <td>-0.449473</td>\n",
       "      <td>0</td>\n",
       "      <td>...</td>\n",
       "      <td>0</td>\n",
       "      <td>0</td>\n",
       "      <td>0</td>\n",
       "      <td>0</td>\n",
       "      <td>0</td>\n",
       "      <td>0</td>\n",
       "      <td>1</td>\n",
       "      <td>0</td>\n",
       "      <td>0</td>\n",
       "      <td>0</td>\n",
       "    </tr>\n",
       "    <tr>\n",
       "      <th>A.D. Rattray Stronachie 12yr</th>\n",
       "      <td>49.99</td>\n",
       "      <td>Single Malt</td>\n",
       "      <td>[ peat, nut ]</td>\n",
       "      <td>peat nut</td>\n",
       "      <td>3.931630</td>\n",
       "      <td>-0.615468</td>\n",
       "      <td>-0.761200</td>\n",
       "      <td>-0.955728</td>\n",
       "      <td>-0.955728</td>\n",
       "      <td>0</td>\n",
       "      <td>...</td>\n",
       "      <td>0</td>\n",
       "      <td>0</td>\n",
       "      <td>0</td>\n",
       "      <td>0</td>\n",
       "      <td>0</td>\n",
       "      <td>0</td>\n",
       "      <td>0</td>\n",
       "      <td>0</td>\n",
       "      <td>0</td>\n",
       "      <td>0</td>\n",
       "    </tr>\n",
       "    <tr>\n",
       "      <th>Aberfeldy 12 yo</th>\n",
       "      <td>32.99</td>\n",
       "      <td>Single Malt</td>\n",
       "      <td>[ rich, spice, honey, long ]</td>\n",
       "      <td>rich spice honey long</td>\n",
       "      <td>3.526066</td>\n",
       "      <td>-0.677016</td>\n",
       "      <td>-1.124496</td>\n",
       "      <td>-1.130152</td>\n",
       "      <td>-1.130152</td>\n",
       "      <td>0</td>\n",
       "      <td>...</td>\n",
       "      <td>0</td>\n",
       "      <td>0</td>\n",
       "      <td>0</td>\n",
       "      <td>0</td>\n",
       "      <td>0</td>\n",
       "      <td>0</td>\n",
       "      <td>0</td>\n",
       "      <td>0</td>\n",
       "      <td>0</td>\n",
       "      <td>0</td>\n",
       "    </tr>\n",
       "  </tbody>\n",
       "</table>\n",
       "<p>5 rows × 90 columns</p>\n",
       "</div>"
      ],
      "text/plain": [
       "                                                     price spirit_style  \\\n",
       "A.D. Rattray Ben Nevis 17Yr Single Cask Barrel ...   99.99  Single Malt   \n",
       "A.D. Rattray Girvan 1964 50 Yr                      899.99  Single Malt   \n",
       "A.D. Rattray Glen Elgin 1995 Single Barrel Select   119.99  Single Malt   \n",
       "A.D. Rattray Stronachie 12yr                         49.99  Single Malt   \n",
       "Aberfeldy 12 yo                                      32.99  Single Malt   \n",
       "\n",
       "                                                                                      taste_list  \\\n",
       "A.D. Rattray Ben Nevis 17Yr Single Cask Barrel ...  [ delicate, apple, grass, vanilla, complex ]   \n",
       "A.D. Rattray Girvan 1964 50 Yr                            [ rich, orange, chocolate, nut, long ]   \n",
       "A.D. Rattray Glen Elgin 1995 Single Barrel Select               [ medium, vanilla, spice, long ]   \n",
       "A.D. Rattray Stronachie 12yr                                                       [ peat, nut ]   \n",
       "Aberfeldy 12 yo                                                     [ rich, spice, honey, long ]   \n",
       "\n",
       "                                                                              taste_vector  \\\n",
       "A.D. Rattray Ben Nevis 17Yr Single Cask Barrel ...   delicate apple grass vanilla complex    \n",
       "A.D. Rattray Girvan 1964 50 Yr                             rich orange chocolate nut long    \n",
       "A.D. Rattray Glen Elgin 1995 Single Barrel Select               medium vanilla spice long    \n",
       "A.D. Rattray Stronachie 12yr                                                     peat nut    \n",
       "Aberfeldy 12 yo                                                     rich spice honey long    \n",
       "\n",
       "                                                    price_logged  \\\n",
       "A.D. Rattray Ben Nevis 17Yr Single Cask Barrel ...      4.615022   \n",
       "A.D. Rattray Girvan 1964 50 Yr                          6.803494   \n",
       "A.D. Rattray Glen Elgin 1995 Single Barrel Select       4.795708   \n",
       "A.D. Rattray Stronachie 12yr                            3.931630   \n",
       "Aberfeldy 12 yo                                         3.526066   \n",
       "\n",
       "                                                    price_scaled  \\\n",
       "A.D. Rattray Ben Nevis 17Yr Single Cask Barrel ...     -0.434445   \n",
       "A.D. Rattray Girvan 1964 50 Yr                          2.461923   \n",
       "A.D. Rattray Glen Elgin 1995 Single Barrel Select      -0.362036   \n",
       "A.D. Rattray Stronachie 12yr                           -0.615468   \n",
       "Aberfeldy 12 yo                                        -0.677016   \n",
       "\n",
       "                                                    price_logged_scaled  \\\n",
       "A.D. Rattray Ben Nevis 17Yr Single Cask Barrel ...            -0.149031   \n",
       "A.D. Rattray Girvan 1964 50 Yr                                 1.811362   \n",
       "A.D. Rattray Glen Elgin 1995 Single Barrel Select              0.012825   \n",
       "A.D. Rattray Stronachie 12yr                                  -0.761200   \n",
       "Aberfeldy 12 yo                                               -1.124496   \n",
       "\n",
       "                                                    prices_scaled_logged  \\\n",
       "A.D. Rattray Ben Nevis 17Yr Single Cask Barrel ...             -0.569948   \n",
       "A.D. Rattray Girvan 1964 50 Yr                                  1.241824   \n",
       "A.D. Rattray Glen Elgin 1995 Single Barrel Select              -0.449473   \n",
       "A.D. Rattray Stronachie 12yr                                   -0.955728   \n",
       "Aberfeldy 12 yo                                                -1.130152   \n",
       "\n",
       "                                                    price_scaled_logged  \\\n",
       "A.D. Rattray Ben Nevis 17Yr Single Cask Barrel ...            -0.569948   \n",
       "A.D. Rattray Girvan 1964 50 Yr                                 1.241824   \n",
       "A.D. Rattray Glen Elgin 1995 Single Barrel Select             -0.449473   \n",
       "A.D. Rattray Stronachie 12yr                                  -0.955728   \n",
       "Aberfeldy 12 yo                                               -1.130152   \n",
       "\n",
       "                                                    Blended Scotch  ...    \\\n",
       "A.D. Rattray Ben Nevis 17Yr Single Cask Barrel ...               0  ...     \n",
       "A.D. Rattray Girvan 1964 50 Yr                                   0  ...     \n",
       "A.D. Rattray Glen Elgin 1995 Single Barrel Select                0  ...     \n",
       "A.D. Rattray Stronachie 12yr                                     0  ...     \n",
       "Aberfeldy 12 yo                                                  0  ...     \n",
       "\n",
       "                                                    sweet  tar  toast  \\\n",
       "A.D. Rattray Ben Nevis 17Yr Single Cask Barrel ...      0    0      0   \n",
       "A.D. Rattray Girvan 1964 50 Yr                          0    0      0   \n",
       "A.D. Rattray Glen Elgin 1995 Single Barrel Select       0    0      0   \n",
       "A.D. Rattray Stronachie 12yr                            0    0      0   \n",
       "Aberfeldy 12 yo                                         0    0      0   \n",
       "\n",
       "                                                    tobacco  toffee  tropical  \\\n",
       "A.D. Rattray Ben Nevis 17Yr Single Cask Barrel ...        0       0         0   \n",
       "A.D. Rattray Girvan 1964 50 Yr                            0       0         0   \n",
       "A.D. Rattray Glen Elgin 1995 Single Barrel Select         0       0         0   \n",
       "A.D. Rattray Stronachie 12yr                              0       0         0   \n",
       "Aberfeldy 12 yo                                           0       0         0   \n",
       "\n",
       "                                                    vanilla  walnut  wood  \\\n",
       "A.D. Rattray Ben Nevis 17Yr Single Cask Barrel ...        1       0     0   \n",
       "A.D. Rattray Girvan 1964 50 Yr                            0       0     0   \n",
       "A.D. Rattray Glen Elgin 1995 Single Barrel Select         1       0     0   \n",
       "A.D. Rattray Stronachie 12yr                              0       0     0   \n",
       "Aberfeldy 12 yo                                           0       0     0   \n",
       "\n",
       "                                                    yeast  \n",
       "A.D. Rattray Ben Nevis 17Yr Single Cask Barrel ...      0  \n",
       "A.D. Rattray Girvan 1964 50 Yr                          0  \n",
       "A.D. Rattray Glen Elgin 1995 Single Barrel Select       0  \n",
       "A.D. Rattray Stronachie 12yr                            0  \n",
       "Aberfeldy 12 yo                                         0  \n",
       "\n",
       "[5 rows x 90 columns]"
      ]
     },
     "execution_count": 92,
     "metadata": {},
     "output_type": "execute_result"
    }
   ],
   "source": [
    "# Data Validation\n",
    "data_df.head()"
   ]
  },
  {
   "cell_type": "markdown",
   "metadata": {},
   "source": [
    "## Slice the data and save to CSV"
   ]
  },
  {
   "cell_type": "code",
   "execution_count": 99,
   "metadata": {},
   "outputs": [],
   "source": [
    "# subsetting my data to the columns wanted for recommendation\n",
    "rec_cols = ['price_scaled','Blended Scotch']\n",
    "rec_cols.extend(list(notes_df.columns))\n",
    "rec_df = data_df[rec_cols]\n"
   ]
  },
  {
   "cell_type": "code",
   "execution_count": 101,
   "metadata": {},
   "outputs": [],
   "source": [
    "rec_df.to_csv('./data/simple_rec_model_data.csv', )"
   ]
  },
  {
   "cell_type": "code",
   "execution_count": 104,
   "metadata": {},
   "outputs": [],
   "source": [
    "df_info.to_csv('./data/simple_rec_info_data.csv')"
   ]
  },
  {
   "cell_type": "code",
   "execution_count": null,
   "metadata": {
    "collapsed": true
   },
   "outputs": [],
   "source": []
  }
 ],
 "metadata": {
  "kernelspec": {
   "display_name": "Python 3",
   "language": "python",
   "name": "python3"
  },
  "language_info": {
   "codemirror_mode": {
    "name": "ipython",
    "version": 3
   },
   "file_extension": ".py",
   "mimetype": "text/x-python",
   "name": "python",
   "nbconvert_exporter": "python",
   "pygments_lexer": "ipython3",
   "version": "3.7.0"
  }
 },
 "nbformat": 4,
 "nbformat_minor": 2
}
